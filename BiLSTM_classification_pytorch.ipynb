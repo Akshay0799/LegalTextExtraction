{
  "cells": [
    {
      "cell_type": "markdown",
      "metadata": {
        "id": "VHK7PYIbtrgr"
      },
      "source": [
        "## IMPORTS "
      ]
    },
    {
      "cell_type": "code",
      "execution_count": null,
      "metadata": {
        "colab": {
          "base_uri": "https://localhost:8080/"
        },
        "id": "6waH525HuQ40",
        "outputId": "45fc514b-b591-4f49-8bc8-208ab32b102f"
      },
      "outputs": [
        {
          "output_type": "stream",
          "name": "stdout",
          "text": [
            "Mounted at /content/drive\n"
          ]
        }
      ],
      "source": [
        "from google.colab import drive\n",
        "drive.mount('/content/drive')"
      ]
    },
    {
      "cell_type": "code",
      "execution_count": null,
      "metadata": {
        "colab": {
          "base_uri": "https://localhost:8080/"
        },
        "id": "lmn-vJzityPq",
        "outputId": "baf460a0-74eb-464c-bf41-1912f89346ab"
      },
      "outputs": [
        {
          "output_type": "stream",
          "name": "stdout",
          "text": [
            "/content/drive/MyDrive/lstm\n"
          ]
        }
      ],
      "source": [
        "%cd drive/MyDrive/lstm"
      ]
    },
    {
      "cell_type": "code",
      "execution_count": null,
      "metadata": {
        "colab": {
          "base_uri": "https://localhost:8080/"
        },
        "id": "jgn2iuwqxVwx",
        "outputId": "e7d52e1d-cf01-40ed-fc82-af70b0ed2264"
      },
      "outputs": [
        {
          "output_type": "stream",
          "name": "stdout",
          "text": [
            "checkpoints  embedding\tlegal_data.xlsx  SFCR-Akshay11.xlsx\n"
          ]
        }
      ],
      "source": [
        "!ls"
      ]
    },
    {
      "cell_type": "code",
      "execution_count": null,
      "metadata": {
        "id": "9j5EVDmz7B9F"
      },
      "outputs": [],
      "source": [
        "!unzip glove.840B.300d.txt.zip"
      ]
    },
    {
      "cell_type": "code",
      "execution_count": null,
      "metadata": {
        "id": "yz5JX3jiunwZ"
      },
      "outputs": [],
      "source": [
        "!unzip drugs_train.zip "
      ]
    },
    {
      "cell_type": "code",
      "execution_count": null,
      "metadata": {
        "colab": {
          "base_uri": "https://localhost:8080/"
        },
        "id": "1qjes83Xt_v1",
        "outputId": "2145d008-da5f-422b-81e0-130ad760a903"
      },
      "outputs": [
        {
          "output_type": "stream",
          "name": "stdout",
          "text": [
            "Looking in indexes: https://pypi.org/simple, https://us-python.pkg.dev/colab-wheels/public/simple/\n",
            "Collecting aenum\n",
            "  Downloading aenum-3.1.11-py3-none-any.whl (131 kB)\n",
            "\u001b[2K     \u001b[90m━━━━━━━━━━━━━━━━━━━━━━━━━━━━━━━━━━━━━━━\u001b[0m \u001b[32m131.5/131.5 KB\u001b[0m \u001b[31m2.6 MB/s\u001b[0m eta \u001b[36m0:00:00\u001b[0m\n",
            "\u001b[?25hInstalling collected packages: aenum\n",
            "Successfully installed aenum-3.1.11\n",
            "Looking in indexes: https://pypi.org/simple, https://us-python.pkg.dev/colab-wheels/public/simple/\n",
            "Collecting optuna\n",
            "  Downloading optuna-3.1.0-py3-none-any.whl (365 kB)\n",
            "\u001b[2K     \u001b[90m━━━━━━━━━━━━━━━━━━━━━━━━━━━━━━━━━━━━━━━\u001b[0m \u001b[32m365.3/365.3 KB\u001b[0m \u001b[31m7.3 MB/s\u001b[0m eta \u001b[36m0:00:00\u001b[0m\n",
            "\u001b[?25hRequirement already satisfied: tqdm in /usr/local/lib/python3.8/dist-packages (from optuna) (4.64.1)\n",
            "Requirement already satisfied: sqlalchemy>=1.3.0 in /usr/local/lib/python3.8/dist-packages (from optuna) (1.4.46)\n",
            "Requirement already satisfied: numpy in /usr/local/lib/python3.8/dist-packages (from optuna) (1.21.6)\n",
            "Requirement already satisfied: packaging>=20.0 in /usr/local/lib/python3.8/dist-packages (from optuna) (23.0)\n",
            "Collecting alembic>=1.5.0\n",
            "  Downloading alembic-1.9.3-py3-none-any.whl (210 kB)\n",
            "\u001b[2K     \u001b[90m━━━━━━━━━━━━━━━━━━━━━━━━━━━━━━━━━━━━━━\u001b[0m \u001b[32m210.6/210.6 KB\u001b[0m \u001b[31m22.5 MB/s\u001b[0m eta \u001b[36m0:00:00\u001b[0m\n",
            "\u001b[?25hCollecting cmaes>=0.9.1\n",
            "  Downloading cmaes-0.9.1-py3-none-any.whl (21 kB)\n",
            "Collecting colorlog\n",
            "  Downloading colorlog-6.7.0-py2.py3-none-any.whl (11 kB)\n",
            "Requirement already satisfied: PyYAML in /usr/local/lib/python3.8/dist-packages (from optuna) (6.0)\n",
            "Requirement already satisfied: importlib-metadata in /usr/local/lib/python3.8/dist-packages (from alembic>=1.5.0->optuna) (6.0.0)\n",
            "Collecting Mako\n",
            "  Downloading Mako-1.2.4-py3-none-any.whl (78 kB)\n",
            "\u001b[2K     \u001b[90m━━━━━━━━━━━━━━━━━━━━━━━━━━━━━━━━━━━━━━━━\u001b[0m \u001b[32m78.7/78.7 KB\u001b[0m \u001b[31m9.7 MB/s\u001b[0m eta \u001b[36m0:00:00\u001b[0m\n",
            "\u001b[?25hRequirement already satisfied: importlib-resources in /usr/local/lib/python3.8/dist-packages (from alembic>=1.5.0->optuna) (5.10.2)\n",
            "Requirement already satisfied: greenlet!=0.4.17 in /usr/local/lib/python3.8/dist-packages (from sqlalchemy>=1.3.0->optuna) (2.0.2)\n",
            "Requirement already satisfied: zipp>=0.5 in /usr/local/lib/python3.8/dist-packages (from importlib-metadata->alembic>=1.5.0->optuna) (3.12.0)\n",
            "Requirement already satisfied: MarkupSafe>=0.9.2 in /usr/local/lib/python3.8/dist-packages (from Mako->alembic>=1.5.0->optuna) (2.0.1)\n",
            "Installing collected packages: Mako, colorlog, cmaes, alembic, optuna\n",
            "Successfully installed Mako-1.2.4 alembic-1.9.3 cmaes-0.9.1 colorlog-6.7.0 optuna-3.1.0\n"
          ]
        }
      ],
      "source": [
        "!pip install aenum\n",
        "!pip install optuna"
      ]
    },
    {
      "cell_type": "code",
      "execution_count": null,
      "metadata": {
        "id": "Z5pAV9TJtrg0",
        "scrolled": true
      },
      "outputs": [],
      "source": [
        "import random\n",
        "import time\n",
        "import pandas as pd\n",
        "import numpy as np\n",
        "import re\n",
        "import torch\n",
        "from aenum import Enum, extend_enum\n",
        "#import spacy\n",
        "from tqdm import tqdm_notebook, tnrange\n",
        "from tqdm.auto import tqdm\n",
        "tqdm.pandas(desc='Progress')\n",
        "from sklearn.metrics import classification_report, f1_score\n",
        "from nltk import word_tokenize\n",
        "import torch.nn as nn\n",
        "import torch.optim as optim\n",
        "import torch.nn.functional as F\n",
        "from torch.utils.data import Dataset, DataLoader\n",
        "# from torch.nn.utils.rnn import pack_padded_sequence, pad_packed_sequence\n",
        "# from torch.autograd import Variable\n",
        "import os \n",
        "from sklearn.model_selection import train_test_split, StratifiedKFold, KFold\n",
        "from keras.preprocessing.text import Tokenizer\n",
        "from keras_preprocessing.sequence import pad_sequences\n",
        "# cross validation and metrics\n",
        "from torch.optim.optimizer import Optimizer\n",
        "from sklearn.preprocessing import LabelEncoder\n",
        "# from multiprocessing import  Pool\n",
        "# from functools import partial\n",
        "# from sklearn.decomposition import PCA\n",
        "import torch as t\n",
        "import matplotlib.pyplot as plt\n",
        "import optuna"
      ]
    },
    {
      "cell_type": "code",
      "source": [
        "import random\n",
        "import time\n",
        "import pandas as pd\n",
        "import numpy as np\n",
        "import re\n",
        "import torch\n",
        "from aenum import Enum, extend_enum\n",
        "from tqdm import tqdm_notebook, tnrange\n",
        "from tqdm.auto import tqdm\n",
        "tqdm.pandas(desc='Progress')\n",
        "from sklearn.metrics import classification_report, f1_score\n",
        "from nltk import word_tokenize\n",
        "import torch.nn as nn\n",
        "import torch.optim as optim\n",
        "import torch.nn.functional as F\n",
        "from torch.utils.data import Dataset, DataLoader\n",
        "\n",
        "import os \n",
        "from sklearn.model_selection import train_test_split, StratifiedKFold, KFold\n",
        "from keras.preprocessing.text import Tokenizer\n",
        "from keras_preprocessing.sequence import pad_sequences\n",
        "# cross validation and metrics\n",
        "from torch.optim.optimizer import Optimizer\n",
        "from sklearn.preprocessing import LabelEncoder\n",
        "import torch as t\n",
        "import matplotlib.pyplot as plt\n",
        "import optuna"
      ],
      "metadata": {
        "id": "6OTcOUHsyHQ2"
      },
      "execution_count": null,
      "outputs": []
    },
    {
      "cell_type": "markdown",
      "metadata": {
        "id": "0NuWcUc_trg5"
      },
      "source": [
        "### Basic Parameters"
      ]
    },
    {
      "cell_type": "code",
      "execution_count": null,
      "metadata": {
        "id": "_otRngsatrg6",
        "scrolled": true
      },
      "outputs": [],
      "source": [
        "embed_size = 300 # how big is each word vector\n",
        "max_features = 12000 # how many unique words to use (i.e num rows in embedding vector)\n",
        "maxlen = 750 # max number of words in a question to use\n",
        "batch_size = 16 # how many samples to process at once\n",
        "n_epochs = 5 # how many times to iterate over all samples\n",
        "n_splits = 5 # Number of K-fold Splits\n",
        "SEED = 10\n",
        "debug = 0"
      ]
    },
    {
      "cell_type": "markdown",
      "metadata": {
        "id": "kOzjvlWw39_d"
      },
      "source": [
        "### Optional Preprocessing Functions"
      ]
    },
    {
      "cell_type": "code",
      "execution_count": null,
      "metadata": {
        "id": "BUfGv3-gtrhD",
        "scrolled": true
      },
      "outputs": [],
      "source": [
        "\n",
        "def clean_text(x):\n",
        "    pattern = r'[^a-zA-z0-9\\s]'\n",
        "    text = re.sub(pattern, '', x)\n",
        "    return x\n",
        "\n",
        "def clean_numbers(x):\n",
        "    if bool(re.search(r'\\d', x)):\n",
        "        x = re.sub('[0-9]{5,}', '#####', x)\n",
        "        x = re.sub('[0-9]{4}', '####', x)\n",
        "        x = re.sub('[0-9]{3}', '###', x)\n",
        "        x = re.sub('[0-9]{2}', '##', x)\n",
        "    return x"
      ]
    },
    {
      "cell_type": "code",
      "execution_count": null,
      "metadata": {
        "colab": {
          "base_uri": "https://localhost:8080/",
          "height": 35
        },
        "id": "YSr7rNZ9trhD",
        "outputId": "098aacd8-4d89-44d2-dff4-9fa4fbca6df9"
      },
      "outputs": [
        {
          "data": {
            "application/vnd.google.colaboratory.intrinsic+json": {
              "type": "string"
            },
            "text/plain": [
              "'this is a text with contraction'"
            ]
          },
          "execution_count": 8,
          "metadata": {},
          "output_type": "execute_result"
        }
      ],
      "source": [
        "contraction_dict = {\"ain't\": \"is not\", \"aren't\": \"are not\",\"can't\": \"cannot\", \"'cause\": \"because\", \"could've\": \"could have\", \"couldn't\": \"could not\", \"didn't\": \"did not\",  \"doesn't\": \"does not\", \"don't\": \"do not\", \"hadn't\": \"had not\", \"hasn't\": \"has not\", \"haven't\": \"have not\", \"he'd\": \"he would\",\"he'll\": \"he will\", \"he's\": \"he is\", \"how'd\": \"how did\", \"how'd'y\": \"how do you\", \"how'll\": \"how will\", \"how's\": \"how is\",  \"I'd\": \"I would\", \"I'd've\": \"I would have\", \"I'll\": \"I will\", \"I'll've\": \"I will have\",\"I'm\": \"I am\", \"I've\": \"I have\", \"i'd\": \"i would\", \"i'd've\": \"i would have\", \"i'll\": \"i will\",  \"i'll've\": \"i will have\",\"i'm\": \"i am\", \"i've\": \"i have\", \"isn't\": \"is not\", \"it'd\": \"it would\", \"it'd've\": \"it would have\", \"it'll\": \"it will\", \"it'll've\": \"it will have\",\"it's\": \"it is\", \"let's\": \"let us\", \"ma'am\": \"madam\", \"mayn't\": \"may not\", \"might've\": \"might have\",\"mightn't\": \"might not\",\"mightn't've\": \"might not have\", \"must've\": \"must have\", \"mustn't\": \"must not\", \"mustn't've\": \"must not have\", \"needn't\": \"need not\", \"needn't've\": \"need not have\",\"o'clock\": \"of the clock\", \"oughtn't\": \"ought not\", \"oughtn't've\": \"ought not have\", \"shan't\": \"shall not\", \"sha'n't\": \"shall not\", \"shan't've\": \"shall not have\", \"she'd\": \"she would\", \"she'd've\": \"she would have\", \"she'll\": \"she will\", \"she'll've\": \"she will have\", \"she's\": \"she is\", \"should've\": \"should have\", \"shouldn't\": \"should not\", \"shouldn't've\": \"should not have\", \"so've\": \"so have\",\"so's\": \"so as\", \"this's\": \"this is\",\"that'd\": \"that would\", \"that'd've\": \"that would have\", \"that's\": \"that is\", \"there'd\": \"there would\", \"there'd've\": \"there would have\", \"there's\": \"there is\", \"here's\": \"here is\",\"they'd\": \"they would\", \"they'd've\": \"they would have\", \"they'll\": \"they will\", \"they'll've\": \"they will have\", \"they're\": \"they are\", \"they've\": \"they have\", \"to've\": \"to have\", \"wasn't\": \"was not\", \"we'd\": \"we would\", \"we'd've\": \"we would have\", \"we'll\": \"we will\", \"we'll've\": \"we will have\", \"we're\": \"we are\", \"we've\": \"we have\", \"weren't\": \"were not\", \"what'll\": \"what will\", \"what'll've\": \"what will have\", \"what're\": \"what are\",  \"what's\": \"what is\", \"what've\": \"what have\", \"when's\": \"when is\", \"when've\": \"when have\", \"where'd\": \"where did\", \"where's\": \"where is\", \"where've\": \"where have\", \"who'll\": \"who will\", \"who'll've\": \"who will have\", \"who's\": \"who is\", \"who've\": \"who have\", \"why's\": \"why is\", \"why've\": \"why have\", \"will've\": \"will have\", \"won't\": \"will not\", \"won't've\": \"will not have\", \"would've\": \"would have\", \"wouldn't\": \"would not\", \"wouldn't've\": \"would not have\", \"y'all\": \"you all\", \"y'all'd\": \"you all would\",\"y'all'd've\": \"you all would have\",\"y'all're\": \"you all are\",\"y'all've\": \"you all have\",\"you'd\": \"you would\", \"you'd've\": \"you would have\", \"you'll\": \"you will\", \"you'll've\": \"you will have\", \"you're\": \"you are\", \"you've\": \"you have\"}\n",
        "def _get_contractions(contraction_dict):\n",
        "    contraction_re = re.compile('(%s)' % '|'.join(contraction_dict.keys()))\n",
        "    return contraction_dict, contraction_re\n",
        "contractions, contractions_re = _get_contractions(contraction_dict)\n",
        "def replace_contractions(text):\n",
        "    def replace(match):\n",
        "        return contractions[match.group(0)]\n",
        "    return contractions_re.sub(replace, text)\n",
        "# Usage\n",
        "replace_contractions(\"this's a text with contraction\")"
      ]
    },
    {
      "cell_type": "markdown",
      "metadata": {
        "id": "6MlG38uL1dZS"
      },
      "source": [
        "### Load Requirements Data"
      ]
    },
    {
      "cell_type": "code",
      "execution_count": null,
      "metadata": {
        "id": "XM5L99ep22kN"
      },
      "outputs": [],
      "source": [
        "class Config(dict):\n",
        "    def __init__(self, **kwargs):\n",
        "        super().__init__(**kwargs)\n",
        "        for k, v in kwargs.items():\n",
        "            setattr(self, k, v)\n",
        "    \n",
        "    def set(self, key, val):\n",
        "        self[key] = val\n",
        "        setattr(self, key, val)\n",
        "\n",
        "class Fold(Enum):\n",
        "  No = 1\n",
        "  TenFold = 2\n",
        "  ProjFold = 3\n",
        "\n",
        "class Sampling(Enum):\n",
        "  NoSampling = 1\n",
        "  UnderSampling = 2\n",
        "  OverSampling = 3\n",
        "\n",
        "config = Config(\n",
        "    num_labels = 2, # will be set automatically afterwards\n",
        "    \n",
        "    epochs=16, # 10, 16, 32, 50\n",
        "    bs=16, # default: 16\n",
        "    \n",
        "    loss_func=nn.CrossEntropyLoss(),\n",
        "    seed=904727489, #default: 904727489, 42 (as in Dalpiaz) or None\n",
        "    \n",
        "    fold = Fold.No, # Fold.No, Fold.TenFold, Fold.ProjFold\n",
        "    sampling = Sampling.NoSampling, #Sampling.UnderSampling, Sampling.NoSampling, Sampling.OverSampling\n",
        ")\n",
        "\n",
        "# clazz = 'Measurement' # class to train classification on\n",
        "# clazz = 'Time Constraint'\n",
        "# clazz = 'Data Definition'\n",
        "clazz = 'Data Action'\n",
        "# clazz  = 'Convention'\n",
        "# clazz = 'Software Related'\n",
        "\n",
        "config_data = Config(\n",
        "    root_folder = '.', # where is the root folder? Keep it that way if you want to load from Google Drive\n",
        "    data_folder = '/', # where is the folder containing the datasets; relative to root\n",
        "    train_data = ['SFCR-Akshay.xlsx'], # dataset file to use\n",
        "    label_column = clazz,\n",
        "    # log_folder_name = '/log/',\n",
        "    # log_file = clazz + '_' + Fold(config.fold).name + '_' + Sampling(config.sampling).name + '_classifierPredictions_' +  '.txt', # log-file name (make sure log folder exists)\n",
        "    # result_file = clazz + '_' + Fold(config.fold).name + '_' + Sampling(config.sampling).name + '_classifierResults_' + '.txt', # result-file name (make sure log folder exists)\n",
        "    # model_path = '/models/', # where is the folder for the model(s); relative to the root\n",
        "    # model_name = 'NoRBERT.pkl', # what is the model name? \n",
        "    # gdrive_root_folder = '/content/drive/My Drive/Code/Task1_to_3_original_Promise_NFR_dataset/', # Set this to the Google Drive path. Starts with '/content/drive/' and then usually 'My Drive/*' for the files in your Drive\n",
        "\n",
        "    \n",
        ")\n"
      ]
    },
    {
      "cell_type": "markdown",
      "source": [
        "Load data from the disk"
      ],
      "metadata": {
        "id": "TZQE81MtZNYX"
      }
    },
    {
      "cell_type": "code",
      "execution_count": null,
      "metadata": {
        "id": "Yl7irlTrBcpV",
        "colab": {
          "base_uri": "https://localhost:8080/",
          "height": 423
        },
        "outputId": "5e17d617-0a8d-4acd-e329-e64b16a6db0e"
      },
      "outputs": [
        {
          "output_type": "execute_result",
          "data": {
            "text/plain": [
              "                                             Statement  \\\n",
              "0    198 The following definitions apply in this Part.   \n",
              "1    Canadian unit means a unit of measurement that...   \n",
              "2    metric unit means a unit of measurement that i...   \n",
              "3    199 (1) For the purposes of subsection 6(1) of...   \n",
              "4    or\\n\\n(b) any expression, word, number, depict...   \n",
              "..                                                 ...   \n",
              "596  The incoming eggs received can present a sourc...   \n",
              "597  When conducting the hazard analysis, identify ...   \n",
              "598  Information on general preventive controls tha...   \n",
              "599  Ensure the water used to wash eggs is a minimu...   \n",
              "600  In addition, the egg wash water:\\n\\ncontains a...   \n",
              "\n",
              "     Data Definition\\nFood attached  Data Action\\nNot Food attached  \\\n",
              "0                               NaN                             NaN   \n",
              "1                               NaN                             NaN   \n",
              "2                               NaN                             NaN   \n",
              "3                               NaN                             NaN   \n",
              "4                               NaN                             NaN   \n",
              "..                              ...                             ...   \n",
              "596                             NaN                             NaN   \n",
              "597                             NaN                             NaN   \n",
              "598                             NaN                             NaN   \n",
              "599                             NaN                             NaN   \n",
              "600                             NaN                             NaN   \n",
              "\n",
              "     Measurement  Time Constraint  Convention  \n",
              "0            NaN              NaN         NaN  \n",
              "1            NaN              NaN         NaN  \n",
              "2            NaN              NaN         NaN  \n",
              "3            NaN              NaN         NaN  \n",
              "4            NaN              NaN         NaN  \n",
              "..           ...              ...         ...  \n",
              "596          NaN              NaN         NaN  \n",
              "597          NaN              NaN         NaN  \n",
              "598          NaN              NaN         NaN  \n",
              "599          1.0              NaN         NaN  \n",
              "600          1.0              NaN         NaN  \n",
              "\n",
              "[601 rows x 6 columns]"
            ],
            "text/html": [
              "\n",
              "  <div id=\"df-bcb6a1bb-b5d8-4e31-be3f-d5bce2868a06\">\n",
              "    <div class=\"colab-df-container\">\n",
              "      <div>\n",
              "<style scoped>\n",
              "    .dataframe tbody tr th:only-of-type {\n",
              "        vertical-align: middle;\n",
              "    }\n",
              "\n",
              "    .dataframe tbody tr th {\n",
              "        vertical-align: top;\n",
              "    }\n",
              "\n",
              "    .dataframe thead th {\n",
              "        text-align: right;\n",
              "    }\n",
              "</style>\n",
              "<table border=\"1\" class=\"dataframe\">\n",
              "  <thead>\n",
              "    <tr style=\"text-align: right;\">\n",
              "      <th></th>\n",
              "      <th>Statement</th>\n",
              "      <th>Data Definition\\nFood attached</th>\n",
              "      <th>Data Action\\nNot Food attached</th>\n",
              "      <th>Measurement</th>\n",
              "      <th>Time Constraint</th>\n",
              "      <th>Convention</th>\n",
              "    </tr>\n",
              "  </thead>\n",
              "  <tbody>\n",
              "    <tr>\n",
              "      <th>0</th>\n",
              "      <td>198 The following definitions apply in this Part.</td>\n",
              "      <td>NaN</td>\n",
              "      <td>NaN</td>\n",
              "      <td>NaN</td>\n",
              "      <td>NaN</td>\n",
              "      <td>NaN</td>\n",
              "    </tr>\n",
              "    <tr>\n",
              "      <th>1</th>\n",
              "      <td>Canadian unit means a unit of measurement that...</td>\n",
              "      <td>NaN</td>\n",
              "      <td>NaN</td>\n",
              "      <td>NaN</td>\n",
              "      <td>NaN</td>\n",
              "      <td>NaN</td>\n",
              "    </tr>\n",
              "    <tr>\n",
              "      <th>2</th>\n",
              "      <td>metric unit means a unit of measurement that i...</td>\n",
              "      <td>NaN</td>\n",
              "      <td>NaN</td>\n",
              "      <td>NaN</td>\n",
              "      <td>NaN</td>\n",
              "      <td>NaN</td>\n",
              "    </tr>\n",
              "    <tr>\n",
              "      <th>3</th>\n",
              "      <td>199 (1) For the purposes of subsection 6(1) of...</td>\n",
              "      <td>NaN</td>\n",
              "      <td>NaN</td>\n",
              "      <td>NaN</td>\n",
              "      <td>NaN</td>\n",
              "      <td>NaN</td>\n",
              "    </tr>\n",
              "    <tr>\n",
              "      <th>4</th>\n",
              "      <td>or\\n\\n(b) any expression, word, number, depict...</td>\n",
              "      <td>NaN</td>\n",
              "      <td>NaN</td>\n",
              "      <td>NaN</td>\n",
              "      <td>NaN</td>\n",
              "      <td>NaN</td>\n",
              "    </tr>\n",
              "    <tr>\n",
              "      <th>...</th>\n",
              "      <td>...</td>\n",
              "      <td>...</td>\n",
              "      <td>...</td>\n",
              "      <td>...</td>\n",
              "      <td>...</td>\n",
              "      <td>...</td>\n",
              "    </tr>\n",
              "    <tr>\n",
              "      <th>596</th>\n",
              "      <td>The incoming eggs received can present a sourc...</td>\n",
              "      <td>NaN</td>\n",
              "      <td>NaN</td>\n",
              "      <td>NaN</td>\n",
              "      <td>NaN</td>\n",
              "      <td>NaN</td>\n",
              "    </tr>\n",
              "    <tr>\n",
              "      <th>597</th>\n",
              "      <td>When conducting the hazard analysis, identify ...</td>\n",
              "      <td>NaN</td>\n",
              "      <td>NaN</td>\n",
              "      <td>NaN</td>\n",
              "      <td>NaN</td>\n",
              "      <td>NaN</td>\n",
              "    </tr>\n",
              "    <tr>\n",
              "      <th>598</th>\n",
              "      <td>Information on general preventive controls tha...</td>\n",
              "      <td>NaN</td>\n",
              "      <td>NaN</td>\n",
              "      <td>NaN</td>\n",
              "      <td>NaN</td>\n",
              "      <td>NaN</td>\n",
              "    </tr>\n",
              "    <tr>\n",
              "      <th>599</th>\n",
              "      <td>Ensure the water used to wash eggs is a minimu...</td>\n",
              "      <td>NaN</td>\n",
              "      <td>NaN</td>\n",
              "      <td>1.0</td>\n",
              "      <td>NaN</td>\n",
              "      <td>NaN</td>\n",
              "    </tr>\n",
              "    <tr>\n",
              "      <th>600</th>\n",
              "      <td>In addition, the egg wash water:\\n\\ncontains a...</td>\n",
              "      <td>NaN</td>\n",
              "      <td>NaN</td>\n",
              "      <td>1.0</td>\n",
              "      <td>NaN</td>\n",
              "      <td>NaN</td>\n",
              "    </tr>\n",
              "  </tbody>\n",
              "</table>\n",
              "<p>601 rows × 6 columns</p>\n",
              "</div>\n",
              "      <button class=\"colab-df-convert\" onclick=\"convertToInteractive('df-bcb6a1bb-b5d8-4e31-be3f-d5bce2868a06')\"\n",
              "              title=\"Convert this dataframe to an interactive table.\"\n",
              "              style=\"display:none;\">\n",
              "        \n",
              "  <svg xmlns=\"http://www.w3.org/2000/svg\" height=\"24px\"viewBox=\"0 0 24 24\"\n",
              "       width=\"24px\">\n",
              "    <path d=\"M0 0h24v24H0V0z\" fill=\"none\"/>\n",
              "    <path d=\"M18.56 5.44l.94 2.06.94-2.06 2.06-.94-2.06-.94-.94-2.06-.94 2.06-2.06.94zm-11 1L8.5 8.5l.94-2.06 2.06-.94-2.06-.94L8.5 2.5l-.94 2.06-2.06.94zm10 10l.94 2.06.94-2.06 2.06-.94-2.06-.94-.94-2.06-.94 2.06-2.06.94z\"/><path d=\"M17.41 7.96l-1.37-1.37c-.4-.4-.92-.59-1.43-.59-.52 0-1.04.2-1.43.59L10.3 9.45l-7.72 7.72c-.78.78-.78 2.05 0 2.83L4 21.41c.39.39.9.59 1.41.59.51 0 1.02-.2 1.41-.59l7.78-7.78 2.81-2.81c.8-.78.8-2.07 0-2.86zM5.41 20L4 18.59l7.72-7.72 1.47 1.35L5.41 20z\"/>\n",
              "  </svg>\n",
              "      </button>\n",
              "      \n",
              "  <style>\n",
              "    .colab-df-container {\n",
              "      display:flex;\n",
              "      flex-wrap:wrap;\n",
              "      gap: 12px;\n",
              "    }\n",
              "\n",
              "    .colab-df-convert {\n",
              "      background-color: #E8F0FE;\n",
              "      border: none;\n",
              "      border-radius: 50%;\n",
              "      cursor: pointer;\n",
              "      display: none;\n",
              "      fill: #1967D2;\n",
              "      height: 32px;\n",
              "      padding: 0 0 0 0;\n",
              "      width: 32px;\n",
              "    }\n",
              "\n",
              "    .colab-df-convert:hover {\n",
              "      background-color: #E2EBFA;\n",
              "      box-shadow: 0px 1px 2px rgba(60, 64, 67, 0.3), 0px 1px 3px 1px rgba(60, 64, 67, 0.15);\n",
              "      fill: #174EA6;\n",
              "    }\n",
              "\n",
              "    [theme=dark] .colab-df-convert {\n",
              "      background-color: #3B4455;\n",
              "      fill: #D2E3FC;\n",
              "    }\n",
              "\n",
              "    [theme=dark] .colab-df-convert:hover {\n",
              "      background-color: #434B5C;\n",
              "      box-shadow: 0px 1px 3px 1px rgba(0, 0, 0, 0.15);\n",
              "      filter: drop-shadow(0px 1px 2px rgba(0, 0, 0, 0.3));\n",
              "      fill: #FFFFFF;\n",
              "    }\n",
              "  </style>\n",
              "\n",
              "      <script>\n",
              "        const buttonEl =\n",
              "          document.querySelector('#df-bcb6a1bb-b5d8-4e31-be3f-d5bce2868a06 button.colab-df-convert');\n",
              "        buttonEl.style.display =\n",
              "          google.colab.kernel.accessAllowed ? 'block' : 'none';\n",
              "\n",
              "        async function convertToInteractive(key) {\n",
              "          const element = document.querySelector('#df-bcb6a1bb-b5d8-4e31-be3f-d5bce2868a06');\n",
              "          const dataTable =\n",
              "            await google.colab.kernel.invokeFunction('convertToInteractive',\n",
              "                                                     [key], {});\n",
              "          if (!dataTable) return;\n",
              "\n",
              "          const docLinkHtml = 'Like what you see? Visit the ' +\n",
              "            '<a target=\"_blank\" href=https://colab.research.google.com/notebooks/data_table.ipynb>data table notebook</a>'\n",
              "            + ' to learn more about interactive tables.';\n",
              "          element.innerHTML = '';\n",
              "          dataTable['output_type'] = 'display_data';\n",
              "          await google.colab.output.renderOutput(dataTable, element);\n",
              "          const docLink = document.createElement('div');\n",
              "          docLink.innerHTML = docLinkHtml;\n",
              "          element.appendChild(docLink);\n",
              "        }\n",
              "      </script>\n",
              "    </div>\n",
              "  </div>\n",
              "  "
            ]
          },
          "metadata": {},
          "execution_count": 7
        }
      ],
      "source": [
        " def load_data(filename):\n",
        "    df = pd.read_excel(filename, sheet_name='Train data')#,names = ['Statement', 'Data Definition', 'Data Action', 'Measurement', 'Time Constraint', 'Convention'])\n",
        "    return df\n",
        "\n",
        "dafr = load_data('legal_data.xlsx')\n",
        "dafr"
      ]
    },
    {
      "cell_type": "code",
      "execution_count": null,
      "metadata": {
        "colab": {
          "base_uri": "https://localhost:8080/"
        },
        "id": "J2b9QsFlrtmC",
        "outputId": "d0000006-516d-4c82-9de7-4e3ac8ebe65b"
      },
      "outputs": [
        {
          "output_type": "execute_result",
          "data": {
            "text/plain": [
              "601"
            ]
          },
          "metadata": {},
          "execution_count": 18
        }
      ],
      "source": [
        "len(dafr)"
      ]
    },
    {
      "cell_type": "code",
      "execution_count": null,
      "metadata": {
        "id": "2F7j7BkT67tT"
      },
      "outputs": [],
      "source": [
        "dafr.rename(columns = {'Data Definition\\nFood attached':'Data Definition'}, inplace = True)\n",
        "dafr.rename(columns = {'Data Action\\nNot Food attached':'Data Action'}, inplace = True)"
      ]
    },
    {
      "cell_type": "code",
      "execution_count": null,
      "metadata": {
        "id": "BHv2QwLRPhYP",
        "colab": {
          "base_uri": "https://localhost:8080/",
          "height": 206
        },
        "outputId": "a3a4c105-0579-41a4-ef53-3e2cdfbd531a"
      },
      "outputs": [
        {
          "output_type": "execute_result",
          "data": {
            "text/plain": [
              "                                           Statement  \\\n",
              "0  198 The following definitions apply in this Part.   \n",
              "1  Canadian unit means a unit of measurement that...   \n",
              "2  metric unit means a unit of measurement that i...   \n",
              "3  199 (1) For the purposes of subsection 6(1) of...   \n",
              "4  or\\n\\n(b) any expression, word, number, depict...   \n",
              "\n",
              "   Data Definition\\nFood attached  Data Action\\nNot Food attached  \\\n",
              "0                             NaN                             NaN   \n",
              "1                             NaN                             NaN   \n",
              "2                             NaN                             NaN   \n",
              "3                             NaN                             NaN   \n",
              "4                             NaN                             NaN   \n",
              "\n",
              "   Measurement  Time Constraint  Convention  \n",
              "0          NaN              NaN         NaN  \n",
              "1          NaN              NaN         NaN  \n",
              "2          NaN              NaN         NaN  \n",
              "3          NaN              NaN         NaN  \n",
              "4          NaN              NaN         NaN  "
            ],
            "text/html": [
              "\n",
              "  <div id=\"df-e6c8346c-099d-4b8f-91ec-8594434cc5b3\">\n",
              "    <div class=\"colab-df-container\">\n",
              "      <div>\n",
              "<style scoped>\n",
              "    .dataframe tbody tr th:only-of-type {\n",
              "        vertical-align: middle;\n",
              "    }\n",
              "\n",
              "    .dataframe tbody tr th {\n",
              "        vertical-align: top;\n",
              "    }\n",
              "\n",
              "    .dataframe thead th {\n",
              "        text-align: right;\n",
              "    }\n",
              "</style>\n",
              "<table border=\"1\" class=\"dataframe\">\n",
              "  <thead>\n",
              "    <tr style=\"text-align: right;\">\n",
              "      <th></th>\n",
              "      <th>Statement</th>\n",
              "      <th>Data Definition\\nFood attached</th>\n",
              "      <th>Data Action\\nNot Food attached</th>\n",
              "      <th>Measurement</th>\n",
              "      <th>Time Constraint</th>\n",
              "      <th>Convention</th>\n",
              "    </tr>\n",
              "  </thead>\n",
              "  <tbody>\n",
              "    <tr>\n",
              "      <th>0</th>\n",
              "      <td>198 The following definitions apply in this Part.</td>\n",
              "      <td>NaN</td>\n",
              "      <td>NaN</td>\n",
              "      <td>NaN</td>\n",
              "      <td>NaN</td>\n",
              "      <td>NaN</td>\n",
              "    </tr>\n",
              "    <tr>\n",
              "      <th>1</th>\n",
              "      <td>Canadian unit means a unit of measurement that...</td>\n",
              "      <td>NaN</td>\n",
              "      <td>NaN</td>\n",
              "      <td>NaN</td>\n",
              "      <td>NaN</td>\n",
              "      <td>NaN</td>\n",
              "    </tr>\n",
              "    <tr>\n",
              "      <th>2</th>\n",
              "      <td>metric unit means a unit of measurement that i...</td>\n",
              "      <td>NaN</td>\n",
              "      <td>NaN</td>\n",
              "      <td>NaN</td>\n",
              "      <td>NaN</td>\n",
              "      <td>NaN</td>\n",
              "    </tr>\n",
              "    <tr>\n",
              "      <th>3</th>\n",
              "      <td>199 (1) For the purposes of subsection 6(1) of...</td>\n",
              "      <td>NaN</td>\n",
              "      <td>NaN</td>\n",
              "      <td>NaN</td>\n",
              "      <td>NaN</td>\n",
              "      <td>NaN</td>\n",
              "    </tr>\n",
              "    <tr>\n",
              "      <th>4</th>\n",
              "      <td>or\\n\\n(b) any expression, word, number, depict...</td>\n",
              "      <td>NaN</td>\n",
              "      <td>NaN</td>\n",
              "      <td>NaN</td>\n",
              "      <td>NaN</td>\n",
              "      <td>NaN</td>\n",
              "    </tr>\n",
              "  </tbody>\n",
              "</table>\n",
              "</div>\n",
              "      <button class=\"colab-df-convert\" onclick=\"convertToInteractive('df-e6c8346c-099d-4b8f-91ec-8594434cc5b3')\"\n",
              "              title=\"Convert this dataframe to an interactive table.\"\n",
              "              style=\"display:none;\">\n",
              "        \n",
              "  <svg xmlns=\"http://www.w3.org/2000/svg\" height=\"24px\"viewBox=\"0 0 24 24\"\n",
              "       width=\"24px\">\n",
              "    <path d=\"M0 0h24v24H0V0z\" fill=\"none\"/>\n",
              "    <path d=\"M18.56 5.44l.94 2.06.94-2.06 2.06-.94-2.06-.94-.94-2.06-.94 2.06-2.06.94zm-11 1L8.5 8.5l.94-2.06 2.06-.94-2.06-.94L8.5 2.5l-.94 2.06-2.06.94zm10 10l.94 2.06.94-2.06 2.06-.94-2.06-.94-.94-2.06-.94 2.06-2.06.94z\"/><path d=\"M17.41 7.96l-1.37-1.37c-.4-.4-.92-.59-1.43-.59-.52 0-1.04.2-1.43.59L10.3 9.45l-7.72 7.72c-.78.78-.78 2.05 0 2.83L4 21.41c.39.39.9.59 1.41.59.51 0 1.02-.2 1.41-.59l7.78-7.78 2.81-2.81c.8-.78.8-2.07 0-2.86zM5.41 20L4 18.59l7.72-7.72 1.47 1.35L5.41 20z\"/>\n",
              "  </svg>\n",
              "      </button>\n",
              "      \n",
              "  <style>\n",
              "    .colab-df-container {\n",
              "      display:flex;\n",
              "      flex-wrap:wrap;\n",
              "      gap: 12px;\n",
              "    }\n",
              "\n",
              "    .colab-df-convert {\n",
              "      background-color: #E8F0FE;\n",
              "      border: none;\n",
              "      border-radius: 50%;\n",
              "      cursor: pointer;\n",
              "      display: none;\n",
              "      fill: #1967D2;\n",
              "      height: 32px;\n",
              "      padding: 0 0 0 0;\n",
              "      width: 32px;\n",
              "    }\n",
              "\n",
              "    .colab-df-convert:hover {\n",
              "      background-color: #E2EBFA;\n",
              "      box-shadow: 0px 1px 2px rgba(60, 64, 67, 0.3), 0px 1px 3px 1px rgba(60, 64, 67, 0.15);\n",
              "      fill: #174EA6;\n",
              "    }\n",
              "\n",
              "    [theme=dark] .colab-df-convert {\n",
              "      background-color: #3B4455;\n",
              "      fill: #D2E3FC;\n",
              "    }\n",
              "\n",
              "    [theme=dark] .colab-df-convert:hover {\n",
              "      background-color: #434B5C;\n",
              "      box-shadow: 0px 1px 3px 1px rgba(0, 0, 0, 0.15);\n",
              "      filter: drop-shadow(0px 1px 2px rgba(0, 0, 0, 0.3));\n",
              "      fill: #FFFFFF;\n",
              "    }\n",
              "  </style>\n",
              "\n",
              "      <script>\n",
              "        const buttonEl =\n",
              "          document.querySelector('#df-e6c8346c-099d-4b8f-91ec-8594434cc5b3 button.colab-df-convert');\n",
              "        buttonEl.style.display =\n",
              "          google.colab.kernel.accessAllowed ? 'block' : 'none';\n",
              "\n",
              "        async function convertToInteractive(key) {\n",
              "          const element = document.querySelector('#df-e6c8346c-099d-4b8f-91ec-8594434cc5b3');\n",
              "          const dataTable =\n",
              "            await google.colab.kernel.invokeFunction('convertToInteractive',\n",
              "                                                     [key], {});\n",
              "          if (!dataTable) return;\n",
              "\n",
              "          const docLinkHtml = 'Like what you see? Visit the ' +\n",
              "            '<a target=\"_blank\" href=https://colab.research.google.com/notebooks/data_table.ipynb>data table notebook</a>'\n",
              "            + ' to learn more about interactive tables.';\n",
              "          element.innerHTML = '';\n",
              "          dataTable['output_type'] = 'display_data';\n",
              "          await google.colab.output.renderOutput(dataTable, element);\n",
              "          const docLink = document.createElement('div');\n",
              "          docLink.innerHTML = docLinkHtml;\n",
              "          element.appendChild(docLink);\n",
              "        }\n",
              "      </script>\n",
              "    </div>\n",
              "  </div>\n",
              "  "
            ]
          },
          "metadata": {},
          "execution_count": 10
        }
      ],
      "source": [
        "dafr.head()"
      ]
    },
    {
      "cell_type": "code",
      "execution_count": null,
      "metadata": {
        "id": "ryEPiU36PpKO"
      },
      "outputs": [],
      "source": [
        "# data = pd.concat([dafr])[['Statement','Measurement']]\n",
        "# data = pd.concat([dafr])[['Statement','Time Constraint']]\n",
        "# data = pd.concat([dafr])[['Statement','Data Definition']]\n",
        "data = pd.concat([dafr])[['Statement','Data Action']]\n",
        "# data = pd.concat([dafr])[['Statement','Convention']]\n",
        "# data = pd.concat([dafr])[['Statement','Software Related']]"
      ]
    },
    {
      "cell_type": "code",
      "execution_count": null,
      "metadata": {
        "id": "cpxAt5KbSRez"
      },
      "outputs": [],
      "source": [
        "# data['Measurement'] = data['Measurement'].fillna(0)\n",
        "# data['Time Constraint'] = data['Time Constraint'].fillna(0)\n",
        "# data['Data Definition'] = data['Data Definition'].fillna(0)\n",
        "data['Data Action'] = data['Data Action'].fillna(0)\n",
        "# data['Convention'] = data['Convention'].fillna(0)\n",
        "# data['Software Related'] = data['Software Related'].fillna(0)"
      ]
    },
    {
      "cell_type": "code",
      "execution_count": null,
      "metadata": {
        "id": "mGz-n_fMPVT6",
        "colab": {
          "base_uri": "https://localhost:8080/",
          "height": 206
        },
        "outputId": "84f7ae3c-276f-49b6-c36e-7f6d8776ea9a"
      },
      "outputs": [
        {
          "output_type": "execute_result",
          "data": {
            "text/plain": [
              "                                           Statement  Data Action\n",
              "0  198 The following definitions apply in this Part.          0.0\n",
              "1  Canadian unit means a unit of measurement that...          0.0\n",
              "2  metric unit means a unit of measurement that i...          0.0\n",
              "3  199 (1) For the purposes of subsection 6(1) of...          0.0\n",
              "4  or\\n\\n(b) any expression, word, number, depict...          0.0"
            ],
            "text/html": [
              "\n",
              "  <div id=\"df-6b1c9c69-2a2f-40c0-a2c0-cad5d4ca8e4a\">\n",
              "    <div class=\"colab-df-container\">\n",
              "      <div>\n",
              "<style scoped>\n",
              "    .dataframe tbody tr th:only-of-type {\n",
              "        vertical-align: middle;\n",
              "    }\n",
              "\n",
              "    .dataframe tbody tr th {\n",
              "        vertical-align: top;\n",
              "    }\n",
              "\n",
              "    .dataframe thead th {\n",
              "        text-align: right;\n",
              "    }\n",
              "</style>\n",
              "<table border=\"1\" class=\"dataframe\">\n",
              "  <thead>\n",
              "    <tr style=\"text-align: right;\">\n",
              "      <th></th>\n",
              "      <th>Statement</th>\n",
              "      <th>Data Action</th>\n",
              "    </tr>\n",
              "  </thead>\n",
              "  <tbody>\n",
              "    <tr>\n",
              "      <th>0</th>\n",
              "      <td>198 The following definitions apply in this Part.</td>\n",
              "      <td>0.0</td>\n",
              "    </tr>\n",
              "    <tr>\n",
              "      <th>1</th>\n",
              "      <td>Canadian unit means a unit of measurement that...</td>\n",
              "      <td>0.0</td>\n",
              "    </tr>\n",
              "    <tr>\n",
              "      <th>2</th>\n",
              "      <td>metric unit means a unit of measurement that i...</td>\n",
              "      <td>0.0</td>\n",
              "    </tr>\n",
              "    <tr>\n",
              "      <th>3</th>\n",
              "      <td>199 (1) For the purposes of subsection 6(1) of...</td>\n",
              "      <td>0.0</td>\n",
              "    </tr>\n",
              "    <tr>\n",
              "      <th>4</th>\n",
              "      <td>or\\n\\n(b) any expression, word, number, depict...</td>\n",
              "      <td>0.0</td>\n",
              "    </tr>\n",
              "  </tbody>\n",
              "</table>\n",
              "</div>\n",
              "      <button class=\"colab-df-convert\" onclick=\"convertToInteractive('df-6b1c9c69-2a2f-40c0-a2c0-cad5d4ca8e4a')\"\n",
              "              title=\"Convert this dataframe to an interactive table.\"\n",
              "              style=\"display:none;\">\n",
              "        \n",
              "  <svg xmlns=\"http://www.w3.org/2000/svg\" height=\"24px\"viewBox=\"0 0 24 24\"\n",
              "       width=\"24px\">\n",
              "    <path d=\"M0 0h24v24H0V0z\" fill=\"none\"/>\n",
              "    <path d=\"M18.56 5.44l.94 2.06.94-2.06 2.06-.94-2.06-.94-.94-2.06-.94 2.06-2.06.94zm-11 1L8.5 8.5l.94-2.06 2.06-.94-2.06-.94L8.5 2.5l-.94 2.06-2.06.94zm10 10l.94 2.06.94-2.06 2.06-.94-2.06-.94-.94-2.06-.94 2.06-2.06.94z\"/><path d=\"M17.41 7.96l-1.37-1.37c-.4-.4-.92-.59-1.43-.59-.52 0-1.04.2-1.43.59L10.3 9.45l-7.72 7.72c-.78.78-.78 2.05 0 2.83L4 21.41c.39.39.9.59 1.41.59.51 0 1.02-.2 1.41-.59l7.78-7.78 2.81-2.81c.8-.78.8-2.07 0-2.86zM5.41 20L4 18.59l7.72-7.72 1.47 1.35L5.41 20z\"/>\n",
              "  </svg>\n",
              "      </button>\n",
              "      \n",
              "  <style>\n",
              "    .colab-df-container {\n",
              "      display:flex;\n",
              "      flex-wrap:wrap;\n",
              "      gap: 12px;\n",
              "    }\n",
              "\n",
              "    .colab-df-convert {\n",
              "      background-color: #E8F0FE;\n",
              "      border: none;\n",
              "      border-radius: 50%;\n",
              "      cursor: pointer;\n",
              "      display: none;\n",
              "      fill: #1967D2;\n",
              "      height: 32px;\n",
              "      padding: 0 0 0 0;\n",
              "      width: 32px;\n",
              "    }\n",
              "\n",
              "    .colab-df-convert:hover {\n",
              "      background-color: #E2EBFA;\n",
              "      box-shadow: 0px 1px 2px rgba(60, 64, 67, 0.3), 0px 1px 3px 1px rgba(60, 64, 67, 0.15);\n",
              "      fill: #174EA6;\n",
              "    }\n",
              "\n",
              "    [theme=dark] .colab-df-convert {\n",
              "      background-color: #3B4455;\n",
              "      fill: #D2E3FC;\n",
              "    }\n",
              "\n",
              "    [theme=dark] .colab-df-convert:hover {\n",
              "      background-color: #434B5C;\n",
              "      box-shadow: 0px 1px 3px 1px rgba(0, 0, 0, 0.15);\n",
              "      filter: drop-shadow(0px 1px 2px rgba(0, 0, 0, 0.3));\n",
              "      fill: #FFFFFF;\n",
              "    }\n",
              "  </style>\n",
              "\n",
              "      <script>\n",
              "        const buttonEl =\n",
              "          document.querySelector('#df-6b1c9c69-2a2f-40c0-a2c0-cad5d4ca8e4a button.colab-df-convert');\n",
              "        buttonEl.style.display =\n",
              "          google.colab.kernel.accessAllowed ? 'block' : 'none';\n",
              "\n",
              "        async function convertToInteractive(key) {\n",
              "          const element = document.querySelector('#df-6b1c9c69-2a2f-40c0-a2c0-cad5d4ca8e4a');\n",
              "          const dataTable =\n",
              "            await google.colab.kernel.invokeFunction('convertToInteractive',\n",
              "                                                     [key], {});\n",
              "          if (!dataTable) return;\n",
              "\n",
              "          const docLinkHtml = 'Like what you see? Visit the ' +\n",
              "            '<a target=\"_blank\" href=https://colab.research.google.com/notebooks/data_table.ipynb>data table notebook</a>'\n",
              "            + ' to learn more about interactive tables.';\n",
              "          element.innerHTML = '';\n",
              "          dataTable['output_type'] = 'display_data';\n",
              "          await google.colab.output.renderOutput(dataTable, element);\n",
              "          const docLink = document.createElement('div');\n",
              "          docLink.innerHTML = docLinkHtml;\n",
              "          element.appendChild(docLink);\n",
              "        }\n",
              "      </script>\n",
              "    </div>\n",
              "  </div>\n",
              "  "
            ]
          },
          "metadata": {},
          "execution_count": 18
        }
      ],
      "source": [
        "data.head()"
      ]
    },
    {
      "cell_type": "code",
      "execution_count": null,
      "metadata": {
        "id": "aKDzfweDRuz4"
      },
      "outputs": [],
      "source": [
        "data = data.dropna()"
      ]
    },
    {
      "cell_type": "code",
      "source": [
        "len(data)"
      ],
      "metadata": {
        "colab": {
          "base_uri": "https://localhost:8080/"
        },
        "id": "CXlLo04KpOcb",
        "outputId": "40c03448-6e7e-472e-d4a5-88630bda3e7c"
      },
      "execution_count": null,
      "outputs": [
        {
          "output_type": "execute_result",
          "data": {
            "text/plain": [
              "599"
            ]
          },
          "metadata": {},
          "execution_count": 13
        }
      ]
    },
    {
      "cell_type": "markdown",
      "source": [
        "Creating test set"
      ],
      "metadata": {
        "id": "nOK8Xga_tTGR"
      }
    },
    {
      "cell_type": "code",
      "execution_count": null,
      "metadata": {
        "id": "hnfxSt7qfwns"
      },
      "outputs": [],
      "source": [
        "def split_dataframe(df, train_size = 0.8, random_state = 42):\n",
        "    # split data into training and validation set\n",
        "    df_trn, df_valid = train_test_split(df, stratify = df[config_data.label_column], train_size = train_size, random_state = random_state)\n",
        "    # apply sample strategy\n",
        "    sizeOne = sum(df_trn[config_data.label_column] == 1)\n",
        "    sizeZero = sum(df_trn[config_data.label_column] == 0)\n",
        "    major_label = 0\n",
        "    minor_label = 1\n",
        "    if sizeOne > sizeZero:\n",
        "      major_label = 1\n",
        "      minor_label = 0\n",
        "    if config.sampling == Sampling.UnderSampling:\n",
        "      df_trn = undersample(df_trn, major_label, minor_label)\n",
        "    elif config.sampling == Sampling.OverSampling:\n",
        "      df_trn = oversample(df_trn, major_label, minor_label)\n",
        "    return df_trn, df_valid\n",
        "\n",
        "data, sep_test = split_dataframe(data)"
      ]
    },
    {
      "cell_type": "code",
      "execution_count": null,
      "metadata": {
        "colab": {
          "base_uri": "https://localhost:8080/"
        },
        "id": "GqQorvqhg56g",
        "outputId": "9a5da8ee-15fe-4378-ef2e-6455a0b17215"
      },
      "outputs": [
        {
          "output_type": "execute_result",
          "data": {
            "text/plain": [
              "300"
            ]
          },
          "metadata": {},
          "execution_count": 15
        }
      ],
      "source": [
        "len(sep_test)"
      ]
    },
    {
      "cell_type": "code",
      "execution_count": null,
      "metadata": {
        "colab": {
          "base_uri": "https://localhost:8080/"
        },
        "id": "1wdR_e1ivLAD",
        "outputId": "e54fdce8-2958-43a5-9a51-788f2c6d1284"
      },
      "outputs": [
        {
          "output_type": "execute_result",
          "data": {
            "text/plain": [
              "419"
            ]
          },
          "metadata": {},
          "execution_count": 43
        }
      ],
      "source": [
        "len(data)"
      ]
    },
    {
      "cell_type": "markdown",
      "source": [
        "Optional - Don't have to do preprocessing"
      ],
      "metadata": {
        "id": "tPALOS5WwLnx"
      }
    },
    {
      "cell_type": "code",
      "execution_count": null,
      "metadata": {
        "id": "2VB7pvoFQh8o"
      },
      "outputs": [],
      "source": [
        "# lower the text\n",
        "data[\"Statement\"] = data[\"Statement\"].apply(lambda x: x.lower())\n",
        "\n",
        "# Clean the text\n",
        "data[\"Statement\"] = data[\"Statement\"].apply(lambda x: clean_text(x))\n",
        "\n",
        "# # Clean numbers\n",
        "# data[\"Statement\"] = data[\"Statement\"].apply(lambda x: clean_numbers(x))"
      ]
    },
    {
      "cell_type": "code",
      "execution_count": null,
      "metadata": {
        "id": "7XD95E86yYj2"
      },
      "outputs": [],
      "source": []
    },
    {
      "cell_type": "markdown",
      "metadata": {
        "id": "zMDtvtGpaDni"
      },
      "source": [
        "### Get the Number of instances in each class"
      ]
    },
    {
      "cell_type": "code",
      "execution_count": null,
      "metadata": {
        "colab": {
          "base_uri": "https://localhost:8080/"
        },
        "id": "OJWR-GBm1tYY",
        "outputId": "0c309d84-7e6b-4132-fd54-acb51d381882"
      },
      "outputs": [
        {
          "output_type": "stream",
          "name": "stdout",
          "text": [
            "(479, 2)\n",
            "0.0    460\n",
            "1.0     19\n",
            "Name: Data Action, dtype: int64\n"
          ]
        }
      ],
      "source": [
        "# df = load_all_data(config_data.train_data)\n",
        "# input_col = 'RequirementText'\n",
        "# shuffle the dataset a bit and get the amount of classes\n",
        "df = data\n",
        "df = df.sample(frac=1, axis=0, random_state = config.seed)\n",
        "config.num_labels = df[config_data.label_column].nunique()\n",
        "\n",
        "print(df.shape)\n",
        "print(df[config_data.label_column].value_counts())"
      ]
    },
    {
      "cell_type": "code",
      "execution_count": null,
      "metadata": {
        "colab": {
          "base_uri": "https://localhost:8080/"
        },
        "id": "yGblJuPu1zB-",
        "outputId": "52366f90-679f-4714-c101-096d56ee20a4"
      },
      "outputs": [
        {
          "output_type": "stream",
          "name": "stdout",
          "text": [
            "{0: 'not_Data Action', 1: 'Data Action'}\n"
          ]
        }
      ],
      "source": [
        "def create_label_indices(df):\n",
        "    #prepare label\n",
        "    labels = ['not_' + config_data.label_column, config_data.label_column]\n",
        "  \n",
        "    #create dict\n",
        "    labelDict = dict()\n",
        "    for i in range (0, len(labels)):\n",
        "        labelDict[i] = labels[i]\n",
        "    return labelDict\n",
        "\n",
        "label_indices = create_label_indices(df)\n",
        "print(label_indices)"
      ]
    },
    {
      "cell_type": "markdown",
      "metadata": {
        "id": "jkhL2ZjyZ6_m"
      },
      "source": [
        "### Oversampling/UnderSampling"
      ]
    },
    {
      "cell_type": "code",
      "execution_count": null,
      "metadata": {
        "id": "PjH13Q2L1zH5"
      },
      "outputs": [],
      "source": [
        "def undersample(df_trn, major_label, minor_label):\n",
        "  sample_size = sum(df_trn[config_data.label_column] == minor_label)\n",
        "  majority_indices = df_trn[df_trn[config_data.label_column] == major_label].index\n",
        "  random_indices = np.random.choice(majority_indices, sample_size, replace=False)\n",
        "  sample = df_trn.loc[random_indices]\n",
        "  sample = sample.append(df_trn[df_trn[config_data.label_column] == minor_label])\n",
        "  df_trn = sample\n",
        "  df_trn = df_trn.sample(frac=1, axis=0, random_state = config.seed)\n",
        "  print(df_trn[config_data.label_column].value_counts())\n",
        "  return df_trn\n",
        "\n",
        "def oversample(df_trn, major_label, minor_label):\n",
        "  minor_size = sum(df_trn[config_data.label_column] == minor_label)\n",
        "  major_size = sum(df_trn[config_data.label_column] == major_label)\n",
        "  multiplier = major_size//minor_size\n",
        "  sample = df_trn\n",
        "  minority_indices = df_trn[df_trn[config_data.label_column] == minor_label].index\n",
        "  diff = major_size - (multiplier * minor_size)     \n",
        "  random_indices = np.random.choice(minority_indices, diff, replace=False)\n",
        "  sample = pd.concat([df_trn.loc[random_indices], sample], ignore_index=True)\n",
        "  for i in range(multiplier - 1):\n",
        "    sample = pd.concat([sample, df_trn[df_trn[config_data.label_column] == minor_label]], ignore_index=True)\n",
        "  df_trn = sample\n",
        "  df_trn = df_trn.sample(frac=1, axis=0, random_state = config.seed)\n",
        "  print(df_trn[config_data.label_column].value_counts())\n",
        "  return df_trn"
      ]
    },
    {
      "cell_type": "code",
      "execution_count": null,
      "metadata": {
        "colab": {
          "base_uri": "https://localhost:8080/"
        },
        "id": "X-AnFIcPwXrY",
        "outputId": "914e2ffa-05e5-46ee-d775-7e6a91f2d635"
      },
      "outputs": [
        {
          "output_type": "stream",
          "name": "stdout",
          "text": [
            "0.0    460\n",
            "1.0    460\n",
            "Name: Data Action, dtype: int64\n"
          ]
        }
      ],
      "source": [
        "ov = oversample(df, 0.0, 1.0 )"
      ]
    },
    {
      "cell_type": "code",
      "source": [
        "df['Data Action']"
      ],
      "metadata": {
        "id": "XHve0AX8TRpb"
      },
      "execution_count": null,
      "outputs": []
    },
    {
      "cell_type": "markdown",
      "source": [
        "Creating Validation set"
      ],
      "metadata": {
        "id": "mmEQSPBwtXYT"
      }
    },
    {
      "cell_type": "code",
      "execution_count": null,
      "metadata": {
        "id": "hVtu7taX7Knv"
      },
      "outputs": [],
      "source": [
        "def split_dataframe(df, train_size = 0.8, random_state = 42):\n",
        "    # split data into training and validation set\n",
        "    df_trn, df_valid = train_test_split(df, stratify = df[config_data.label_column], train_size = train_size, random_state = random_state)\n",
        "    # apply sample strategy\n",
        "    sizeOne = sum(df_trn[config_data.label_column] == 1)\n",
        "    sizeZero = sum(df_trn[config_data.label_column] == 0)\n",
        "    major_label = 0\n",
        "    minor_label = 1\n",
        "    if sizeOne > sizeZero:\n",
        "      major_label = 1\n",
        "      minor_label = 0\n",
        "    if config.sampling == Sampling.UnderSampling:\n",
        "      df_trn = undersample(df_trn, major_label, minor_label)\n",
        "    elif config.sampling == Sampling.OverSampling:\n",
        "      df_trn = oversample(df_trn, major_label, minor_label)\n",
        "    return df_trn, df_valid\n",
        "\n",
        "train, test = split_dataframe(ov)"
      ]
    },
    {
      "cell_type": "code",
      "source": [
        "full_train = ov.reset_index(drop=True) # Contains full training data, to be used after hyper parameter tuning\n",
        "\n",
        "train = train.reset_index(drop=True)\n",
        "test = test.reset_index(drop=True)\n",
        "sep_test = sep_test.reset_index(drop=True)"
      ],
      "metadata": {
        "id": "9viXSvL1XO3m"
      },
      "execution_count": null,
      "outputs": []
    },
    {
      "cell_type": "code",
      "execution_count": null,
      "metadata": {
        "id": "-smDNWMD2Sqe"
      },
      "outputs": [],
      "source": [
        "train.head()"
      ]
    },
    {
      "cell_type": "code",
      "execution_count": null,
      "metadata": {
        "colab": {
          "base_uri": "https://localhost:8080/"
        },
        "id": "SVJrnb3qrwc9",
        "outputId": "2b126ea5-7159-4f81-f283-cdab0d5b6547"
      },
      "outputs": [
        {
          "output_type": "stream",
          "name": "stdout",
          "text": [
            "Length of training data after oversampling: 686\n",
            "Length of validation data after oversampling: 172\n"
          ]
        }
      ],
      "source": [
        "print(\"Length of training data after oversampling:\",len(train))\n",
        "print(\"Length of validation data after oversampling:\",len(test))"
      ]
    },
    {
      "cell_type": "code",
      "execution_count": null,
      "metadata": {
        "id": "mQ_7Gh9DRGsg"
      },
      "outputs": [],
      "source": [
        "# ov=df\n",
        "ov = ov.reset_index(drop=True)"
      ]
    },
    {
      "cell_type": "code",
      "execution_count": null,
      "metadata": {
        "id": "ToqWtEv3jw3z"
      },
      "outputs": [],
      "source": [
        "# x_data = ov['Statement']\n",
        "# y_data = ov['Measurement']\n",
        "# y_data = ov['Time Constraint']\n",
        "# y_data = ov['Data Definition']\n",
        "# y_data = ov['Data Action']\n",
        "# y_data = ov['Convention']\n",
        "# y_data = ov['Software Related']"
      ]
    },
    {
      "cell_type": "markdown",
      "source": [
        "Assigning training , test and validation datasets to variables"
      ],
      "metadata": {
        "id": "eLSv5x7MA5YY"
      }
    },
    {
      "cell_type": "code",
      "execution_count": null,
      "metadata": {
        "id": "4v-HBM9R2Pie"
      },
      "outputs": [],
      "source": [
        "full_train_X = full_train['Statement'] # Full train to be used only after hyper parameter tuning\n",
        "# full_train_Y = full_train['Measurement']\n",
        "# full_train_Y = full_train['Time Constraint']\n",
        "# full_train_Y = full_train['Data Definition']\n",
        "full_train_Y = full_train['Data Action']\n",
        "# full_train_Y = full_train['Convention']\n",
        "\n",
        "train_X = train['Statement']\n",
        "# train_Y = train['Measurement']\n",
        "# train_Y = train['Data Definition']\n",
        "train_Y = train['Data Action']\n",
        "# train_Y = train['Convention']\n",
        "# train_Y = train['Time Constraint']\n",
        "\n",
        "val_X = test['Statement']\n",
        "# val_Y = test['Measurement']\n",
        "# val_Y = test['Data Definition']\n",
        "val_Y = test['Data Action']\n",
        "# val_Y = test['Convention']\n",
        "# val_Y = test['Time Constraint']\n",
        "\n",
        "test_X = sep_test['Statement']\n",
        "# test_Y = sep_test['Measurement']\n",
        "# test_Y = sep_test['Data Definition']\n",
        "test_Y = sep_test['Data Action']\n",
        "# test_Y = sep_test['Convention']\n",
        "# test_Y = sep_test['Time Constraint']\n",
        "\n",
        "\n",
        "\n"
      ]
    },
    {
      "cell_type": "code",
      "source": [],
      "metadata": {
        "id": "L4XPd6DHskkY"
      },
      "execution_count": null,
      "outputs": []
    },
    {
      "cell_type": "code",
      "execution_count": null,
      "metadata": {
        "id": "eqkKi34m3qsD",
        "colab": {
          "base_uri": "https://localhost:8080/"
        },
        "outputId": "c4a0dde2-dc4b-445b-b937-4f006406bf0e"
      },
      "outputs": [
        {
          "output_type": "execute_result",
          "data": {
            "text/plain": [
              "0    (b) any person who only sells fresh fruits or ...\n",
              "1    and\\n\\n(b) the statement referred to in sectio...\n",
              "2    (b) fish that is in a hermetically sealed pack...\n",
              "3    and\\n\\n(d) in the case of skim milk powder tha...\n",
              "4    138 (1) Within 24 hours before the slaughter o...\n",
              "Name: Statement, dtype: object"
            ]
          },
          "metadata": {},
          "execution_count": 24
        }
      ],
      "source": [
        "train_X.head()"
      ]
    },
    {
      "cell_type": "markdown",
      "source": [
        "Tokenizing the initial training, validation ,test data for hyper parameter tuning"
      ],
      "metadata": {
        "id": "kEdXX_j-BJQ_"
      }
    },
    {
      "cell_type": "code",
      "execution_count": null,
      "metadata": {
        "id": "GOf-fvF511GT"
      },
      "outputs": [],
      "source": [
        "## Tokenize the sentences\n",
        "tokenizer = Tokenizer(num_words=max_features)\n",
        "tokenizer.fit_on_texts(list(train_X))\n",
        "train_X = tokenizer.texts_to_sequences(train_X)\n",
        "val_X = tokenizer.texts_to_sequences(val_X)\n",
        "test_X = tokenizer.texts_to_sequences(test_X)\n",
        "\n",
        "## Pad the sentences \n",
        "train_X = pad_sequences(train_X, maxlen=maxlen)\n",
        "test_X = pad_sequences(test_X, maxlen=maxlen)\n",
        "val_X = pad_sequences(val_X, maxlen=maxlen)"
      ]
    },
    {
      "cell_type": "code",
      "source": [],
      "metadata": {
        "id": "FBxK9b6ONNvc"
      },
      "execution_count": null,
      "outputs": []
    },
    {
      "cell_type": "markdown",
      "source": [
        "Tokenizing the full training data"
      ],
      "metadata": {
        "id": "W8wqG2ZyBHEl"
      }
    },
    {
      "cell_type": "code",
      "source": [
        "## Tokenize the sentences\n",
        "tokenizer = Tokenizer(num_words=max_features)\n",
        "tokenizer.fit_on_texts(list(full_train_X))\n",
        "full_train_X = tokenizer.texts_to_sequences(full_train_X)\n",
        "\n",
        "test_X = tokenizer.texts_to_sequences(test_X)\n",
        "\n",
        "## Pad the sentences \n",
        "full_train_X = pad_sequences(full_train_X, maxlen=maxlen)\n",
        "test_X = pad_sequences(test_X, maxlen=maxlen)"
      ],
      "metadata": {
        "id": "I9eiySaTZVuP"
      },
      "execution_count": null,
      "outputs": []
    },
    {
      "cell_type": "markdown",
      "source": [
        "Encoding labels for initial train, val and test data for hyper parameter tuning"
      ],
      "metadata": {
        "id": "IR1WrhiiBWM9"
      }
    },
    {
      "cell_type": "code",
      "execution_count": null,
      "metadata": {
        "id": "b2MXjZli11GT"
      },
      "outputs": [],
      "source": [
        "\n",
        "le = LabelEncoder()\n",
        "train_Y = le.fit_transform(train_Y.values)\n",
        "test_Y = le.transform(test_Y.values)\n",
        "val_Y = le.transform(val_Y.values)\n",
        "\n"
      ]
    },
    {
      "cell_type": "markdown",
      "source": [
        "Encoding the labels for full training data"
      ],
      "metadata": {
        "id": "oF6pK_h-BTcT"
      }
    },
    {
      "cell_type": "code",
      "source": [
        "\n",
        "## Tokenize the sentences\n",
        "tokenizer = Tokenizer(num_words=max_features)\n",
        "tokenizer.fit_on_texts(list(full_train_X))\n",
        "full_train_X = tokenizer.texts_to_sequences(full_train_X)\n",
        "\n",
        "test_X = tokenizer.texts_to_sequences(test_X)\n",
        "\n",
        "## Pad the sentences \n",
        "full_train_X = pad_sequences(full_train_X, maxlen=maxlen)\n",
        "test_X = pad_sequences(test_X, maxlen=maxlen)\n",
        "\n",
        "le = LabelEncoder()\n",
        "full_train_Y = le.fit_transform(full_train_Y.values)\n",
        "test_Y = le.transform(test_Y.values)\n"
      ],
      "metadata": {
        "id": "UZQ9qqhCZy5l",
        "colab": {
          "base_uri": "https://localhost:8080/",
          "height": 399
        },
        "outputId": "f2ac868d-488e-4d3b-96a1-38a92ddc2218"
      },
      "execution_count": null,
      "outputs": [
        {
          "output_type": "error",
          "ename": "AttributeError",
          "evalue": "ignored",
          "traceback": [
            "\u001b[0;31m---------------------------------------------------------------------------\u001b[0m",
            "\u001b[0;31mAttributeError\u001b[0m                            Traceback (most recent call last)",
            "\u001b[0;32m<ipython-input-24-401fee065153>\u001b[0m in \u001b[0;36m<module>\u001b[0;34m\u001b[0m\n\u001b[1;32m      1\u001b[0m \u001b[0;31m## Tokenize the sentences\u001b[0m\u001b[0;34m\u001b[0m\u001b[0;34m\u001b[0m\u001b[0;34m\u001b[0m\u001b[0m\n\u001b[1;32m      2\u001b[0m \u001b[0mtokenizer\u001b[0m \u001b[0;34m=\u001b[0m \u001b[0mTokenizer\u001b[0m\u001b[0;34m(\u001b[0m\u001b[0mnum_words\u001b[0m\u001b[0;34m=\u001b[0m\u001b[0mmax_features\u001b[0m\u001b[0;34m)\u001b[0m\u001b[0;34m\u001b[0m\u001b[0;34m\u001b[0m\u001b[0m\n\u001b[0;32m----> 3\u001b[0;31m \u001b[0mtokenizer\u001b[0m\u001b[0;34m.\u001b[0m\u001b[0mfit_on_texts\u001b[0m\u001b[0;34m(\u001b[0m\u001b[0mlist\u001b[0m\u001b[0;34m(\u001b[0m\u001b[0mfull_train_X\u001b[0m\u001b[0;34m)\u001b[0m\u001b[0;34m)\u001b[0m\u001b[0;34m\u001b[0m\u001b[0;34m\u001b[0m\u001b[0m\n\u001b[0m\u001b[1;32m      4\u001b[0m \u001b[0mfull_train_X\u001b[0m \u001b[0;34m=\u001b[0m \u001b[0mtokenizer\u001b[0m\u001b[0;34m.\u001b[0m\u001b[0mtexts_to_sequences\u001b[0m\u001b[0;34m(\u001b[0m\u001b[0mfull_train_X\u001b[0m\u001b[0;34m)\u001b[0m\u001b[0;34m\u001b[0m\u001b[0;34m\u001b[0m\u001b[0m\n\u001b[1;32m      5\u001b[0m \u001b[0;34m\u001b[0m\u001b[0m\n",
            "\u001b[0;32m/usr/local/lib/python3.8/dist-packages/keras/preprocessing/text.py\u001b[0m in \u001b[0;36mfit_on_texts\u001b[0;34m(self, texts)\u001b[0m\n\u001b[1;32m    277\u001b[0m       \u001b[0;32melse\u001b[0m\u001b[0;34m:\u001b[0m\u001b[0;34m\u001b[0m\u001b[0;34m\u001b[0m\u001b[0m\n\u001b[1;32m    278\u001b[0m         \u001b[0;32mif\u001b[0m \u001b[0mself\u001b[0m\u001b[0;34m.\u001b[0m\u001b[0manalyzer\u001b[0m \u001b[0;32mis\u001b[0m \u001b[0;32mNone\u001b[0m\u001b[0;34m:\u001b[0m\u001b[0;34m\u001b[0m\u001b[0;34m\u001b[0m\u001b[0m\n\u001b[0;32m--> 279\u001b[0;31m           seq = text_to_word_sequence(\n\u001b[0m\u001b[1;32m    280\u001b[0m               text, filters=self.filters, lower=self.lower, split=self.split)\n\u001b[1;32m    281\u001b[0m         \u001b[0;32melse\u001b[0m\u001b[0;34m:\u001b[0m\u001b[0;34m\u001b[0m\u001b[0;34m\u001b[0m\u001b[0m\n",
            "\u001b[0;32m/usr/local/lib/python3.8/dist-packages/keras/preprocessing/text.py\u001b[0m in \u001b[0;36mtext_to_word_sequence\u001b[0;34m(input_text, filters, lower, split)\u001b[0m\n\u001b[1;32m     70\u001b[0m   \"\"\"\n\u001b[1;32m     71\u001b[0m   \u001b[0;32mif\u001b[0m \u001b[0mlower\u001b[0m\u001b[0;34m:\u001b[0m\u001b[0;34m\u001b[0m\u001b[0;34m\u001b[0m\u001b[0m\n\u001b[0;32m---> 72\u001b[0;31m     \u001b[0minput_text\u001b[0m \u001b[0;34m=\u001b[0m \u001b[0minput_text\u001b[0m\u001b[0;34m.\u001b[0m\u001b[0mlower\u001b[0m\u001b[0;34m(\u001b[0m\u001b[0;34m)\u001b[0m\u001b[0;34m\u001b[0m\u001b[0;34m\u001b[0m\u001b[0m\n\u001b[0m\u001b[1;32m     73\u001b[0m \u001b[0;34m\u001b[0m\u001b[0m\n\u001b[1;32m     74\u001b[0m   \u001b[0mtranslate_dict\u001b[0m \u001b[0;34m=\u001b[0m \u001b[0;34m{\u001b[0m\u001b[0mc\u001b[0m\u001b[0;34m:\u001b[0m \u001b[0msplit\u001b[0m \u001b[0;32mfor\u001b[0m \u001b[0mc\u001b[0m \u001b[0;32min\u001b[0m \u001b[0mfilters\u001b[0m\u001b[0;34m}\u001b[0m\u001b[0;34m\u001b[0m\u001b[0;34m\u001b[0m\u001b[0m\n",
            "\u001b[0;31mAttributeError\u001b[0m: 'numpy.ndarray' object has no attribute 'lower'"
          ]
        }
      ]
    },
    {
      "cell_type": "code",
      "execution_count": null,
      "metadata": {
        "colab": {
          "base_uri": "https://localhost:8080/"
        },
        "id": "ds6Gd0Zq11GT",
        "outputId": "634188d7-c238-44b5-d41f-2a6e0d5f3662"
      },
      "outputs": [
        {
          "output_type": "execute_result",
          "data": {
            "text/plain": [
              "array([0., 1.])"
            ]
          },
          "metadata": {},
          "execution_count": 71
        }
      ],
      "source": [
        "le.classes_"
      ]
    },
    {
      "cell_type": "code",
      "execution_count": null,
      "metadata": {
        "colab": {
          "base_uri": "https://localhost:8080/"
        },
        "id": "STkPsVVkDmtj",
        "outputId": "68a04bab-cb82-484a-cdb8-37a7fbd17161"
      },
      "outputs": [
        {
          "data": {
            "text/plain": [
              "array([0, 0, 0, 0, 0])"
            ]
          },
          "execution_count": 53,
          "metadata": {},
          "output_type": "execute_result"
        }
      ],
      "source": [
        "test_Y[:5]"
      ]
    },
    {
      "cell_type": "code",
      "execution_count": null,
      "metadata": {
        "colab": {
          "base_uri": "https://localhost:8080/"
        },
        "id": "0dZrbR9uD3FK",
        "outputId": "78d037b8-a947-4651-93b4-4e2c527a3e6d"
      },
      "outputs": [
        {
          "output_type": "execute_result",
          "data": {
            "text/plain": [
              "0    1.0\n",
              "1    0.0\n",
              "2    0.0\n",
              "3    0.0\n",
              "4    0.0\n",
              "Name: Measurement, dtype: float64"
            ]
          },
          "metadata": {},
          "execution_count": 44
        }
      ],
      "source": [
        "sep_test['Measurement'].head()"
      ]
    },
    {
      "cell_type": "markdown",
      "metadata": {
        "id": "rPaJDgvCtrhG"
      },
      "source": [
        "### Load Glove Embeddings\n"
      ]
    },
    {
      "cell_type": "code",
      "execution_count": null,
      "metadata": {
        "id": "AQCDb9HttrhG"
      },
      "outputs": [],
      "source": [
        "## FUNCTIONS TAKEN FROM https://www.kaggle.com/gmhost/gru-capsule\n",
        "\n",
        "def load_glove(word_index):\n",
        "    EMBEDDING_FILE = 'embedding/glove.840B.300d.txt'\n",
        "    def get_coefs(word,*arr): return word, np.asarray(arr, dtype='float32')[:300]\n",
        "    embeddings_index = dict(get_coefs(*o.split(\" \")) for o in open(EMBEDDING_FILE))\n",
        "    \n",
        "    all_embs = np.stack(embeddings_index.values())\n",
        "    emb_mean,emb_std = -0.005838499,0.48782197\n",
        "    embed_size = all_embs.shape[1]\n",
        "\n",
        "    nb_words = min(max_features, len(word_index)+1)\n",
        "    embedding_matrix = np.random.normal(emb_mean, emb_std, (nb_words, embed_size))\n",
        "    for word, i in word_index.items():\n",
        "        if i >= max_features: continue\n",
        "        embedding_vector = embeddings_index.get(word)\n",
        "        if embedding_vector is not None: \n",
        "            embedding_matrix[i] = embedding_vector\n",
        "        else:\n",
        "            embedding_vector = embeddings_index.get(word.capitalize())\n",
        "            if embedding_vector is not None: \n",
        "                embedding_matrix[i] = embedding_vector\n",
        "    return embedding_matrix"
      ]
    },
    {
      "cell_type": "markdown",
      "source": [
        "Load glove embeddings for the corresponding tokenizer"
      ],
      "metadata": {
        "id": "7ucAIQ_fBe4K"
      }
    },
    {
      "cell_type": "code",
      "execution_count": null,
      "metadata": {
        "id": "8fA7xGtttrhH",
        "scrolled": true,
        "colab": {
          "base_uri": "https://localhost:8080/"
        },
        "outputId": "36c09d69-7b2e-434a-dc16-93516da62429"
      },
      "outputs": [
        {
          "output_type": "stream",
          "name": "stderr",
          "text": [
            "/usr/local/lib/python3.8/dist-packages/IPython/core/interactiveshell.py:3326: FutureWarning: arrays to stack must be passed as a \"sequence\" type such as list or tuple. Support for non-sequence iterables such as generators is deprecated as of NumPy 1.16 and will raise an error in the future.\n",
            "  exec(code_obj, self.user_global_ns, self.user_ns)\n"
          ]
        }
      ],
      "source": [
        "# missing entries in the embedding are set using np.random.normal so we have to seed here too\n",
        "\n",
        "if debug:\n",
        "    embedding_matrix = np.random.randn(12000,300)\n",
        "else:\n",
        "    embedding_matrix = load_glove(tokenizer.word_index)"
      ]
    },
    {
      "cell_type": "code",
      "source": [],
      "metadata": {
        "id": "dFVtXPKIrvOH"
      },
      "execution_count": null,
      "outputs": []
    },
    {
      "cell_type": "code",
      "execution_count": null,
      "metadata": {
        "colab": {
          "base_uri": "https://localhost:8080/"
        },
        "id": "Ig5X8bNytrhH",
        "outputId": "28ae4989-064b-4fac-a04c-734593d6a2fa"
      },
      "outputs": [
        {
          "output_type": "execute_result",
          "data": {
            "text/plain": [
              "(1585, 300)"
            ]
          },
          "metadata": {},
          "execution_count": 31
        }
      ],
      "source": [
        "np.shape(embedding_matrix)"
      ]
    },
    {
      "cell_type": "markdown",
      "metadata": {
        "id": "XhfIhhgftrhH"
      },
      "source": [
        "## Pytorch Model - TextCNN"
      ]
    },
    {
      "cell_type": "code",
      "execution_count": null,
      "metadata": {
        "id": "wvVpoCV2trhH"
      },
      "outputs": [],
      "source": [
        "class CNN_Text(nn.Module):\n",
        "    \n",
        "    def __init__(self):\n",
        "        super(CNN_Text, self).__init__()\n",
        "        filter_sizes = [1,2,3,5]\n",
        "        num_filters = 36\n",
        "        n_classes = len(le.classes_)\n",
        "        self.embedding = nn.Embedding(max_features, embed_size)\n",
        "        self.embedding.weight = nn.Parameter(torch.tensor(embedding_matrix, dtype=torch.float32))\n",
        "        self.embedding.weight.requires_grad = False\n",
        "        self.convs1 = nn.ModuleList([nn.Conv2d(1, num_filters, (K, embed_size)) for K in filter_sizes])\n",
        "        self.dropout = nn.Dropout(0.1)\n",
        "        self.fc1 = nn.Linear(len(filter_sizes)*num_filters, n_classes)\n",
        "\n",
        "\n",
        "    def forward(self, x):\n",
        "        x = self.embedding(x)  \n",
        "        x = x.unsqueeze(1)  \n",
        "        x = [F.relu(conv(x)).squeeze(3) for conv in self.convs1] \n",
        "        x = [F.max_pool1d(i, i.size(2)).squeeze(2) for i in x]  \n",
        "        x = torch.cat(x, 1)\n",
        "        x = self.dropout(x)  \n",
        "        logit = self.fc1(x) \n",
        "        return logit"
      ]
    },
    {
      "cell_type": "markdown",
      "metadata": {
        "id": "mpngGWcitrhI"
      },
      "source": [
        "## Train TextCNN Model"
      ]
    },
    {
      "cell_type": "code",
      "execution_count": null,
      "metadata": {
        "id": "QXXN8C6LtrhI",
        "outputId": "6fefe563-a7bc-4339-891b-a615a5ebd56c"
      },
      "outputs": [
        {
          "name": "stderr",
          "output_type": "stream",
          "text": [
            "/opt/conda/lib/python3.6/site-packages/ipykernel_launcher.py:48: UserWarning:\n",
            "\n",
            "Implicit dimension choice for softmax has been deprecated. Change the call to include dim=X as an argument.\n",
            "\n"
          ]
        },
        {
          "name": "stdout",
          "output_type": "stream",
          "text": [
            "Epoch 1/6 \t loss=491.8629 \t val_loss=248.0509  \t val_acc=0.8373  \t time=34.86s\n",
            "Epoch 2/6 \t loss=231.9668 \t val_loss=208.5181  \t val_acc=0.8582  \t time=33.89s\n",
            "Epoch 3/6 \t loss=202.0433 \t val_loss=193.2557  \t val_acc=0.8662  \t time=33.83s\n",
            "Epoch 4/6 \t loss=182.8388 \t val_loss=183.2768  \t val_acc=0.8732  \t time=34.06s\n",
            "Epoch 5/6 \t loss=168.6442 \t val_loss=177.2318  \t val_acc=0.8772  \t time=33.86s\n",
            "Epoch 6/6 \t loss=156.3984 \t val_loss=169.1364  \t val_acc=0.8803  \t time=33.89s\n"
          ]
        }
      ],
      "source": [
        "n_epochs = 6\n",
        "model = CNN_Text()\n",
        "loss_fn = nn.CrossEntropyLoss(reduction='sum')\n",
        "optimizer = torch.optim.Adam(filter(lambda p: p.requires_grad, model.parameters()), lr=0.001)\n",
        "model.cuda()\n",
        "\n",
        "# Load train and test in CUDA Memory\n",
        "x_train = torch.tensor(train_X, dtype=torch.long).cuda()\n",
        "y_train = torch.tensor(train_y, dtype=torch.long).cuda()\n",
        "x_cv = torch.tensor(test_X, dtype=torch.long).cuda()\n",
        "y_cv = torch.tensor(test_y, dtype=torch.long).cuda()\n",
        "\n",
        "# Create Torch datasets\n",
        "train = torch.utils.data.TensorDataset(x_train, y_train)\n",
        "valid = torch.utils.data.TensorDataset(x_cv, y_cv)\n",
        "\n",
        "# Create Data Loaders\n",
        "train_loader = torch.utils.data.DataLoader(train, batch_size=batch_size, shuffle=True)\n",
        "valid_loader = torch.utils.data.DataLoader(valid, batch_size=batch_size, shuffle=False)\n",
        "\n",
        "train_loss = []\n",
        "valid_loss = []\n",
        "\n",
        "for epoch in range(n_epochs):\n",
        "    start_time = time.time()\n",
        "    # Set model to train configuration\n",
        "    model.train()\n",
        "    avg_loss = 0.  \n",
        "    for i, (x_batch, y_batch) in enumerate(train_loader):\n",
        "        # Predict/Forward Pass\n",
        "        y_pred = model(x_batch)\n",
        "        # Compute loss\n",
        "        loss = loss_fn(y_pred, y_batch)\n",
        "        optimizer.zero_grad()\n",
        "        loss.backward()\n",
        "        optimizer.step()\n",
        "        avg_loss += loss.item() / len(train_loader)\n",
        "    \n",
        "    # Set model to validation configuration -Doesn't get trained here\n",
        "    model.eval()        \n",
        "    avg_val_loss = 0.\n",
        "    val_preds = np.zeros((len(x_cv),len(le.classes_)))\n",
        "    \n",
        "    for i, (x_batch, y_batch) in enumerate(valid_loader):\n",
        "        y_pred = model(x_batch).detach()\n",
        "        avg_val_loss += loss_fn(y_pred, y_batch).item() / len(valid_loader)\n",
        "        # keep/store predictions\n",
        "        val_preds[i * batch_size:(i+1) * batch_size] =F.softmax(y_pred).cpu().numpy()\n",
        "    \n",
        "    # Check Accuracy\n",
        "    val_accuracy = sum(val_preds.argmax(axis=1)==test_y)/len(test_y)\n",
        "    train_loss.append(avg_loss)\n",
        "    valid_loss.append(avg_val_loss)\n",
        "    elapsed_time = time.time() - start_time \n",
        "    print('Epoch {}/{} \\t loss={:.4f} \\t val_loss={:.4f}  \\t val_acc={:.4f}  \\t time={:.2f}s'.format(\n",
        "                epoch + 1, n_epochs, avg_loss, avg_val_loss, val_accuracy, elapsed_time))"
      ]
    },
    {
      "cell_type": "code",
      "execution_count": null,
      "metadata": {
        "id": "-08_2_eFtrhI",
        "outputId": "624b5cab-f9d1-42ec-fa52-4a69ca36864f"
      },
      "outputs": [
        {
          "name": "stderr",
          "output_type": "stream",
          "text": [
            "/opt/conda/lib/python3.6/site-packages/torch/serialization.py:360: UserWarning:\n",
            "\n",
            "Couldn't retrieve source code for container of type CNN_Text. It won't be checked for correctness upon loading.\n",
            "\n"
          ]
        }
      ],
      "source": [
        "torch.save(model,'textcnn_model')"
      ]
    },
    {
      "cell_type": "code",
      "execution_count": null,
      "metadata": {
        "id": "tFeirxvntrhI"
      },
      "outputs": [],
      "source": [
        "def plot_graph(epochs):\n",
        "    fig = plt.figure(figsize=(12,12))\n",
        "    plt.title(\"Train/Validation Loss\")\n",
        "    plt.plot(list(np.arange(epochs) + 1) , train_loss, label='train')\n",
        "    plt.plot(list(np.arange(epochs) + 1), valid_loss, label='validation')\n",
        "    plt.xlabel('num_epochs', fontsize=12)\n",
        "    plt.ylabel('loss', fontsize=12)\n",
        "    plt.legend(loc='best')"
      ]
    },
    {
      "cell_type": "code",
      "execution_count": null,
      "metadata": {
        "id": "J5cr1iQBtrhJ",
        "outputId": "28f5b440-118f-4860-f81b-26edb7edc3d5"
      },
      "outputs": [
        {
          "data": {
            "image/png": "[encoded data removed]",
            "text/plain": [
              "<Figure size 864x864 with 1 Axes>"
            ]
          },
          "metadata": {},
          "output_type": "display_data"
        }
      ],
      "source": [
        "plot_graph(n_epochs)"
      ]
    },
    {
      "cell_type": "code",
      "execution_count": null,
      "metadata": {
        "id": "qn9tZexTtrhJ",
        "outputId": "a8567426-e7b5-4311-e95a-dbbe4bd1c05f"
      },
      "outputs": [
        {
          "data": {
            "text/plain": [
              "<matplotlib.axes._subplots.AxesSubplot at 0x7fe8e25727f0>"
            ]
          },
          "execution_count": 34,
          "metadata": {},
          "output_type": "execute_result"
        },
        {
          "data": {
            "image/png": "[encoded data removed]",
            "text/plain": [
              "<Figure size 864x864 with 2 Axes>"
            ]
          },
          "metadata": {},
          "output_type": "display_data"
        }
      ],
      "source": [
        "import scikitplot as skplt\n",
        "y_true = [le.classes_[x] for x in test_y]\n",
        "y_pred = [le.classes_[x] for x in val_preds.argmax(axis=1)]\n",
        "skplt.metrics.plot_confusion_matrix(\n",
        "    y_true, \n",
        "    y_pred,\n",
        "    figsize=(12,12),x_tick_rotation=90)"
      ]
    },
    {
      "cell_type": "markdown",
      "metadata": {
        "id": "HevHVLdxtrhJ"
      },
      "source": [
        "## Pytorch Model - BiLSTM"
      ]
    },
    {
      "cell_type": "code",
      "execution_count": null,
      "metadata": {
        "id": "_J58dh-NuWx9"
      },
      "outputs": [],
      "source": [
        "class BiLSTM(nn.Module):\n",
        "    \n",
        "    def __init__(self, max_features, embed_size, hidden_size, drp, n_layers, n_classes):\n",
        "        super(BiLSTM, self).__init__()\n",
        "        # self.hidden_size = 64\n",
        "        # drp = 0.1\n",
        "        # n_classes = len(le.classes_)\n",
        "        self.embedding = nn.Embedding(max_features, embed_size)\n",
        "        self.embedding.weight = nn.Parameter(torch.tensor(embedding_matrix, dtype=torch.float32))\n",
        "        self.embedding.weight.requires_grad = False\n",
        "        self.lstm = nn.LSTM(embed_size, hidden_size, bidirectional=True, batch_first=True)\n",
        "        self.linear = nn.Linear(hidden_size*4 , hidden_size)\n",
        "        self.relu = nn.ReLU()\n",
        "        self.dropout = nn.Dropout(drp)\n",
        "        self.out = nn.Linear(hidden_size, n_classes)\n",
        "\n",
        "\n",
        "    def forward(self, x):\n",
        "        #rint(x.size())\n",
        "        h_embedding = self.embedding(x)\n",
        "        #_embedding = torch.squeeze(torch.unsqueeze(h_embedding, 0))\n",
        "        h_lstm, _ = self.lstm(h_embedding)\n",
        "        avg_pool = torch.mean(h_lstm, 1)\n",
        "        max_pool, _ = torch.max(h_lstm, 1)\n",
        "        conc = torch.cat(( avg_pool, max_pool), 1)\n",
        "        conc = self.relu(self.linear(conc))\n",
        "        conc = self.dropout(conc)\n",
        "        out = self.out(conc)\n",
        "        return out"
      ]
    },
    {
      "cell_type": "markdown",
      "metadata": {
        "id": "W5CDm2dcl7ha"
      },
      "source": [
        "### Training and testing function"
      ]
    },
    {
      "cell_type": "code",
      "execution_count": null,
      "metadata": {
        "id": "N4L8XnvoueZE"
      },
      "outputs": [],
      "source": [
        "\n",
        "#Full Training\n",
        "# train_X = full_train_X\n",
        "# train_Y = full_train_Y\n",
        "\n",
        "# val_X = test_X\n",
        "# val_Y = test_Y\n",
        "\n",
        "def train_and_validate(params):\n",
        "  n_epochs = params['n_epochs']\n",
        "  hidden_size = params['hidden_size']\n",
        "  drop_rate = params['drop_rate']\n",
        "  n_layers = params['n_layers']\n",
        "  n_classes = len(le.classes_)\n",
        "  embed_size = 300 \n",
        "  max_features = 12000\n",
        "  learning_rate = params['learning_rate']\n",
        "\n",
        "  model = BiLSTM(max_features, embed_size, hidden_size, drop_rate, n_layers, n_classes)\n",
        "  loss_fn = nn.CrossEntropyLoss(reduction='sum')\n",
        "  model.cuda()\n",
        "  # optimizer = torch.optim.Adam(filter(lambda p: p.requires_grad, model.parameters()), lr=learning_rate)\n",
        "  optimizer = getattr(optim, params['optimizer'])(model.parameters(), lr= params['learning_rate'])\n",
        "\n",
        "\n",
        "  # Load train and test in CUDA Memory\n",
        "  x_train = torch.tensor(train_X, dtype=torch.long).cuda()\n",
        "  y_train = torch.tensor(train_Y, dtype=torch.long).cuda()\n",
        "  x_cv = torch.tensor(val_X, dtype=torch.long).cuda()\n",
        "  y_cv = torch.tensor(val_Y, dtype=torch.long).cuda()\n",
        "\n",
        "  # Create Torch datasets\n",
        "  train = torch.utils.data.TensorDataset(x_train, y_train)\n",
        "  valid = torch.utils.data.TensorDataset(x_cv, y_cv)\n",
        "\n",
        "  # train = DatasetMaper(x_train, y_train)\n",
        "  # valid = DatasetMaper(x_cv, y_cv)\n",
        "\n",
        "  # Create Data Loaders\n",
        "  train_loader = torch.utils.data.DataLoader(train, batch_size=batch_size, shuffle=True)\n",
        "  valid_loader = torch.utils.data.DataLoader(valid, batch_size=batch_size, shuffle=False)\n",
        "\n",
        "  train_loss = []\n",
        "  valid_loss = []\n",
        "\n",
        "  for epoch in range(n_epochs):\n",
        "      start_time = time.time()\n",
        "      # Set model to train configuration\n",
        "      model.train()\n",
        "      avg_loss = 0.  \n",
        "      for i, (x_batch, y_batch) in enumerate(train_loader):\n",
        "          # Predict/Forward Pass\n",
        "          y_pred = model(x_batch)\n",
        "          # Compute loss\n",
        "          loss = loss_fn(y_pred, y_batch)\n",
        "          optimizer.zero_grad()\n",
        "          loss.backward()\n",
        "          optimizer.step()\n",
        "          avg_loss += loss.item() / len(train_loader)\n",
        "      \n",
        "      # Set model to validation configuration -Doesn't get trained here\n",
        "      model.eval()        \n",
        "      avg_val_loss = 0.\n",
        "      val_preds = np.zeros((len(x_cv),len(le.classes_)))\n",
        "      \n",
        "      for i, (x_batch, y_batch) in enumerate(valid_loader):\n",
        "          y_pred = model(x_batch).detach()\n",
        "          avg_val_loss += loss_fn(y_pred, y_batch).item() / len(valid_loader)\n",
        "          # keep/store predictions\n",
        "          val_preds[i * batch_size:(i+1) * batch_size] =F.softmax(y_pred).cpu().numpy()\n",
        "      \n",
        "      # Check Accuracy\n",
        "      val_accuracy = sum(val_preds.argmax(axis=1)==val_Y)/len(val_Y)\n",
        "      train_loss.append(avg_loss)\n",
        "      valid_loss.append(avg_val_loss)\n",
        "      elapsed_time = time.time() - start_time \n",
        "      print('Epoch {}/{} \\t loss={:.4f} \\t val_loss={:.4f}  \\t val_acc={:.4f}  \\t time={:.2f}s'.format(\n",
        "                  epoch + 1, n_epochs, avg_loss, avg_val_loss, val_accuracy, elapsed_time))\n",
        "  f_score = f1_score(val_Y, val_preds.argmax(axis=1), average='micro')\n",
        "  # print(evaluate(model))\n",
        "  return f_score"
      ]
    },
    {
      "cell_type": "code",
      "execution_count": null,
      "metadata": {
        "id": "_wsweXrw6Gla"
      },
      "outputs": [],
      "source": [
        "\n",
        "def evaluate(model):\n",
        "  x_test = torch.tensor(test_X, dtype=torch.long).cuda()\n",
        "  y_test = torch.tensor(test_Y, dtype=torch.long).cuda()\n",
        "\n",
        "  test = torch.utils.data.TensorDataset(x_test, y_test)\n",
        "\n",
        "  test_loader = torch.utils.data.DataLoader(test, batch_size=batch_size, shuffle=False)\n",
        "\n",
        "  test_preds = np.zeros((len(x_test),len(le.classes_)))\n",
        "  avg_test_loss = 0\n",
        "  for i, (x_batch, y_batch) in enumerate(test_loader):\n",
        "      y_pred = model(x_batch).detach()\n",
        "      # avg_test_loss += loss_fn(y_pred, y_batch).item() / len(test_loader)\n",
        "      # keep/store predictions\n",
        "      test_preds[i * batch_size:(i+1) * batch_size] =F.softmax(y_pred).cpu().numpy()\n",
        "  \n",
        "  # Check Accuracy\n",
        "  # print(len(test_Y))\n",
        "  # print(test_preds.argmax(axis=1))\n",
        "  test_accuracy = sum(test_preds.argmax(axis=1)==test_Y)/len(test_Y)\n",
        "  print(classification_report(test_Y, test_preds.argmax(axis=1), target_names=[label_indices[0],label_indices[1]]))\n",
        "  return test_accuracy"
      ]
    },
    {
      "cell_type": "code",
      "source": [
        "def save_checkpoint(filename, epoch, model):\n",
        "    state = {\n",
        "        'epoch': epoch,\n",
        "        'model': model,\n",
        "        #'optimizer': optimizer,\n",
        "        }\n",
        "    torch.save(state, filename)"
      ],
      "metadata": {
        "id": "uiJLhylgpOYN"
      },
      "execution_count": null,
      "outputs": []
    },
    {
      "cell_type": "code",
      "source": [
        "def train_on_full_data(params):\n",
        "  n_epochs = params['n_epochs']\n",
        "  hidden_size = params['hidden_size']\n",
        "  drop_rate = params['drop_rate']\n",
        "  n_layers = params['n_layers']\n",
        "  learning_rate = params['learning_rate']\n",
        "  n_classes = len(le.classes_)\n",
        "\n",
        "  model = BiLSTM(max_features, embed_size, hidden_size, drop_rate, n_layers, n_classes)\n",
        "  loss_fn = nn.CrossEntropyLoss(reduction='sum')\n",
        "  model.cuda()\n",
        "  # optimizer = torch.optim.Adam(filter(lambda p: p.requires_grad, model.parameters()), lr=learning_rate)\n",
        "  optimizer = getattr(optim, params['optimizer'])(model.parameters(), lr= params['learning_rate'])\n",
        "\n",
        "\n",
        "  x_train = torch.tensor(full_train_X, dtype=torch.long).cuda()\n",
        "  y_train = torch.tensor(full_train_Y, dtype=torch.long).cuda()\n",
        "  train = torch.utils.data.TensorDataset(x_train, y_train)\n",
        "  train_loader = torch.utils.data.DataLoader(train, batch_size=batch_size, shuffle=False)\n",
        "\n",
        "  train_loss = []\n",
        "\n",
        "  for epoch in range(n_epochs):\n",
        "      start_time = time.time()\n",
        "      # Set model to train configuration\n",
        "      model.train()\n",
        "      avg_loss = 0.\n",
        "      \n",
        "      for i, (x_batch, y_batch) in enumerate(train_loader):\n",
        "          # Predict/Forward Pass\n",
        "          y_pred = model(x_batch)\n",
        "          # Compute loss\n",
        "          loss = loss_fn(y_pred, y_batch)\n",
        "          optimizer.zero_grad()\n",
        "          loss.backward()\n",
        "          optimizer.step()\n",
        "          avg_loss += loss.item() / len(train_loader)\n",
        "\n",
        "      train_loss.append(avg_loss)\n",
        "      elapsed_time = time.time() - start_time \n",
        "      \n",
        "      print('Epoch {}/{} \\t loss={:.4f} \\t time={:.2f}s'.format(\n",
        "                  epoch + 1, n_epochs, avg_loss, elapsed_time))\n",
        "  file_name = 'checkpoints/saved_weights.pt'\n",
        "  \n",
        "  save_checkpoint(file_name, epoch, model)\n",
        "  return evaluate(model)"
      ],
      "metadata": {
        "id": "3Klk0GeUpEdo"
      },
      "execution_count": null,
      "outputs": []
    },
    {
      "cell_type": "markdown",
      "source": [
        "### Hyper Parameter Tuning using Bayesian Optimization"
      ],
      "metadata": {
        "id": "PmJDe7EzsEzk"
      }
    },
    {
      "cell_type": "code",
      "source": [
        "def objective(trial):\n",
        "\n",
        "    params = {\n",
        "              'learning_rate': trial.suggest_loguniform('learning_rate', 1e-5, 1e-2),\n",
        "              'optimizer': trial.suggest_categorical(\"optimizer\", [\"Adam\", \"RMSprop\", \"SGD\"]),\n",
        "              'n_layers': trial.suggest_int(\"n_layers\", 1, 4),\n",
        "              'drop_rate':trial.suggest_float(\"drop_rate\", 0.1, 0.5),\n",
        "              'hidden_size': trial.suggest_int(\"hidden_size\", 48, 128),\n",
        "              'n_epochs': trial.suggest_int(\"n_epochs\", 2, 8),\n",
        "              }\n",
        "    \n",
        "    \n",
        "    f_score = train_and_validate(params)\n",
        "\n",
        "    return f_score"
      ],
      "metadata": {
        "id": "npXrgpokNj75"
      },
      "execution_count": null,
      "outputs": []
    },
    {
      "cell_type": "code",
      "source": [
        "study = optuna.create_study(direction=\"maximize\", sampler=optuna.samplers.TPESampler())\n",
        "study.optimize(objective, n_trials=35)\n",
        "best_trial = study.best_trial\n",
        "\n",
        "for key, value in best_trial.params.items():\n",
        "    print(\"{}: {}\".format(key, value))"
      ],
      "metadata": {
        "colab": {
          "base_uri": "https://localhost:8080/"
        },
        "id": "SaDEAUheUiyd",
        "outputId": "562c3912-dcd1-43e2-f780-27e7a128229b"
      },
      "execution_count": null,
      "outputs": [
        {
          "output_type": "stream",
          "name": "stderr",
          "text": [
            "\u001b[32m[I 2023-01-27 18:38:02,517]\u001b[0m A new study created in memory with name: no-name-66de36df-f4d6-47e9-ae7c-c10733540401\u001b[0m\n",
            "<ipython-input-32-05268f7b54a5>:4: FutureWarning: suggest_loguniform has been deprecated in v3.0.0. This feature will be removed in v6.0.0. See https://github.com/optuna/optuna/releases/tag/v3.0.0. Use :func:`~optuna.trial.Trial.suggest_float` instead.\n",
            "  'learning_rate': trial.suggest_loguniform('learning_rate', 1e-5, 1e-2),\n",
            "<ipython-input-28-14f87c8d90ff>:69: UserWarning: Implicit dimension choice for softmax has been deprecated. Change the call to include dim=X as an argument.\n",
            "  val_preds[i * batch_size:(i+1) * batch_size] =F.softmax(y_pred).cpu().numpy()\n"
          ]
        },
        {
          "output_type": "stream",
          "name": "stdout",
          "text": [
            "Epoch 1/7 \t loss=10.8118 \t val_loss=9.5264  \t val_acc=0.9739  \t time=1.51s\n",
            "Epoch 2/7 \t loss=9.9812 \t val_loss=8.6377  \t val_acc=0.9826  \t time=0.31s\n",
            "Epoch 3/7 \t loss=8.3506 \t val_loss=6.8839  \t val_acc=0.9304  \t time=0.31s\n",
            "Epoch 4/7 \t loss=5.6575 \t val_loss=4.0639  \t val_acc=0.9391  \t time=0.32s\n",
            "Epoch 5/7 \t loss=2.9357 \t val_loss=1.8125  \t val_acc=1.0000  \t time=0.31s\n",
            "Epoch 6/7 \t loss=1.2853 \t val_loss=1.1316  \t val_acc=0.9565  \t time=0.31s\n"
          ]
        },
        {
          "output_type": "stream",
          "name": "stderr",
          "text": [
            "\u001b[32m[I 2023-01-27 18:38:15,693]\u001b[0m Trial 0 finished with value: 1.0 and parameters: {'learning_rate': 0.00013925406894987598, 'optimizer': 'RMSprop', 'n_layers': 1, 'drop_rate': 0.3133126915599974, 'hidden_size': 92, 'n_epochs': 7}. Best is trial 0 with value: 1.0.\u001b[0m\n"
          ]
        },
        {
          "output_type": "stream",
          "name": "stdout",
          "text": [
            "Epoch 7/7 \t loss=0.9673 \t val_loss=1.1432  \t val_acc=1.0000  \t time=0.31s\n"
          ]
        },
        {
          "output_type": "stream",
          "name": "stderr",
          "text": [
            "<ipython-input-32-05268f7b54a5>:4: FutureWarning: suggest_loguniform has been deprecated in v3.0.0. This feature will be removed in v6.0.0. See https://github.com/optuna/optuna/releases/tag/v3.0.0. Use :func:`~optuna.trial.Trial.suggest_float` instead.\n",
            "  'learning_rate': trial.suggest_loguniform('learning_rate', 1e-5, 1e-2),\n",
            "<ipython-input-28-14f87c8d90ff>:69: UserWarning: Implicit dimension choice for softmax has been deprecated. Change the call to include dim=X as an argument.\n",
            "  val_preds[i * batch_size:(i+1) * batch_size] =F.softmax(y_pred).cpu().numpy()\n"
          ]
        },
        {
          "output_type": "stream",
          "name": "stdout",
          "text": [
            "Epoch 1/3 \t loss=11.0060 \t val_loss=9.9293  \t val_acc=0.4957  \t time=0.23s\n",
            "Epoch 2/3 \t loss=10.8603 \t val_loss=9.8408  \t val_acc=0.4957  \t time=0.22s\n"
          ]
        },
        {
          "output_type": "stream",
          "name": "stderr",
          "text": [
            "\u001b[32m[I 2023-01-27 18:38:16,411]\u001b[0m Trial 1 finished with value: 0.4956521739130435 and parameters: {'learning_rate': 0.00011409482781963235, 'optimizer': 'Adam', 'n_layers': 3, 'drop_rate': 0.4721962329345235, 'hidden_size': 58, 'n_epochs': 3}. Best is trial 0 with value: 1.0.\u001b[0m\n"
          ]
        },
        {
          "output_type": "stream",
          "name": "stdout",
          "text": [
            "Epoch 3/3 \t loss=10.7619 \t val_loss=9.7421  \t val_acc=0.4957  \t time=0.22s\n"
          ]
        },
        {
          "output_type": "stream",
          "name": "stderr",
          "text": [
            "<ipython-input-32-05268f7b54a5>:4: FutureWarning: suggest_loguniform has been deprecated in v3.0.0. This feature will be removed in v6.0.0. See https://github.com/optuna/optuna/releases/tag/v3.0.0. Use :func:`~optuna.trial.Trial.suggest_float` instead.\n",
            "  'learning_rate': trial.suggest_loguniform('learning_rate', 1e-5, 1e-2),\n",
            "<ipython-input-28-14f87c8d90ff>:69: UserWarning: Implicit dimension choice for softmax has been deprecated. Change the call to include dim=X as an argument.\n",
            "  val_preds[i * batch_size:(i+1) * batch_size] =F.softmax(y_pred).cpu().numpy()\n"
          ]
        },
        {
          "output_type": "stream",
          "name": "stdout",
          "text": [
            "Epoch 1/4 \t loss=11.0076 \t val_loss=9.9859  \t val_acc=0.2870  \t time=0.56s\n",
            "Epoch 2/4 \t loss=10.9831 \t val_loss=9.9828  \t val_acc=0.3217  \t time=0.56s\n",
            "Epoch 3/4 \t loss=10.9982 \t val_loss=9.9798  \t val_acc=0.3565  \t time=0.56s\n"
          ]
        },
        {
          "output_type": "stream",
          "name": "stderr",
          "text": [
            "\u001b[32m[I 2023-01-27 18:38:18,695]\u001b[0m Trial 2 finished with value: 0.4000000000000001 and parameters: {'learning_rate': 7.079764941264458e-05, 'optimizer': 'SGD', 'n_layers': 2, 'drop_rate': 0.3073744239023778, 'hidden_size': 118, 'n_epochs': 4}. Best is trial 0 with value: 1.0.\u001b[0m\n"
          ]
        },
        {
          "output_type": "stream",
          "name": "stdout",
          "text": [
            "Epoch 4/4 \t loss=10.9941 \t val_loss=9.9765  \t val_acc=0.4000  \t time=0.56s\n"
          ]
        },
        {
          "output_type": "stream",
          "name": "stderr",
          "text": [
            "<ipython-input-32-05268f7b54a5>:4: FutureWarning: suggest_loguniform has been deprecated in v3.0.0. This feature will be removed in v6.0.0. See https://github.com/optuna/optuna/releases/tag/v3.0.0. Use :func:`~optuna.trial.Trial.suggest_float` instead.\n",
            "  'learning_rate': trial.suggest_loguniform('learning_rate', 1e-5, 1e-2),\n",
            "<ipython-input-28-14f87c8d90ff>:69: UserWarning: Implicit dimension choice for softmax has been deprecated. Change the call to include dim=X as an argument.\n",
            "  val_preds[i * batch_size:(i+1) * batch_size] =F.softmax(y_pred).cpu().numpy()\n"
          ]
        },
        {
          "output_type": "stream",
          "name": "stdout",
          "text": [
            "Epoch 1/2 \t loss=11.0402 \t val_loss=9.9940  \t val_acc=0.4696  \t time=0.26s\n"
          ]
        },
        {
          "output_type": "stream",
          "name": "stderr",
          "text": [
            "\u001b[32m[I 2023-01-27 18:38:19,261]\u001b[0m Trial 3 finished with value: 0.46956521739130436 and parameters: {'learning_rate': 0.00020478970582602516, 'optimizer': 'SGD', 'n_layers': 2, 'drop_rate': 0.18442590232411643, 'hidden_size': 65, 'n_epochs': 2}. Best is trial 0 with value: 1.0.\u001b[0m\n"
          ]
        },
        {
          "output_type": "stream",
          "name": "stdout",
          "text": [
            "Epoch 2/2 \t loss=11.0616 \t val_loss=9.9876  \t val_acc=0.4696  \t time=0.26s\n"
          ]
        },
        {
          "output_type": "stream",
          "name": "stderr",
          "text": [
            "<ipython-input-32-05268f7b54a5>:4: FutureWarning: suggest_loguniform has been deprecated in v3.0.0. This feature will be removed in v6.0.0. See https://github.com/optuna/optuna/releases/tag/v3.0.0. Use :func:`~optuna.trial.Trial.suggest_float` instead.\n",
            "  'learning_rate': trial.suggest_loguniform('learning_rate', 1e-5, 1e-2),\n",
            "<ipython-input-28-14f87c8d90ff>:69: UserWarning: Implicit dimension choice for softmax has been deprecated. Change the call to include dim=X as an argument.\n",
            "  val_preds[i * batch_size:(i+1) * batch_size] =F.softmax(y_pred).cpu().numpy()\n"
          ]
        },
        {
          "output_type": "stream",
          "name": "stdout",
          "text": [
            "Epoch 1/3 \t loss=10.9558 \t val_loss=9.9539  \t val_acc=0.4957  \t time=0.32s\n",
            "Epoch 2/3 \t loss=10.9557 \t val_loss=9.9431  \t val_acc=0.4957  \t time=0.32s\n"
          ]
        },
        {
          "output_type": "stream",
          "name": "stderr",
          "text": [
            "\u001b[32m[I 2023-01-27 18:38:20,245]\u001b[0m Trial 4 finished with value: 0.4956521739130435 and parameters: {'learning_rate': 0.0003083587021900847, 'optimizer': 'SGD', 'n_layers': 1, 'drop_rate': 0.3557918928990672, 'hidden_size': 89, 'n_epochs': 3}. Best is trial 0 with value: 1.0.\u001b[0m\n"
          ]
        },
        {
          "output_type": "stream",
          "name": "stdout",
          "text": [
            "Epoch 3/3 \t loss=10.9777 \t val_loss=9.9346  \t val_acc=0.4957  \t time=0.32s\n"
          ]
        },
        {
          "output_type": "stream",
          "name": "stderr",
          "text": [
            "<ipython-input-32-05268f7b54a5>:4: FutureWarning: suggest_loguniform has been deprecated in v3.0.0. This feature will be removed in v6.0.0. See https://github.com/optuna/optuna/releases/tag/v3.0.0. Use :func:`~optuna.trial.Trial.suggest_float` instead.\n",
            "  'learning_rate': trial.suggest_loguniform('learning_rate', 1e-5, 1e-2),\n",
            "<ipython-input-28-14f87c8d90ff>:69: UserWarning: Implicit dimension choice for softmax has been deprecated. Change the call to include dim=X as an argument.\n",
            "  val_preds[i * batch_size:(i+1) * batch_size] =F.softmax(y_pred).cpu().numpy()\n"
          ]
        },
        {
          "output_type": "stream",
          "name": "stdout",
          "text": [
            "Epoch 1/4 \t loss=10.8727 \t val_loss=9.7458  \t val_acc=0.9652  \t time=0.56s\n",
            "Epoch 2/4 \t loss=10.5801 \t val_loss=9.5670  \t val_acc=0.7043  \t time=0.56s\n",
            "Epoch 3/4 \t loss=10.3221 \t val_loss=9.3142  \t val_acc=0.9739  \t time=0.56s\n"
          ]
        },
        {
          "output_type": "stream",
          "name": "stderr",
          "text": [
            "\u001b[32m[I 2023-01-27 18:38:22,519]\u001b[0m Trial 5 finished with value: 0.9826086956521739 and parameters: {'learning_rate': 5.9818031859053646e-05, 'optimizer': 'RMSprop', 'n_layers': 3, 'drop_rate': 0.4817907192661891, 'hidden_size': 120, 'n_epochs': 4}. Best is trial 0 with value: 1.0.\u001b[0m\n"
          ]
        },
        {
          "output_type": "stream",
          "name": "stdout",
          "text": [
            "Epoch 4/4 \t loss=9.9374 \t val_loss=8.9895  \t val_acc=0.9826  \t time=0.56s\n"
          ]
        },
        {
          "output_type": "stream",
          "name": "stderr",
          "text": [
            "<ipython-input-32-05268f7b54a5>:4: FutureWarning: suggest_loguniform has been deprecated in v3.0.0. This feature will be removed in v6.0.0. See https://github.com/optuna/optuna/releases/tag/v3.0.0. Use :func:`~optuna.trial.Trial.suggest_float` instead.\n",
            "  'learning_rate': trial.suggest_loguniform('learning_rate', 1e-5, 1e-2),\n",
            "<ipython-input-28-14f87c8d90ff>:69: UserWarning: Implicit dimension choice for softmax has been deprecated. Change the call to include dim=X as an argument.\n",
            "  val_preds[i * batch_size:(i+1) * batch_size] =F.softmax(y_pred).cpu().numpy()\n"
          ]
        },
        {
          "output_type": "stream",
          "name": "stdout",
          "text": [
            "Epoch 1/7 \t loss=10.9709 \t val_loss=9.8310  \t val_acc=0.6696  \t time=0.27s\n",
            "Epoch 2/7 \t loss=10.7492 \t val_loss=9.6645  \t val_acc=0.6348  \t time=0.28s\n",
            "Epoch 3/7 \t loss=10.4800 \t val_loss=9.3877  \t val_acc=0.8000  \t time=0.27s\n",
            "Epoch 4/7 \t loss=9.9434 \t val_loss=8.8227  \t val_acc=0.9652  \t time=0.28s\n",
            "Epoch 5/7 \t loss=9.0317 \t val_loss=7.7565  \t val_acc=0.9478  \t time=0.28s\n",
            "Epoch 6/7 \t loss=7.3091 \t val_loss=5.9253  \t val_acc=0.9652  \t time=0.27s\n"
          ]
        },
        {
          "output_type": "stream",
          "name": "stderr",
          "text": [
            "\u001b[32m[I 2023-01-27 18:38:24,474]\u001b[0m Trial 6 finished with value: 0.9652173913043478 and parameters: {'learning_rate': 0.00015807356702282545, 'optimizer': 'Adam', 'n_layers': 3, 'drop_rate': 0.1223695371880937, 'hidden_size': 70, 'n_epochs': 7}. Best is trial 0 with value: 1.0.\u001b[0m\n"
          ]
        },
        {
          "output_type": "stream",
          "name": "stdout",
          "text": [
            "Epoch 7/7 \t loss=4.7190 \t val_loss=3.2769  \t val_acc=0.9652  \t time=0.27s\n"
          ]
        },
        {
          "output_type": "stream",
          "name": "stderr",
          "text": [
            "<ipython-input-32-05268f7b54a5>:4: FutureWarning: suggest_loguniform has been deprecated in v3.0.0. This feature will be removed in v6.0.0. See https://github.com/optuna/optuna/releases/tag/v3.0.0. Use :func:`~optuna.trial.Trial.suggest_float` instead.\n",
            "  'learning_rate': trial.suggest_loguniform('learning_rate', 1e-5, 1e-2),\n",
            "<ipython-input-28-14f87c8d90ff>:69: UserWarning: Implicit dimension choice for softmax has been deprecated. Change the call to include dim=X as an argument.\n",
            "  val_preds[i * batch_size:(i+1) * batch_size] =F.softmax(y_pred).cpu().numpy()\n"
          ]
        },
        {
          "output_type": "stream",
          "name": "stdout",
          "text": [
            "Epoch 1/8 \t loss=10.9339 \t val_loss=9.8896  \t val_acc=0.5130  \t time=0.29s\n",
            "Epoch 2/8 \t loss=10.8106 \t val_loss=9.8097  \t val_acc=0.7565  \t time=0.29s\n",
            "Epoch 3/8 \t loss=10.6977 \t val_loss=9.7287  \t val_acc=0.9391  \t time=0.29s\n",
            "Epoch 4/8 \t loss=10.5529 \t val_loss=9.6302  \t val_acc=0.8522  \t time=0.29s\n",
            "Epoch 5/8 \t loss=10.4099 \t val_loss=9.5079  \t val_acc=0.9478  \t time=0.29s\n",
            "Epoch 6/8 \t loss=10.2917 \t val_loss=9.3633  \t val_acc=0.9391  \t time=0.29s\n",
            "Epoch 7/8 \t loss=10.0211 \t val_loss=9.1799  \t val_acc=0.9565  \t time=0.29s\n"
          ]
        },
        {
          "output_type": "stream",
          "name": "stderr",
          "text": [
            "\u001b[32m[I 2023-01-27 18:38:26,838]\u001b[0m Trial 7 finished with value: 0.9391304347826087 and parameters: {'learning_rate': 5.994438668580415e-05, 'optimizer': 'Adam', 'n_layers': 4, 'drop_rate': 0.4737942159538837, 'hidden_size': 80, 'n_epochs': 8}. Best is trial 0 with value: 1.0.\u001b[0m\n"
          ]
        },
        {
          "output_type": "stream",
          "name": "stdout",
          "text": [
            "Epoch 8/8 \t loss=9.8324 \t val_loss=8.9473  \t val_acc=0.9391  \t time=0.29s\n"
          ]
        },
        {
          "output_type": "stream",
          "name": "stderr",
          "text": [
            "<ipython-input-32-05268f7b54a5>:4: FutureWarning: suggest_loguniform has been deprecated in v3.0.0. This feature will be removed in v6.0.0. See https://github.com/optuna/optuna/releases/tag/v3.0.0. Use :func:`~optuna.trial.Trial.suggest_float` instead.\n",
            "  'learning_rate': trial.suggest_loguniform('learning_rate', 1e-5, 1e-2),\n",
            "<ipython-input-28-14f87c8d90ff>:69: UserWarning: Implicit dimension choice for softmax has been deprecated. Change the call to include dim=X as an argument.\n",
            "  val_preds[i * batch_size:(i+1) * batch_size] =F.softmax(y_pred).cpu().numpy()\n"
          ]
        },
        {
          "output_type": "stream",
          "name": "stdout",
          "text": [
            "Epoch 1/8 \t loss=10.9635 \t val_loss=9.9864  \t val_acc=0.4957  \t time=0.54s\n",
            "Epoch 2/8 \t loss=10.9957 \t val_loss=9.9857  \t val_acc=0.4957  \t time=0.54s\n",
            "Epoch 3/8 \t loss=10.9982 \t val_loss=9.9851  \t val_acc=0.4957  \t time=0.53s\n",
            "Epoch 4/8 \t loss=11.0016 \t val_loss=9.9843  \t val_acc=0.4957  \t time=0.54s\n",
            "Epoch 5/8 \t loss=10.9647 \t val_loss=9.9836  \t val_acc=0.4957  \t time=0.53s\n",
            "Epoch 6/8 \t loss=10.9795 \t val_loss=9.9829  \t val_acc=0.4957  \t time=0.53s\n",
            "Epoch 7/8 \t loss=10.9865 \t val_loss=9.9821  \t val_acc=0.4957  \t time=0.54s\n"
          ]
        },
        {
          "output_type": "stream",
          "name": "stderr",
          "text": [
            "\u001b[32m[I 2023-01-27 18:38:31,162]\u001b[0m Trial 8 finished with value: 0.4956521739130435 and parameters: {'learning_rate': 1.8593176107281284e-05, 'optimizer': 'SGD', 'n_layers': 3, 'drop_rate': 0.3840082098229196, 'hidden_size': 104, 'n_epochs': 8}. Best is trial 0 with value: 1.0.\u001b[0m\n"
          ]
        },
        {
          "output_type": "stream",
          "name": "stdout",
          "text": [
            "Epoch 8/8 \t loss=10.9634 \t val_loss=9.9815  \t val_acc=0.4957  \t time=0.54s\n"
          ]
        },
        {
          "output_type": "stream",
          "name": "stderr",
          "text": [
            "<ipython-input-32-05268f7b54a5>:4: FutureWarning: suggest_loguniform has been deprecated in v3.0.0. This feature will be removed in v6.0.0. See https://github.com/optuna/optuna/releases/tag/v3.0.0. Use :func:`~optuna.trial.Trial.suggest_float` instead.\n",
            "  'learning_rate': trial.suggest_loguniform('learning_rate', 1e-5, 1e-2),\n",
            "<ipython-input-28-14f87c8d90ff>:69: UserWarning: Implicit dimension choice for softmax has been deprecated. Change the call to include dim=X as an argument.\n",
            "  val_preds[i * batch_size:(i+1) * batch_size] =F.softmax(y_pred).cpu().numpy()\n"
          ]
        },
        {
          "output_type": "stream",
          "name": "stdout",
          "text": [
            "Epoch 1/7 \t loss=44.2553 \t val_loss=2.2956  \t val_acc=0.9652  \t time=0.29s\n",
            "Epoch 2/7 \t loss=2.0886 \t val_loss=0.8665  \t val_acc=0.9826  \t time=0.29s\n",
            "Epoch 3/7 \t loss=0.6869 \t val_loss=0.3812  \t val_acc=0.9913  \t time=0.30s\n",
            "Epoch 4/7 \t loss=0.2775 \t val_loss=0.3065  \t val_acc=0.9913  \t time=0.29s\n",
            "Epoch 5/7 \t loss=0.3341 \t val_loss=0.3861  \t val_acc=0.9913  \t time=0.29s\n",
            "Epoch 6/7 \t loss=0.2974 \t val_loss=0.2257  \t val_acc=0.9913  \t time=0.29s\n"
          ]
        },
        {
          "output_type": "stream",
          "name": "stderr",
          "text": [
            "\u001b[32m[I 2023-01-27 18:38:33,232]\u001b[0m Trial 9 finished with value: 0.991304347826087 and parameters: {'learning_rate': 0.008794874198297805, 'optimizer': 'RMSprop', 'n_layers': 4, 'drop_rate': 0.31939145195608676, 'hidden_size': 78, 'n_epochs': 7}. Best is trial 0 with value: 1.0.\u001b[0m\n"
          ]
        },
        {
          "output_type": "stream",
          "name": "stdout",
          "text": [
            "Epoch 7/7 \t loss=0.1067 \t val_loss=0.2148  \t val_acc=0.9913  \t time=0.29s\n"
          ]
        },
        {
          "output_type": "stream",
          "name": "stderr",
          "text": [
            "<ipython-input-32-05268f7b54a5>:4: FutureWarning: suggest_loguniform has been deprecated in v3.0.0. This feature will be removed in v6.0.0. See https://github.com/optuna/optuna/releases/tag/v3.0.0. Use :func:`~optuna.trial.Trial.suggest_float` instead.\n",
            "  'learning_rate': trial.suggest_loguniform('learning_rate', 1e-5, 1e-2),\n",
            "<ipython-input-28-14f87c8d90ff>:69: UserWarning: Implicit dimension choice for softmax has been deprecated. Change the call to include dim=X as an argument.\n",
            "  val_preds[i * batch_size:(i+1) * batch_size] =F.softmax(y_pred).cpu().numpy()\n"
          ]
        },
        {
          "output_type": "stream",
          "name": "stdout",
          "text": [
            "Epoch 1/6 \t loss=9.1330 \t val_loss=4.6912  \t val_acc=0.8609  \t time=0.20s\n",
            "Epoch 2/6 \t loss=1.6982 \t val_loss=0.4588  \t val_acc=0.9913  \t time=0.20s\n",
            "Epoch 3/6 \t loss=0.2797 \t val_loss=0.2076  \t val_acc=1.0000  \t time=0.20s\n",
            "Epoch 4/6 \t loss=0.0927 \t val_loss=0.0888  \t val_acc=1.0000  \t time=0.51s\n"
          ]
        },
        {
          "output_type": "stream",
          "name": "stderr",
          "text": [
            "\u001b[32m[I 2023-01-27 18:38:34,894]\u001b[0m Trial 10 finished with value: 1.0 and parameters: {'learning_rate': 0.0011372083309553107, 'optimizer': 'RMSprop', 'n_layers': 1, 'drop_rate': 0.23765828663537486, 'hidden_size': 48, 'n_epochs': 6}. Best is trial 0 with value: 1.0.\u001b[0m\n"
          ]
        },
        {
          "output_type": "stream",
          "name": "stdout",
          "text": [
            "Epoch 5/6 \t loss=0.0520 \t val_loss=0.0644  \t val_acc=1.0000  \t time=0.30s\n",
            "Epoch 6/6 \t loss=0.0302 \t val_loss=0.0460  \t val_acc=1.0000  \t time=0.19s\n"
          ]
        },
        {
          "output_type": "stream",
          "name": "stderr",
          "text": [
            "<ipython-input-32-05268f7b54a5>:4: FutureWarning: suggest_loguniform has been deprecated in v3.0.0. This feature will be removed in v6.0.0. See https://github.com/optuna/optuna/releases/tag/v3.0.0. Use :func:`~optuna.trial.Trial.suggest_float` instead.\n",
            "  'learning_rate': trial.suggest_loguniform('learning_rate', 1e-5, 1e-2),\n",
            "<ipython-input-28-14f87c8d90ff>:69: UserWarning: Implicit dimension choice for softmax has been deprecated. Change the call to include dim=X as an argument.\n",
            "  val_preds[i * batch_size:(i+1) * batch_size] =F.softmax(y_pred).cpu().numpy()\n"
          ]
        },
        {
          "output_type": "stream",
          "name": "stdout",
          "text": [
            "Epoch 1/6 \t loss=11.1523 \t val_loss=9.9925  \t val_acc=0.5043  \t time=0.21s\n",
            "Epoch 2/6 \t loss=10.9339 \t val_loss=9.7388  \t val_acc=0.5826  \t time=0.39s\n",
            "Epoch 3/6 \t loss=9.6170 \t val_loss=6.1069  \t val_acc=0.9565  \t time=0.35s\n",
            "Epoch 4/6 \t loss=3.5498 \t val_loss=1.4131  \t val_acc=0.9826  \t time=0.22s\n",
            "Epoch 5/6 \t loss=1.3506 \t val_loss=0.4097  \t val_acc=0.9913  \t time=0.22s\n"
          ]
        },
        {
          "output_type": "stream",
          "name": "stderr",
          "text": [
            "\u001b[32m[I 2023-01-27 18:38:36,557]\u001b[0m Trial 11 finished with value: 1.0 and parameters: {'learning_rate': 0.0008647004188304768, 'optimizer': 'RMSprop', 'n_layers': 1, 'drop_rate': 0.23138853114420854, 'hidden_size': 51, 'n_epochs': 6}. Best is trial 0 with value: 1.0.\u001b[0m\n"
          ]
        },
        {
          "output_type": "stream",
          "name": "stdout",
          "text": [
            "Epoch 6/6 \t loss=0.6434 \t val_loss=0.2979  \t val_acc=1.0000  \t time=0.21s\n"
          ]
        },
        {
          "output_type": "stream",
          "name": "stderr",
          "text": [
            "<ipython-input-32-05268f7b54a5>:4: FutureWarning: suggest_loguniform has been deprecated in v3.0.0. This feature will be removed in v6.0.0. See https://github.com/optuna/optuna/releases/tag/v3.0.0. Use :func:`~optuna.trial.Trial.suggest_float` instead.\n",
            "  'learning_rate': trial.suggest_loguniform('learning_rate', 1e-5, 1e-2),\n",
            "<ipython-input-28-14f87c8d90ff>:69: UserWarning: Implicit dimension choice for softmax has been deprecated. Change the call to include dim=X as an argument.\n",
            "  val_preds[i * batch_size:(i+1) * batch_size] =F.softmax(y_pred).cpu().numpy()\n"
          ]
        },
        {
          "output_type": "stream",
          "name": "stdout",
          "text": [
            "Epoch 1/6 \t loss=7.5776 \t val_loss=1.1623  \t val_acc=0.9826  \t time=0.56s\n",
            "Epoch 2/6 \t loss=0.4831 \t val_loss=0.2079  \t val_acc=1.0000  \t time=0.56s\n",
            "Epoch 3/6 \t loss=0.0870 \t val_loss=0.1163  \t val_acc=1.0000  \t time=0.56s\n",
            "Epoch 4/6 \t loss=0.0398 \t val_loss=0.0714  \t val_acc=1.0000  \t time=0.56s\n",
            "Epoch 5/6 \t loss=0.0255 \t val_loss=0.0349  \t val_acc=1.0000  \t time=0.56s\n"
          ]
        },
        {
          "output_type": "stream",
          "name": "stderr",
          "text": [
            "\u001b[32m[I 2023-01-27 18:38:39,957]\u001b[0m Trial 12 finished with value: 1.0 and parameters: {'learning_rate': 0.0011250172722568376, 'optimizer': 'RMSprop', 'n_layers': 1, 'drop_rate': 0.24829856688259672, 'hidden_size': 101, 'n_epochs': 6}. Best is trial 0 with value: 1.0.\u001b[0m\n"
          ]
        },
        {
          "output_type": "stream",
          "name": "stdout",
          "text": [
            "Epoch 6/6 \t loss=0.0194 \t val_loss=0.0300  \t val_acc=1.0000  \t time=0.56s\n"
          ]
        },
        {
          "output_type": "stream",
          "name": "stderr",
          "text": [
            "<ipython-input-32-05268f7b54a5>:4: FutureWarning: suggest_loguniform has been deprecated in v3.0.0. This feature will be removed in v6.0.0. See https://github.com/optuna/optuna/releases/tag/v3.0.0. Use :func:`~optuna.trial.Trial.suggest_float` instead.\n",
            "  'learning_rate': trial.suggest_loguniform('learning_rate', 1e-5, 1e-2),\n",
            "<ipython-input-28-14f87c8d90ff>:69: UserWarning: Implicit dimension choice for softmax has been deprecated. Change the call to include dim=X as an argument.\n",
            "  val_preds[i * batch_size:(i+1) * batch_size] =F.softmax(y_pred).cpu().numpy()\n"
          ]
        },
        {
          "output_type": "stream",
          "name": "stdout",
          "text": [
            "Epoch 1/6 \t loss=8.0704 \t val_loss=3.4997  \t val_acc=0.9391  \t time=0.33s\n",
            "Epoch 2/6 \t loss=1.5167 \t val_loss=0.4275  \t val_acc=1.0000  \t time=0.33s\n",
            "Epoch 3/6 \t loss=0.1957 \t val_loss=0.2570  \t val_acc=1.0000  \t time=0.33s\n",
            "Epoch 4/6 \t loss=0.0778 \t val_loss=0.0847  \t val_acc=1.0000  \t time=0.32s\n",
            "Epoch 5/6 \t loss=0.0350 \t val_loss=0.0837  \t val_acc=1.0000  \t time=0.33s\n"
          ]
        },
        {
          "output_type": "stream",
          "name": "stderr",
          "text": [
            "\u001b[32m[I 2023-01-27 18:38:42,007]\u001b[0m Trial 13 finished with value: 1.0 and parameters: {'learning_rate': 0.0009515442994677754, 'optimizer': 'RMSprop', 'n_layers': 2, 'drop_rate': 0.2493096361280928, 'hidden_size': 95, 'n_epochs': 6}. Best is trial 0 with value: 1.0.\u001b[0m\n"
          ]
        },
        {
          "output_type": "stream",
          "name": "stdout",
          "text": [
            "Epoch 6/6 \t loss=0.0152 \t val_loss=0.0845  \t val_acc=1.0000  \t time=0.34s\n"
          ]
        },
        {
          "output_type": "stream",
          "name": "stderr",
          "text": [
            "<ipython-input-32-05268f7b54a5>:4: FutureWarning: suggest_loguniform has been deprecated in v3.0.0. This feature will be removed in v6.0.0. See https://github.com/optuna/optuna/releases/tag/v3.0.0. Use :func:`~optuna.trial.Trial.suggest_float` instead.\n",
            "  'learning_rate': trial.suggest_loguniform('learning_rate', 1e-5, 1e-2),\n",
            "<ipython-input-28-14f87c8d90ff>:69: UserWarning: Implicit dimension choice for softmax has been deprecated. Change the call to include dim=X as an argument.\n",
            "  val_preds[i * batch_size:(i+1) * batch_size] =F.softmax(y_pred).cpu().numpy()\n"
          ]
        },
        {
          "output_type": "stream",
          "name": "stdout",
          "text": [
            "Epoch 1/5 \t loss=10.9230 \t val_loss=9.8694  \t val_acc=0.5043  \t time=0.59s\n",
            "Epoch 2/5 \t loss=10.8636 \t val_loss=9.8363  \t val_acc=0.5913  \t time=0.59s\n",
            "Epoch 3/5 \t loss=10.8124 \t val_loss=9.8105  \t val_acc=0.8609  \t time=0.59s\n",
            "Epoch 4/5 \t loss=10.7847 \t val_loss=9.7862  \t val_acc=0.9043  \t time=0.59s\n"
          ]
        },
        {
          "output_type": "stream",
          "name": "stderr",
          "text": [
            "\u001b[32m[I 2023-01-27 18:38:45,014]\u001b[0m Trial 14 finished with value: 0.9217391304347826 and parameters: {'learning_rate': 1.1832171240906281e-05, 'optimizer': 'RMSprop', 'n_layers': 1, 'drop_rate': 0.17227292544916992, 'hidden_size': 109, 'n_epochs': 5}. Best is trial 0 with value: 1.0.\u001b[0m\n"
          ]
        },
        {
          "output_type": "stream",
          "name": "stdout",
          "text": [
            "Epoch 5/5 \t loss=10.7339 \t val_loss=9.7630  \t val_acc=0.9217  \t time=0.59s\n"
          ]
        },
        {
          "output_type": "stream",
          "name": "stderr",
          "text": [
            "<ipython-input-32-05268f7b54a5>:4: FutureWarning: suggest_loguniform has been deprecated in v3.0.0. This feature will be removed in v6.0.0. See https://github.com/optuna/optuna/releases/tag/v3.0.0. Use :func:`~optuna.trial.Trial.suggest_float` instead.\n",
            "  'learning_rate': trial.suggest_loguniform('learning_rate', 1e-5, 1e-2),\n",
            "<ipython-input-28-14f87c8d90ff>:69: UserWarning: Implicit dimension choice for softmax has been deprecated. Change the call to include dim=X as an argument.\n",
            "  val_preds[i * batch_size:(i+1) * batch_size] =F.softmax(y_pred).cpu().numpy()\n"
          ]
        },
        {
          "output_type": "stream",
          "name": "stdout",
          "text": [
            "Epoch 1/7 \t loss=9.5925 \t val_loss=5.5241  \t val_acc=0.9913  \t time=0.20s\n",
            "Epoch 2/7 \t loss=3.2392 \t val_loss=1.5792  \t val_acc=0.9739  \t time=0.20s\n",
            "Epoch 3/7 \t loss=1.9332 \t val_loss=1.2066  \t val_acc=0.9652  \t time=0.20s\n",
            "Epoch 4/7 \t loss=0.5510 \t val_loss=0.6087  \t val_acc=0.9913  \t time=0.20s\n",
            "Epoch 5/7 \t loss=0.2733 \t val_loss=0.3189  \t val_acc=1.0000  \t time=0.21s\n",
            "Epoch 6/7 \t loss=0.1573 \t val_loss=0.1915  \t val_acc=1.0000  \t time=0.20s\n"
          ]
        },
        {
          "output_type": "stream",
          "name": "stderr",
          "text": [
            "\u001b[32m[I 2023-01-27 18:38:46,478]\u001b[0m Trial 15 finished with value: 1.0 and parameters: {'learning_rate': 0.0005267836458950588, 'optimizer': 'RMSprop', 'n_layers': 1, 'drop_rate': 0.2842725072254969, 'hidden_size': 48, 'n_epochs': 7}. Best is trial 0 with value: 1.0.\u001b[0m\n"
          ]
        },
        {
          "output_type": "stream",
          "name": "stdout",
          "text": [
            "Epoch 7/7 \t loss=0.0886 \t val_loss=0.1517  \t val_acc=1.0000  \t time=0.20s\n"
          ]
        },
        {
          "output_type": "stream",
          "name": "stderr",
          "text": [
            "<ipython-input-32-05268f7b54a5>:4: FutureWarning: suggest_loguniform has been deprecated in v3.0.0. This feature will be removed in v6.0.0. See https://github.com/optuna/optuna/releases/tag/v3.0.0. Use :func:`~optuna.trial.Trial.suggest_float` instead.\n",
            "  'learning_rate': trial.suggest_loguniform('learning_rate', 1e-5, 1e-2),\n",
            "<ipython-input-28-14f87c8d90ff>:69: UserWarning: Implicit dimension choice for softmax has been deprecated. Change the call to include dim=X as an argument.\n",
            "  val_preds[i * batch_size:(i+1) * batch_size] =F.softmax(y_pred).cpu().numpy()\n"
          ]
        },
        {
          "output_type": "stream",
          "name": "stdout",
          "text": [
            "Epoch 1/5 \t loss=12.6596 \t val_loss=4.3791  \t val_acc=0.8957  \t time=0.31s\n",
            "Epoch 2/5 \t loss=1.8020 \t val_loss=0.8076  \t val_acc=0.9826  \t time=0.31s\n",
            "Epoch 3/5 \t loss=0.3164 \t val_loss=0.3821  \t val_acc=0.9913  \t time=0.32s\n",
            "Epoch 4/5 \t loss=0.1779 \t val_loss=0.2155  \t val_acc=0.9913  \t time=0.31s\n"
          ]
        },
        {
          "output_type": "stream",
          "name": "stderr",
          "text": [
            "\u001b[32m[I 2023-01-27 18:38:48,100]\u001b[0m Trial 16 finished with value: 0.991304347826087 and parameters: {'learning_rate': 0.002463858683542979, 'optimizer': 'RMSprop', 'n_layers': 2, 'drop_rate': 0.40498909374577396, 'hidden_size': 82, 'n_epochs': 5}. Best is trial 0 with value: 1.0.\u001b[0m\n"
          ]
        },
        {
          "output_type": "stream",
          "name": "stdout",
          "text": [
            "Epoch 5/5 \t loss=0.1278 \t val_loss=0.2123  \t val_acc=0.9913  \t time=0.31s\n"
          ]
        },
        {
          "output_type": "stream",
          "name": "stderr",
          "text": [
            "<ipython-input-32-05268f7b54a5>:4: FutureWarning: suggest_loguniform has been deprecated in v3.0.0. This feature will be removed in v6.0.0. See https://github.com/optuna/optuna/releases/tag/v3.0.0. Use :func:`~optuna.trial.Trial.suggest_float` instead.\n",
            "  'learning_rate': trial.suggest_loguniform('learning_rate', 1e-5, 1e-2),\n",
            "<ipython-input-28-14f87c8d90ff>:69: UserWarning: Implicit dimension choice for softmax has been deprecated. Change the call to include dim=X as an argument.\n",
            "  val_preds[i * batch_size:(i+1) * batch_size] =F.softmax(y_pred).cpu().numpy()\n"
          ]
        },
        {
          "output_type": "stream",
          "name": "stdout",
          "text": [
            "Epoch 1/7 \t loss=10.1612 \t val_loss=7.4464  \t val_acc=0.9739  \t time=0.28s\n",
            "Epoch 2/7 \t loss=5.0872 \t val_loss=2.6099  \t val_acc=0.9478  \t time=0.27s\n",
            "Epoch 3/7 \t loss=1.2840 \t val_loss=1.1216  \t val_acc=0.9739  \t time=0.28s\n",
            "Epoch 4/7 \t loss=0.9198 \t val_loss=0.9720  \t val_acc=0.9739  \t time=0.28s\n",
            "Epoch 5/7 \t loss=0.5327 \t val_loss=0.4757  \t val_acc=0.9913  \t time=0.28s\n",
            "Epoch 6/7 \t loss=0.2097 \t val_loss=0.3302  \t val_acc=0.9913  \t time=0.28s\n"
          ]
        },
        {
          "output_type": "stream",
          "name": "stderr",
          "text": [
            "\u001b[32m[I 2023-01-27 18:38:50,097]\u001b[0m Trial 17 finished with value: 0.991304347826087 and parameters: {'learning_rate': 0.0003414400264167762, 'optimizer': 'RMSprop', 'n_layers': 1, 'drop_rate': 0.3417421534429189, 'hidden_size': 69, 'n_epochs': 7}. Best is trial 0 with value: 1.0.\u001b[0m\n"
          ]
        },
        {
          "output_type": "stream",
          "name": "stdout",
          "text": [
            "Epoch 7/7 \t loss=0.1260 \t val_loss=0.3269  \t val_acc=0.9913  \t time=0.28s\n"
          ]
        },
        {
          "output_type": "stream",
          "name": "stderr",
          "text": [
            "<ipython-input-32-05268f7b54a5>:4: FutureWarning: suggest_loguniform has been deprecated in v3.0.0. This feature will be removed in v6.0.0. See https://github.com/optuna/optuna/releases/tag/v3.0.0. Use :func:`~optuna.trial.Trial.suggest_float` instead.\n",
            "  'learning_rate': trial.suggest_loguniform('learning_rate', 1e-5, 1e-2),\n",
            "<ipython-input-28-14f87c8d90ff>:69: UserWarning: Implicit dimension choice for softmax has been deprecated. Change the call to include dim=X as an argument.\n",
            "  val_preds[i * batch_size:(i+1) * batch_size] =F.softmax(y_pred).cpu().numpy()\n"
          ]
        },
        {
          "output_type": "stream",
          "name": "stdout",
          "text": [
            "Epoch 1/6 \t loss=12.7175 \t val_loss=1.5071  \t val_acc=0.9739  \t time=0.60s\n",
            "Epoch 2/6 \t loss=0.4515 \t val_loss=0.4170  \t val_acc=0.9913  \t time=0.60s\n",
            "Epoch 3/6 \t loss=0.0688 \t val_loss=0.3085  \t val_acc=0.9913  \t time=0.59s\n",
            "Epoch 4/6 \t loss=0.0330 \t val_loss=0.2571  \t val_acc=0.9913  \t time=0.60s\n",
            "Epoch 5/6 \t loss=0.0189 \t val_loss=0.2898  \t val_acc=0.9913  \t time=0.61s\n"
          ]
        },
        {
          "output_type": "stream",
          "name": "stderr",
          "text": [
            "\u001b[32m[I 2023-01-27 18:38:53,746]\u001b[0m Trial 18 finished with value: 0.991304347826087 and parameters: {'learning_rate': 0.002201031391228526, 'optimizer': 'RMSprop', 'n_layers': 2, 'drop_rate': 0.2821921271348488, 'hidden_size': 127, 'n_epochs': 6}. Best is trial 0 with value: 1.0.\u001b[0m\n"
          ]
        },
        {
          "output_type": "stream",
          "name": "stdout",
          "text": [
            "Epoch 6/6 \t loss=0.0096 \t val_loss=0.2800  \t val_acc=0.9913  \t time=0.60s\n"
          ]
        },
        {
          "output_type": "stream",
          "name": "stderr",
          "text": [
            "<ipython-input-32-05268f7b54a5>:4: FutureWarning: suggest_loguniform has been deprecated in v3.0.0. This feature will be removed in v6.0.0. See https://github.com/optuna/optuna/releases/tag/v3.0.0. Use :func:`~optuna.trial.Trial.suggest_float` instead.\n",
            "  'learning_rate': trial.suggest_loguniform('learning_rate', 1e-5, 1e-2),\n",
            "<ipython-input-28-14f87c8d90ff>:69: UserWarning: Implicit dimension choice for softmax has been deprecated. Change the call to include dim=X as an argument.\n",
            "  val_preds[i * batch_size:(i+1) * batch_size] =F.softmax(y_pred).cpu().numpy()\n"
          ]
        },
        {
          "output_type": "stream",
          "name": "stdout",
          "text": [
            "Epoch 1/8 \t loss=10.9097 \t val_loss=9.8798  \t val_acc=0.5043  \t time=0.33s\n",
            "Epoch 2/8 \t loss=10.8417 \t val_loss=9.8317  \t val_acc=0.5217  \t time=0.32s\n",
            "Epoch 3/8 \t loss=10.7498 \t val_loss=9.7879  \t val_acc=0.7217  \t time=0.33s\n",
            "Epoch 4/8 \t loss=10.6985 \t val_loss=9.7410  \t val_acc=0.6870  \t time=0.33s\n",
            "Epoch 5/8 \t loss=10.6571 \t val_loss=9.6923  \t val_acc=0.8000  \t time=0.33s\n",
            "Epoch 6/8 \t loss=10.5606 \t val_loss=9.6374  \t val_acc=0.7652  \t time=0.34s\n",
            "Epoch 7/8 \t loss=10.4919 \t val_loss=9.5757  \t val_acc=0.9043  \t time=0.33s\n"
          ]
        },
        {
          "output_type": "stream",
          "name": "stderr",
          "text": [
            "\u001b[32m[I 2023-01-27 18:38:56,443]\u001b[0m Trial 19 finished with value: 0.9217391304347826 and parameters: {'learning_rate': 2.7939757347178512e-05, 'optimizer': 'Adam', 'n_layers': 1, 'drop_rate': 0.20647869602475366, 'hidden_size': 89, 'n_epochs': 8}. Best is trial 0 with value: 1.0.\u001b[0m\n"
          ]
        },
        {
          "output_type": "stream",
          "name": "stdout",
          "text": [
            "Epoch 8/8 \t loss=10.4262 \t val_loss=9.5059  \t val_acc=0.9217  \t time=0.33s\n"
          ]
        },
        {
          "output_type": "stream",
          "name": "stderr",
          "text": [
            "<ipython-input-32-05268f7b54a5>:4: FutureWarning: suggest_loguniform has been deprecated in v3.0.0. This feature will be removed in v6.0.0. See https://github.com/optuna/optuna/releases/tag/v3.0.0. Use :func:`~optuna.trial.Trial.suggest_float` instead.\n",
            "  'learning_rate': trial.suggest_loguniform('learning_rate', 1e-5, 1e-2),\n",
            "<ipython-input-28-14f87c8d90ff>:69: UserWarning: Implicit dimension choice for softmax has been deprecated. Change the call to include dim=X as an argument.\n",
            "  val_preds[i * batch_size:(i+1) * batch_size] =F.softmax(y_pred).cpu().numpy()\n"
          ]
        },
        {
          "output_type": "stream",
          "name": "stdout",
          "text": [
            "Epoch 1/5 \t loss=10.5720 \t val_loss=8.5945  \t val_acc=0.9391  \t time=0.23s\n",
            "Epoch 2/5 \t loss=7.1210 \t val_loss=4.2585  \t val_acc=0.9130  \t time=0.22s\n",
            "Epoch 3/5 \t loss=2.6870 \t val_loss=2.0741  \t val_acc=1.0000  \t time=0.23s\n",
            "Epoch 4/5 \t loss=1.2888 \t val_loss=1.8057  \t val_acc=0.9478  \t time=0.23s\n"
          ]
        },
        {
          "output_type": "stream",
          "name": "stderr",
          "text": [
            "\u001b[32m[I 2023-01-27 18:38:57,639]\u001b[0m Trial 20 finished with value: 0.9826086956521739 and parameters: {'learning_rate': 0.00029946186189297875, 'optimizer': 'RMSprop', 'n_layers': 2, 'drop_rate': 0.27302588938159117, 'hidden_size': 61, 'n_epochs': 5}. Best is trial 0 with value: 1.0.\u001b[0m\n"
          ]
        },
        {
          "output_type": "stream",
          "name": "stdout",
          "text": [
            "Epoch 5/5 \t loss=0.7935 \t val_loss=0.8430  \t val_acc=0.9826  \t time=0.23s\n"
          ]
        },
        {
          "output_type": "stream",
          "name": "stderr",
          "text": [
            "<ipython-input-32-05268f7b54a5>:4: FutureWarning: suggest_loguniform has been deprecated in v3.0.0. This feature will be removed in v6.0.0. See https://github.com/optuna/optuna/releases/tag/v3.0.0. Use :func:`~optuna.trial.Trial.suggest_float` instead.\n",
            "  'learning_rate': trial.suggest_loguniform('learning_rate', 1e-5, 1e-2),\n",
            "<ipython-input-28-14f87c8d90ff>:69: UserWarning: Implicit dimension choice for softmax has been deprecated. Change the call to include dim=X as an argument.\n",
            "  val_preds[i * batch_size:(i+1) * batch_size] =F.softmax(y_pred).cpu().numpy()\n"
          ]
        },
        {
          "output_type": "stream",
          "name": "stdout",
          "text": [
            "Epoch 1/6 \t loss=8.9892 \t val_loss=4.2236  \t val_acc=0.9478  \t time=0.21s\n",
            "Epoch 2/6 \t loss=2.0356 \t val_loss=2.4030  \t val_acc=0.9391  \t time=0.22s\n",
            "Epoch 3/6 \t loss=0.4516 \t val_loss=0.4616  \t val_acc=0.9913  \t time=0.21s\n",
            "Epoch 4/6 \t loss=0.3268 \t val_loss=0.1894  \t val_acc=1.0000  \t time=0.21s\n",
            "Epoch 5/6 \t loss=0.1145 \t val_loss=0.0968  \t val_acc=1.0000  \t time=0.21s\n"
          ]
        },
        {
          "output_type": "stream",
          "name": "stderr",
          "text": [
            "\u001b[32m[I 2023-01-27 18:38:58,977]\u001b[0m Trial 21 finished with value: 1.0 and parameters: {'learning_rate': 0.0006123392890400335, 'optimizer': 'RMSprop', 'n_layers': 1, 'drop_rate': 0.23131731563611146, 'hidden_size': 50, 'n_epochs': 6}. Best is trial 0 with value: 1.0.\u001b[0m\n"
          ]
        },
        {
          "output_type": "stream",
          "name": "stdout",
          "text": [
            "Epoch 6/6 \t loss=0.0534 \t val_loss=0.0683  \t val_acc=1.0000  \t time=0.21s\n"
          ]
        },
        {
          "output_type": "stream",
          "name": "stderr",
          "text": [
            "<ipython-input-32-05268f7b54a5>:4: FutureWarning: suggest_loguniform has been deprecated in v3.0.0. This feature will be removed in v6.0.0. See https://github.com/optuna/optuna/releases/tag/v3.0.0. Use :func:`~optuna.trial.Trial.suggest_float` instead.\n",
            "  'learning_rate': trial.suggest_loguniform('learning_rate', 1e-5, 1e-2),\n",
            "<ipython-input-28-14f87c8d90ff>:69: UserWarning: Implicit dimension choice for softmax has been deprecated. Change the call to include dim=X as an argument.\n",
            "  val_preds[i * batch_size:(i+1) * batch_size] =F.softmax(y_pred).cpu().numpy()\n"
          ]
        },
        {
          "output_type": "stream",
          "name": "stdout",
          "text": [
            "Epoch 1/6 \t loss=6.4744 \t val_loss=1.0942  \t val_acc=0.9826  \t time=0.22s\n",
            "Epoch 2/6 \t loss=0.4748 \t val_loss=0.2266  \t val_acc=1.0000  \t time=0.22s\n",
            "Epoch 3/6 \t loss=0.0825 \t val_loss=0.1030  \t val_acc=1.0000  \t time=0.23s\n",
            "Epoch 4/6 \t loss=0.0384 \t val_loss=0.0412  \t val_acc=1.0000  \t time=0.21s\n",
            "Epoch 5/6 \t loss=0.0209 \t val_loss=0.0318  \t val_acc=1.0000  \t time=0.21s\n"
          ]
        },
        {
          "output_type": "stream",
          "name": "stderr",
          "text": [
            "\u001b[32m[I 2023-01-27 18:39:00,346]\u001b[0m Trial 22 finished with value: 1.0 and parameters: {'learning_rate': 0.0016162572048122326, 'optimizer': 'RMSprop', 'n_layers': 1, 'drop_rate': 0.2248194049420122, 'hidden_size': 52, 'n_epochs': 6}. Best is trial 0 with value: 1.0.\u001b[0m\n"
          ]
        },
        {
          "output_type": "stream",
          "name": "stdout",
          "text": [
            "Epoch 6/6 \t loss=0.0128 \t val_loss=0.0272  \t val_acc=1.0000  \t time=0.22s\n"
          ]
        },
        {
          "output_type": "stream",
          "name": "stderr",
          "text": [
            "<ipython-input-32-05268f7b54a5>:4: FutureWarning: suggest_loguniform has been deprecated in v3.0.0. This feature will be removed in v6.0.0. See https://github.com/optuna/optuna/releases/tag/v3.0.0. Use :func:`~optuna.trial.Trial.suggest_float` instead.\n",
            "  'learning_rate': trial.suggest_loguniform('learning_rate', 1e-5, 1e-2),\n",
            "<ipython-input-28-14f87c8d90ff>:69: UserWarning: Implicit dimension choice for softmax has been deprecated. Change the call to include dim=X as an argument.\n",
            "  val_preds[i * batch_size:(i+1) * batch_size] =F.softmax(y_pred).cpu().numpy()\n"
          ]
        },
        {
          "output_type": "stream",
          "name": "stdout",
          "text": [
            "Epoch 1/7 \t loss=10.2597 \t val_loss=6.6920  \t val_acc=0.9565  \t time=0.22s\n",
            "Epoch 2/7 \t loss=4.2583 \t val_loss=1.5302  \t val_acc=0.9913  \t time=0.23s\n",
            "Epoch 3/7 \t loss=1.1637 \t val_loss=0.7072  \t val_acc=1.0000  \t time=0.22s\n",
            "Epoch 4/7 \t loss=0.4606 \t val_loss=0.3787  \t val_acc=0.9826  \t time=0.23s\n",
            "Epoch 5/7 \t loss=0.1529 \t val_loss=0.3687  \t val_acc=0.9913  \t time=0.23s\n",
            "Epoch 6/7 \t loss=0.0769 \t val_loss=0.3604  \t val_acc=0.9913  \t time=0.23s\n"
          ]
        },
        {
          "output_type": "stream",
          "name": "stderr",
          "text": [
            "\u001b[32m[I 2023-01-27 18:39:01,985]\u001b[0m Trial 23 finished with value: 0.991304347826087 and parameters: {'learning_rate': 0.0005883064926942359, 'optimizer': 'RMSprop', 'n_layers': 1, 'drop_rate': 0.26491705749467437, 'hidden_size': 59, 'n_epochs': 7}. Best is trial 0 with value: 1.0.\u001b[0m\n"
          ]
        },
        {
          "output_type": "stream",
          "name": "stdout",
          "text": [
            "Epoch 7/7 \t loss=0.0544 \t val_loss=0.3648  \t val_acc=0.9913  \t time=0.22s\n"
          ]
        },
        {
          "output_type": "stream",
          "name": "stderr",
          "text": [
            "<ipython-input-32-05268f7b54a5>:4: FutureWarning: suggest_loguniform has been deprecated in v3.0.0. This feature will be removed in v6.0.0. See https://github.com/optuna/optuna/releases/tag/v3.0.0. Use :func:`~optuna.trial.Trial.suggest_float` instead.\n",
            "  'learning_rate': trial.suggest_loguniform('learning_rate', 1e-5, 1e-2),\n",
            "<ipython-input-28-14f87c8d90ff>:69: UserWarning: Implicit dimension choice for softmax has been deprecated. Change the call to include dim=X as an argument.\n",
            "  val_preds[i * batch_size:(i+1) * batch_size] =F.softmax(y_pred).cpu().numpy()\n"
          ]
        },
        {
          "output_type": "stream",
          "name": "stdout",
          "text": [
            "Epoch 1/6 \t loss=12.9150 \t val_loss=1.3403  \t val_acc=0.9652  \t time=0.28s\n",
            "Epoch 2/6 \t loss=0.6432 \t val_loss=0.2462  \t val_acc=0.9913  \t time=0.29s\n",
            "Epoch 3/6 \t loss=0.2092 \t val_loss=0.1208  \t val_acc=1.0000  \t time=0.29s\n",
            "Epoch 4/6 \t loss=0.0721 \t val_loss=0.1034  \t val_acc=1.0000  \t time=0.29s\n",
            "Epoch 5/6 \t loss=0.0400 \t val_loss=0.0932  \t val_acc=1.0000  \t time=0.29s\n"
          ]
        },
        {
          "output_type": "stream",
          "name": "stderr",
          "text": [
            "\u001b[32m[I 2023-01-27 18:39:03,766]\u001b[0m Trial 24 finished with value: 1.0 and parameters: {'learning_rate': 0.0038104157961630246, 'optimizer': 'RMSprop', 'n_layers': 1, 'drop_rate': 0.30405519881330534, 'hidden_size': 74, 'n_epochs': 6}. Best is trial 0 with value: 1.0.\u001b[0m\n"
          ]
        },
        {
          "output_type": "stream",
          "name": "stdout",
          "text": [
            "Epoch 6/6 \t loss=0.0451 \t val_loss=0.0841  \t val_acc=1.0000  \t time=0.29s\n"
          ]
        },
        {
          "output_type": "stream",
          "name": "stderr",
          "text": [
            "<ipython-input-32-05268f7b54a5>:4: FutureWarning: suggest_loguniform has been deprecated in v3.0.0. This feature will be removed in v6.0.0. See https://github.com/optuna/optuna/releases/tag/v3.0.0. Use :func:`~optuna.trial.Trial.suggest_float` instead.\n",
            "  'learning_rate': trial.suggest_loguniform('learning_rate', 1e-5, 1e-2),\n",
            "<ipython-input-28-14f87c8d90ff>:69: UserWarning: Implicit dimension choice for softmax has been deprecated. Change the call to include dim=X as an argument.\n",
            "  val_preds[i * batch_size:(i+1) * batch_size] =F.softmax(y_pred).cpu().numpy()\n"
          ]
        },
        {
          "output_type": "stream",
          "name": "stdout",
          "text": [
            "Epoch 1/4 \t loss=8.6958 \t val_loss=2.8755  \t val_acc=0.9739  \t time=0.22s\n",
            "Epoch 2/4 \t loss=1.1999 \t val_loss=1.5742  \t val_acc=0.9391  \t time=0.22s\n",
            "Epoch 3/4 \t loss=0.2642 \t val_loss=0.1065  \t val_acc=1.0000  \t time=0.22s\n"
          ]
        },
        {
          "output_type": "stream",
          "name": "stderr",
          "text": [
            "\u001b[32m[I 2023-01-27 18:39:04,698]\u001b[0m Trial 25 finished with value: 1.0 and parameters: {'learning_rate': 0.0009639687528954852, 'optimizer': 'RMSprop', 'n_layers': 2, 'drop_rate': 0.20318557998039188, 'hidden_size': 55, 'n_epochs': 4}. Best is trial 0 with value: 1.0.\u001b[0m\n"
          ]
        },
        {
          "output_type": "stream",
          "name": "stdout",
          "text": [
            "Epoch 4/4 \t loss=0.0667 \t val_loss=0.0547  \t val_acc=1.0000  \t time=0.22s\n"
          ]
        },
        {
          "output_type": "stream",
          "name": "stderr",
          "text": [
            "<ipython-input-32-05268f7b54a5>:4: FutureWarning: suggest_loguniform has been deprecated in v3.0.0. This feature will be removed in v6.0.0. See https://github.com/optuna/optuna/releases/tag/v3.0.0. Use :func:`~optuna.trial.Trial.suggest_float` instead.\n",
            "  'learning_rate': trial.suggest_loguniform('learning_rate', 1e-5, 1e-2),\n",
            "<ipython-input-28-14f87c8d90ff>:69: UserWarning: Implicit dimension choice for softmax has been deprecated. Change the call to include dim=X as an argument.\n",
            "  val_preds[i * batch_size:(i+1) * batch_size] =F.softmax(y_pred).cpu().numpy()\n"
          ]
        },
        {
          "output_type": "stream",
          "name": "stdout",
          "text": [
            "Epoch 1/5 \t loss=9.9166 \t val_loss=6.4392  \t val_acc=0.8870  \t time=0.22s\n",
            "Epoch 2/5 \t loss=3.9005 \t val_loss=1.4076  \t val_acc=0.9739  \t time=0.23s\n",
            "Epoch 3/5 \t loss=0.8836 \t val_loss=0.4387  \t val_acc=0.9913  \t time=0.23s\n",
            "Epoch 4/5 \t loss=0.9604 \t val_loss=0.6484  \t val_acc=0.9913  \t time=0.23s\n"
          ]
        },
        {
          "output_type": "stream",
          "name": "stderr",
          "text": [
            "\u001b[32m[I 2023-01-27 18:39:05,898]\u001b[0m Trial 26 finished with value: 1.0 and parameters: {'learning_rate': 0.0004546002638307066, 'optimizer': 'RMSprop', 'n_layers': 1, 'drop_rate': 0.16235729638688362, 'hidden_size': 64, 'n_epochs': 5}. Best is trial 0 with value: 1.0.\u001b[0m\n"
          ]
        },
        {
          "output_type": "stream",
          "name": "stdout",
          "text": [
            "Epoch 5/5 \t loss=0.2503 \t val_loss=0.1942  \t val_acc=1.0000  \t time=0.23s\n"
          ]
        },
        {
          "output_type": "stream",
          "name": "stderr",
          "text": [
            "<ipython-input-32-05268f7b54a5>:4: FutureWarning: suggest_loguniform has been deprecated in v3.0.0. This feature will be removed in v6.0.0. See https://github.com/optuna/optuna/releases/tag/v3.0.0. Use :func:`~optuna.trial.Trial.suggest_float` instead.\n",
            "  'learning_rate': trial.suggest_loguniform('learning_rate', 1e-5, 1e-2),\n",
            "<ipython-input-28-14f87c8d90ff>:69: UserWarning: Implicit dimension choice for softmax has been deprecated. Change the call to include dim=X as an argument.\n",
            "  val_preds[i * batch_size:(i+1) * batch_size] =F.softmax(y_pred).cpu().numpy()\n"
          ]
        },
        {
          "output_type": "stream",
          "name": "stdout",
          "text": [
            "Epoch 1/7 \t loss=10.6358 \t val_loss=8.8028  \t val_acc=0.8348  \t time=0.33s\n",
            "Epoch 2/7 \t loss=7.8822 \t val_loss=5.3370  \t val_acc=0.9478  \t time=0.33s\n",
            "Epoch 3/7 \t loss=3.5452 \t val_loss=2.2592  \t val_acc=0.9565  \t time=0.34s\n",
            "Epoch 4/7 \t loss=1.2997 \t val_loss=1.2980  \t val_acc=0.9652  \t time=0.33s\n",
            "Epoch 5/7 \t loss=0.6413 \t val_loss=0.5532  \t val_acc=1.0000  \t time=0.34s\n",
            "Epoch 6/7 \t loss=0.4753 \t val_loss=0.3407  \t val_acc=1.0000  \t time=0.35s\n"
          ]
        },
        {
          "output_type": "stream",
          "name": "stderr",
          "text": [
            "\u001b[32m[I 2023-01-27 18:39:08,323]\u001b[0m Trial 27 finished with value: 1.0 and parameters: {'learning_rate': 0.0001913492445908548, 'optimizer': 'RMSprop', 'n_layers': 2, 'drop_rate': 0.24638512059015633, 'hidden_size': 93, 'n_epochs': 7}. Best is trial 0 with value: 1.0.\u001b[0m\n"
          ]
        },
        {
          "output_type": "stream",
          "name": "stdout",
          "text": [
            "Epoch 7/7 \t loss=0.3024 \t val_loss=0.3413  \t val_acc=1.0000  \t time=0.34s\n"
          ]
        },
        {
          "output_type": "stream",
          "name": "stderr",
          "text": [
            "<ipython-input-32-05268f7b54a5>:4: FutureWarning: suggest_loguniform has been deprecated in v3.0.0. This feature will be removed in v6.0.0. See https://github.com/optuna/optuna/releases/tag/v3.0.0. Use :func:`~optuna.trial.Trial.suggest_float` instead.\n",
            "  'learning_rate': trial.suggest_loguniform('learning_rate', 1e-5, 1e-2),\n",
            "<ipython-input-28-14f87c8d90ff>:69: UserWarning: Implicit dimension choice for softmax has been deprecated. Change the call to include dim=X as an argument.\n",
            "  val_preds[i * batch_size:(i+1) * batch_size] =F.softmax(y_pred).cpu().numpy()\n"
          ]
        },
        {
          "output_type": "stream",
          "name": "stdout",
          "text": [
            "Epoch 1/8 \t loss=10.5349 \t val_loss=8.7290  \t val_acc=0.7652  \t time=0.34s\n",
            "Epoch 2/8 \t loss=5.9664 \t val_loss=1.7973  \t val_acc=0.9652  \t time=0.33s\n",
            "Epoch 3/8 \t loss=1.3109 \t val_loss=1.5502  \t val_acc=0.9478  \t time=0.34s\n",
            "Epoch 4/8 \t loss=0.2507 \t val_loss=0.2846  \t val_acc=0.9913  \t time=0.33s\n",
            "Epoch 5/8 \t loss=0.0615 \t val_loss=0.1243  \t val_acc=1.0000  \t time=0.33s\n",
            "Epoch 6/8 \t loss=0.0256 \t val_loss=0.1325  \t val_acc=1.0000  \t time=0.33s\n",
            "Epoch 7/8 \t loss=0.0221 \t val_loss=0.1070  \t val_acc=1.0000  \t time=0.34s\n"
          ]
        },
        {
          "output_type": "stream",
          "name": "stderr",
          "text": [
            "\u001b[32m[I 2023-01-27 18:39:11,106]\u001b[0m Trial 28 finished with value: 0.991304347826087 and parameters: {'learning_rate': 0.0009105771632330032, 'optimizer': 'Adam', 'n_layers': 1, 'drop_rate': 0.21087714601060692, 'hidden_size': 84, 'n_epochs': 8}. Best is trial 0 with value: 1.0.\u001b[0m\n"
          ]
        },
        {
          "output_type": "stream",
          "name": "stdout",
          "text": [
            "Epoch 8/8 \t loss=0.0147 \t val_loss=0.1289  \t val_acc=0.9913  \t time=0.34s\n"
          ]
        },
        {
          "output_type": "stream",
          "name": "stderr",
          "text": [
            "<ipython-input-32-05268f7b54a5>:4: FutureWarning: suggest_loguniform has been deprecated in v3.0.0. This feature will be removed in v6.0.0. See https://github.com/optuna/optuna/releases/tag/v3.0.0. Use :func:`~optuna.trial.Trial.suggest_float` instead.\n",
            "  'learning_rate': trial.suggest_loguniform('learning_rate', 1e-5, 1e-2),\n",
            "<ipython-input-28-14f87c8d90ff>:69: UserWarning: Implicit dimension choice for softmax has been deprecated. Change the call to include dim=X as an argument.\n",
            "  val_preds[i * batch_size:(i+1) * batch_size] =F.softmax(y_pred).cpu().numpy()\n"
          ]
        },
        {
          "output_type": "stream",
          "name": "stdout",
          "text": [
            "Epoch 1/6 \t loss=10.9788 \t val_loss=9.9293  \t val_acc=0.5043  \t time=0.25s\n",
            "Epoch 2/6 \t loss=10.9650 \t val_loss=9.9230  \t val_acc=0.5043  \t time=0.23s\n",
            "Epoch 3/6 \t loss=10.9663 \t val_loss=9.9175  \t val_acc=0.5043  \t time=0.22s\n",
            "Epoch 4/6 \t loss=10.9467 \t val_loss=9.9128  \t val_acc=0.5043  \t time=0.22s\n",
            "Epoch 5/6 \t loss=10.9295 \t val_loss=9.9082  \t val_acc=0.5043  \t time=0.22s\n"
          ]
        },
        {
          "output_type": "stream",
          "name": "stderr",
          "text": [
            "\u001b[32m[I 2023-01-27 18:39:12,575]\u001b[0m Trial 29 finished with value: 0.5043478260869565 and parameters: {'learning_rate': 0.0001465296237964403, 'optimizer': 'SGD', 'n_layers': 1, 'drop_rate': 0.14580669135036828, 'hidden_size': 55, 'n_epochs': 6}. Best is trial 0 with value: 1.0.\u001b[0m\n"
          ]
        },
        {
          "output_type": "stream",
          "name": "stdout",
          "text": [
            "Epoch 6/6 \t loss=10.9360 \t val_loss=9.9041  \t val_acc=0.5043  \t time=0.22s\n"
          ]
        },
        {
          "output_type": "stream",
          "name": "stderr",
          "text": [
            "<ipython-input-32-05268f7b54a5>:4: FutureWarning: suggest_loguniform has been deprecated in v3.0.0. This feature will be removed in v6.0.0. See https://github.com/optuna/optuna/releases/tag/v3.0.0. Use :func:`~optuna.trial.Trial.suggest_float` instead.\n",
            "  'learning_rate': trial.suggest_loguniform('learning_rate', 1e-5, 1e-2),\n",
            "<ipython-input-28-14f87c8d90ff>:69: UserWarning: Implicit dimension choice for softmax has been deprecated. Change the call to include dim=X as an argument.\n",
            "  val_preds[i * batch_size:(i+1) * batch_size] =F.softmax(y_pred).cpu().numpy()\n"
          ]
        },
        {
          "output_type": "stream",
          "name": "stdout",
          "text": [
            "Epoch 1/7 \t loss=10.9895 \t val_loss=9.8710  \t val_acc=0.5565  \t time=0.30s\n",
            "Epoch 2/7 \t loss=10.8356 \t val_loss=9.7658  \t val_acc=0.6435  \t time=0.29s\n",
            "Epoch 3/7 \t loss=10.6508 \t val_loss=9.6220  \t val_acc=0.9217  \t time=0.29s\n",
            "Epoch 4/7 \t loss=10.4090 \t val_loss=9.4279  \t val_acc=0.9304  \t time=0.29s\n",
            "Epoch 5/7 \t loss=10.1295 \t val_loss=9.1270  \t val_acc=0.9565  \t time=0.29s\n",
            "Epoch 6/7 \t loss=9.6615 \t val_loss=8.7034  \t val_acc=0.9304  \t time=0.29s\n"
          ]
        },
        {
          "output_type": "stream",
          "name": "stderr",
          "text": [
            "\u001b[32m[I 2023-01-27 18:39:14,689]\u001b[0m Trial 30 finished with value: 0.9652173913043478 and parameters: {'learning_rate': 9.179848329339065e-05, 'optimizer': 'Adam', 'n_layers': 2, 'drop_rate': 0.11721872850219077, 'hidden_size': 73, 'n_epochs': 7}. Best is trial 0 with value: 1.0.\u001b[0m\n"
          ]
        },
        {
          "output_type": "stream",
          "name": "stdout",
          "text": [
            "Epoch 7/7 \t loss=9.0134 \t val_loss=8.1017  \t val_acc=0.9652  \t time=0.29s\n"
          ]
        },
        {
          "output_type": "stream",
          "name": "stderr",
          "text": [
            "<ipython-input-32-05268f7b54a5>:4: FutureWarning: suggest_loguniform has been deprecated in v3.0.0. This feature will be removed in v6.0.0. See https://github.com/optuna/optuna/releases/tag/v3.0.0. Use :func:`~optuna.trial.Trial.suggest_float` instead.\n",
            "  'learning_rate': trial.suggest_loguniform('learning_rate', 1e-5, 1e-2),\n",
            "<ipython-input-28-14f87c8d90ff>:69: UserWarning: Implicit dimension choice for softmax has been deprecated. Change the call to include dim=X as an argument.\n",
            "  val_preds[i * batch_size:(i+1) * batch_size] =F.softmax(y_pred).cpu().numpy()\n"
          ]
        },
        {
          "output_type": "stream",
          "name": "stdout",
          "text": [
            "Epoch 1/6 \t loss=7.0019 \t val_loss=1.2365  \t val_acc=0.9739  \t time=0.55s\n",
            "Epoch 2/6 \t loss=0.5633 \t val_loss=0.1132  \t val_acc=1.0000  \t time=0.56s\n",
            "Epoch 3/6 \t loss=0.0748 \t val_loss=0.0373  \t val_acc=1.0000  \t time=0.56s\n",
            "Epoch 4/6 \t loss=0.0280 \t val_loss=0.0165  \t val_acc=1.0000  \t time=0.55s\n",
            "Epoch 5/6 \t loss=0.0167 \t val_loss=0.0143  \t val_acc=1.0000  \t time=0.56s\n"
          ]
        },
        {
          "output_type": "stream",
          "name": "stderr",
          "text": [
            "\u001b[32m[I 2023-01-27 18:39:18,065]\u001b[0m Trial 31 finished with value: 1.0 and parameters: {'learning_rate': 0.0012456841397419237, 'optimizer': 'RMSprop', 'n_layers': 1, 'drop_rate': 0.24722984664441205, 'hidden_size': 104, 'n_epochs': 6}. Best is trial 0 with value: 1.0.\u001b[0m\n"
          ]
        },
        {
          "output_type": "stream",
          "name": "stdout",
          "text": [
            "Epoch 6/6 \t loss=0.0122 \t val_loss=0.0075  \t val_acc=1.0000  \t time=0.55s\n"
          ]
        },
        {
          "output_type": "stream",
          "name": "stderr",
          "text": [
            "<ipython-input-32-05268f7b54a5>:4: FutureWarning: suggest_loguniform has been deprecated in v3.0.0. This feature will be removed in v6.0.0. See https://github.com/optuna/optuna/releases/tag/v3.0.0. Use :func:`~optuna.trial.Trial.suggest_float` instead.\n",
            "  'learning_rate': trial.suggest_loguniform('learning_rate', 1e-5, 1e-2),\n",
            "<ipython-input-28-14f87c8d90ff>:69: UserWarning: Implicit dimension choice for softmax has been deprecated. Change the call to include dim=X as an argument.\n",
            "  val_preds[i * batch_size:(i+1) * batch_size] =F.softmax(y_pred).cpu().numpy()\n"
          ]
        },
        {
          "output_type": "stream",
          "name": "stdout",
          "text": [
            "Epoch 1/5 \t loss=8.1246 \t val_loss=2.7090  \t val_acc=0.9913  \t time=0.57s\n",
            "Epoch 2/5 \t loss=1.1607 \t val_loss=0.4821  \t val_acc=1.0000  \t time=0.58s\n",
            "Epoch 3/5 \t loss=0.1813 \t val_loss=0.2124  \t val_acc=1.0000  \t time=0.57s\n",
            "Epoch 4/5 \t loss=1.8677 \t val_loss=0.4635  \t val_acc=0.9913  \t time=0.58s\n"
          ]
        },
        {
          "output_type": "stream",
          "name": "stderr",
          "text": [
            "\u001b[32m[I 2023-01-27 18:39:20,996]\u001b[0m Trial 32 finished with value: 0.991304347826087 and parameters: {'learning_rate': 0.0006771183470107325, 'optimizer': 'RMSprop', 'n_layers': 1, 'drop_rate': 0.26005429187694745, 'hidden_size': 101, 'n_epochs': 5}. Best is trial 0 with value: 1.0.\u001b[0m\n"
          ]
        },
        {
          "output_type": "stream",
          "name": "stdout",
          "text": [
            "Epoch 5/5 \t loss=0.1575 \t val_loss=0.3043  \t val_acc=0.9913  \t time=0.58s\n"
          ]
        },
        {
          "output_type": "stream",
          "name": "stderr",
          "text": [
            "<ipython-input-32-05268f7b54a5>:4: FutureWarning: suggest_loguniform has been deprecated in v3.0.0. This feature will be removed in v6.0.0. See https://github.com/optuna/optuna/releases/tag/v3.0.0. Use :func:`~optuna.trial.Trial.suggest_float` instead.\n",
            "  'learning_rate': trial.suggest_loguniform('learning_rate', 1e-5, 1e-2),\n",
            "<ipython-input-28-14f87c8d90ff>:69: UserWarning: Implicit dimension choice for softmax has been deprecated. Change the call to include dim=X as an argument.\n",
            "  val_preds[i * batch_size:(i+1) * batch_size] =F.softmax(y_pred).cpu().numpy()\n"
          ]
        },
        {
          "output_type": "stream",
          "name": "stdout",
          "text": [
            "Epoch 1/6 \t loss=7.5124 \t val_loss=2.2274  \t val_acc=0.9391  \t time=0.57s\n",
            "Epoch 2/6 \t loss=0.5612 \t val_loss=0.1871  \t val_acc=1.0000  \t time=0.58s\n",
            "Epoch 3/6 \t loss=0.0719 \t val_loss=0.1147  \t val_acc=1.0000  \t time=0.57s\n",
            "Epoch 4/6 \t loss=0.0321 \t val_loss=0.0977  \t val_acc=1.0000  \t time=0.57s\n",
            "Epoch 5/6 \t loss=0.0200 \t val_loss=0.0829  \t val_acc=1.0000  \t time=0.57s\n"
          ]
        },
        {
          "output_type": "stream",
          "name": "stderr",
          "text": [
            "\u001b[32m[I 2023-01-27 18:39:24,504]\u001b[0m Trial 33 finished with value: 1.0 and parameters: {'learning_rate': 0.0015037491327109407, 'optimizer': 'RMSprop', 'n_layers': 1, 'drop_rate': 0.28764939914848126, 'hidden_size': 112, 'n_epochs': 6}. Best is trial 0 with value: 1.0.\u001b[0m\n"
          ]
        },
        {
          "output_type": "stream",
          "name": "stdout",
          "text": [
            "Epoch 6/6 \t loss=0.0417 \t val_loss=0.0704  \t val_acc=1.0000  \t time=0.58s\n"
          ]
        },
        {
          "output_type": "stream",
          "name": "stderr",
          "text": [
            "<ipython-input-32-05268f7b54a5>:4: FutureWarning: suggest_loguniform has been deprecated in v3.0.0. This feature will be removed in v6.0.0. See https://github.com/optuna/optuna/releases/tag/v3.0.0. Use :func:`~optuna.trial.Trial.suggest_float` instead.\n",
            "  'learning_rate': trial.suggest_loguniform('learning_rate', 1e-5, 1e-2),\n",
            "<ipython-input-28-14f87c8d90ff>:69: UserWarning: Implicit dimension choice for softmax has been deprecated. Change the call to include dim=X as an argument.\n",
            "  val_preds[i * batch_size:(i+1) * batch_size] =F.softmax(y_pred).cpu().numpy()\n"
          ]
        },
        {
          "output_type": "stream",
          "name": "stdout",
          "text": [
            "Epoch 1/2 \t loss=11.0626 \t val_loss=10.0396  \t val_acc=0.4957  \t time=0.32s\n"
          ]
        },
        {
          "output_type": "stream",
          "name": "stderr",
          "text": [
            "\u001b[32m[I 2023-01-27 18:39:25,204]\u001b[0m Trial 34 finished with value: 0.4956521739130435 and parameters: {'learning_rate': 0.00029054082351821325, 'optimizer': 'SGD', 'n_layers': 2, 'drop_rate': 0.19043059230381035, 'hidden_size': 96, 'n_epochs': 2}. Best is trial 0 with value: 1.0.\u001b[0m\n"
          ]
        },
        {
          "output_type": "stream",
          "name": "stdout",
          "text": [
            "Epoch 2/2 \t loss=11.0258 \t val_loss=10.0195  \t val_acc=0.4957  \t time=0.32s\n",
            "learning_rate: 0.00013925406894987598\n",
            "optimizer: RMSprop\n",
            "n_layers: 1\n",
            "drop_rate: 0.3133126915599974\n",
            "hidden_size: 92\n",
            "n_epochs: 7\n"
          ]
        }
      ]
    },
    {
      "cell_type": "code",
      "source": [],
      "metadata": {
        "id": "_ySqZwhXKljL"
      },
      "execution_count": null,
      "outputs": []
    },
    {
      "cell_type": "markdown",
      "source": [
        "Declaring the best parameters"
      ],
      "metadata": {
        "id": "Qkc5oBj2Btgr"
      }
    },
    {
      "cell_type": "code",
      "source": [
        "best_params = {\n",
        "    'learning_rate': 0.00013925406894987598,\n",
        " 'optimizer': 'RMSprop',\n",
        " 'n_layers': 1,\n",
        " 'drop_rate': 0.3133126915599974,\n",
        " 'hidden_size': 92,\n",
        " 'n_epochs': 7\n",
        "}\n",
        "\n",
        "# best_trial.params"
      ],
      "metadata": {
        "id": "M0eQ2wDwUq-N"
      },
      "execution_count": null,
      "outputs": []
    },
    {
      "cell_type": "markdown",
      "source": [
        "Training and testing the model with the best parameters got from hyper parameter tuning on the full training data"
      ],
      "metadata": {
        "id": "wPOzJRCwBvkv"
      }
    },
    {
      "cell_type": "code",
      "source": [
        "full_train_X = full_train['Statement'] # Full train to be used only after hyper parameter tuning\n",
        "# full_train_Y = full_train['Measurement']\n",
        "# full_train_Y = full_train['Time Constraint']\n",
        "# full_train_Y = full_train['Data Definition']\n",
        "full_train_Y = full_train['Data Action']\n",
        "# full_train_Y = full_train['Convention']\n",
        "\n",
        "test_X = sep_test['Statement']\n",
        "# test_Y = sep_test['Measurement']\n",
        "# test_Y = sep_test['Data Definition']\n",
        "test_Y = sep_test['Data Action']\n",
        "# test_Y = sep_test['Convention']\n",
        "# test_Y = sep_test['Time Constraint']\n",
        "\n",
        "## Tokenize the sentences\n",
        "tokenizer = Tokenizer(num_words=max_features)\n",
        "tokenizer.fit_on_texts(list(full_train_X))\n",
        "full_train_X = tokenizer.texts_to_sequences(full_train_X)\n",
        "test_X = tokenizer.texts_to_sequences(test_X)\n",
        "\n",
        "## Pad the sentences \n",
        "full_train_X = pad_sequences(full_train_X, maxlen=maxlen)\n",
        "test_X = pad_sequences(test_X, maxlen=maxlen)\n",
        "\n",
        "le = LabelEncoder()\n",
        "full_train_Y = le.fit_transform(full_train_Y.values)\n",
        "test_Y = le.transform(test_Y.values)## Tokenize the sentences\n",
        "\n",
        "if debug:\n",
        "    embedding_matrix = np.random.randn(12000,300)\n",
        "else:\n",
        "    embedding_matrix = load_glove(tokenizer.word_index)\n",
        "train_on_full_data(best_params)\n",
        "# train_and_validate(best_params)"
      ],
      "metadata": {
        "colab": {
          "base_uri": "https://localhost:8080/"
        },
        "id": "CWLCaHIYai3u",
        "outputId": "5a2fc566-ecf0-488f-cea0-b90c95e99aa5"
      },
      "execution_count": null,
      "outputs": [
        {
          "output_type": "stream",
          "name": "stderr",
          "text": [
            "/usr/local/lib/python3.8/dist-packages/IPython/core/interactiveshell.py:3326: FutureWarning: arrays to stack must be passed as a \"sequence\" type such as list or tuple. Support for non-sequence iterables such as generators is deprecated as of NumPy 1.16 and will raise an error in the future.\n",
            "  exec(code_obj, self.user_global_ns, self.user_ns)\n"
          ]
        },
        {
          "output_type": "stream",
          "name": "stdout",
          "text": [
            "Epoch 1/7 \t loss=10.2822 \t time=1.81s\n",
            "Epoch 2/7 \t loss=6.2248 \t time=0.60s\n",
            "Epoch 3/7 \t loss=2.3177 \t time=0.60s\n",
            "Epoch 4/7 \t loss=1.6915 \t time=0.60s\n",
            "Epoch 5/7 \t loss=1.1279 \t time=0.60s\n",
            "Epoch 6/7 \t loss=0.7485 \t time=0.60s\n",
            "Epoch 7/7 \t loss=0.5712 \t time=0.61s\n",
            "                 precision    recall  f1-score   support\n",
            "\n",
            "not_Data Action       1.00      0.97      0.98       115\n",
            "    Data Action       0.56      1.00      0.71         5\n",
            "\n",
            "       accuracy                           0.97       120\n",
            "      macro avg       0.78      0.98      0.85       120\n",
            "   weighted avg       0.98      0.97      0.97       120\n",
            "\n"
          ]
        },
        {
          "output_type": "stream",
          "name": "stderr",
          "text": [
            "<ipython-input-24-0e9a28fb5bfd>:15: UserWarning: Implicit dimension choice for softmax has been deprecated. Change the call to include dim=X as an argument.\n",
            "  test_preds[i * batch_size:(i+1) * batch_size] =F.softmax(y_pred).cpu().numpy()\n"
          ]
        },
        {
          "output_type": "execute_result",
          "data": {
            "text/plain": [
              "0.9666666666666667"
            ]
          },
          "metadata": {},
          "execution_count": 28
        }
      ]
    },
    {
      "cell_type": "code",
      "source": [],
      "metadata": {
        "id": "KrJr0NNqPwZS"
      },
      "execution_count": null,
      "outputs": []
    },
    {
      "cell_type": "code",
      "execution_count": null,
      "metadata": {
        "colab": {
          "base_uri": "https://localhost:8080/"
        },
        "id": "XCXj797lv25n",
        "outputId": "a2a447eb-af89-4566-f075-85a8b259995a"
      },
      "outputs": [
        {
          "name": "stdout",
          "output_type": "stream",
          "text": [
            "1.0\n"
          ]
        },
        {
          "name": "stderr",
          "output_type": "stream",
          "text": [
            "/usr/local/lib/python3.7/dist-packages/ipykernel_launcher.py:4: UserWarning: Implicit dimension choice for softmax has been deprecated. Change the call to include dim=X as an argument.\n",
            "  after removing the cwd from sys.path.\n"
          ]
        }
      ],
      "source": [
        "\n",
        "\n",
        "for i, (x_batch, y_batch) in enumerate(valid_loader):\n",
        "      y_pred = model(x_batch).detach()\n",
        "      avg_val_loss += loss_fn(y_pred, y_batch).item() / len(valid_loader)\n",
        "      val_preds[i * batch_size:(i+1) * batch_size] =F.softmax(y_pred).cpu().numpy()\n",
        "val_accuracy = sum(val_preds.argmax(axis=1)==val_Y)/len(val_Y)\n",
        "print(val_accuracy)\n",
        "  \n"
      ]
    },
    {
      "cell_type": "code",
      "execution_count": null,
      "metadata": {
        "id": "RphV-xjz6FS3"
      },
      "outputs": [],
      "source": [
        "def plot_graph(epochs):\n",
        "    fig = plt.figure(figsize=(12,12))\n",
        "    plt.title(\"Train/Validation Loss\")\n",
        "    plt.plot(list(np.arange(epochs) + 1) , train_loss, label='train')\n",
        "    plt.plot(list(np.arange(epochs) + 1), valid_loss, label='validation')\n",
        "    plt.xlabel('num_epochs', fontsize=12)\n",
        "    plt.ylabel('loss', fontsize=12)\n",
        "    plt.legend(loc='best')"
      ]
    },
    {
      "cell_type": "code",
      "execution_count": null,
      "metadata": {
        "id": "Tk6ZTW2EtrhK"
      },
      "outputs": [],
      "source": [
        "plot_graph(n_epochs)"
      ]
    },
    {
      "cell_type": "code",
      "execution_count": null,
      "metadata": {
        "id": "sNoYqVPBtrhK"
      },
      "outputs": [],
      "source": [
        "torch.save(model,'checkpoints/bilstm_Convention_RE')"
      ]
    },
    {
      "cell_type": "markdown",
      "metadata": {
        "id": "EXG9_-XotrhK"
      },
      "source": [
        "## Deploy : Predict A Single Example"
      ]
    },
    {
      "cell_type": "code",
      "execution_count": null,
      "metadata": {
        "id": "88-WPyMNvCjR"
      },
      "outputs": [],
      "source": [
        "def predict_single(x):    \n",
        "    # lower the text\n",
        "    # x = x.lower()\n",
        "    # Clean the text\n",
        "    # x =  clean_text(x)\n",
        "    # Clean numbers\n",
        "    # x =  clean_numbers(x)\n",
        "    # Clean Contractions\n",
        "    # x = replace_contractions(x)\n",
        "    # tokenize\n",
        "    x = tokenizer.texts_to_sequences([x])\n",
        "    # pad\n",
        "    x = pad_sequences(x, maxlen=maxlen)\n",
        "    # create dataset\n",
        "    x = torch.tensor(x, dtype=torch.long).cuda()\n",
        "\n",
        "    pred = model(x).detach()\n",
        "    pred = F.softmax(pred).cpu().numpy()\n",
        "\n",
        "    pred = pred.argmax(axis=1)\n",
        "\n",
        "    pred = le.classes_[pred]\n",
        "    return pred[0]"
      ]
    },
    {
      "cell_type": "code",
      "execution_count": null,
      "metadata": {
        "colab": {
          "base_uri": "https://localhost:8080/"
        },
        "id": "H_CRoPZhEfui",
        "outputId": "a58e71ad-6b51-4c95-d6c3-4ff3cbce457d"
      },
      "outputs": [
        {
          "data": {
            "text/plain": [
              "array([0., 1.])"
            ]
          },
          "execution_count": 59,
          "metadata": {},
          "output_type": "execute_result"
        }
      ],
      "source": [
        "le.classes_"
      ]
    },
    {
      "cell_type": "code",
      "execution_count": null,
      "metadata": {
        "id": "vstQwIGrHUdE"
      },
      "outputs": [],
      "source": []
    },
    {
      "cell_type": "markdown",
      "metadata": {
        "id": "bMvaOjKtqv02"
      },
      "source": [
        "### Cross Validation"
      ]
    },
    {
      "cell_type": "code",
      "execution_count": null,
      "metadata": {
        "colab": {
          "base_uri": "https://localhost:8080/"
        },
        "id": "_g70Kp3thvBW",
        "outputId": "e6ca4bf6-e9bd-4c5a-a7c2-6437931b1249"
      },
      "outputs": [
        {
          "output_type": "stream",
          "name": "stderr",
          "text": [
            "<ipython-input-81-c3ceede7e8d3>:77: UserWarning: Implicit dimension choice for softmax has been deprecated. Change the call to include dim=X as an argument.\n",
            "  val_preds[i * batch_size:(i+1) * batch_size] =F.softmax(y_pred).cpu().numpy()\n"
          ]
        },
        {
          "output_type": "stream",
          "name": "stdout",
          "text": [
            "Epoch 1/5 \t loss=8.1638 \t val_loss=6.3264  \t val_acc=0.7843  \t time=0.35s\n",
            "Epoch 2/5 \t loss=7.2697 \t val_loss=4.9493  \t val_acc=0.7843  \t time=0.24s\n",
            "Epoch 3/5 \t loss=4.7948 \t val_loss=2.7889  \t val_acc=0.9216  \t time=0.23s\n",
            "Epoch 4/5 \t loss=3.3703 \t val_loss=2.3698  \t val_acc=0.9608  \t time=0.23s\n",
            "Epoch 5/5 \t loss=2.7503 \t val_loss=2.0195  \t val_acc=1.0000  \t time=0.23s\n",
            "Report for fold  1\n",
            "                 precision    recall  f1-score   support\n",
            "\n",
            "not_Measurement       1.00      1.00      1.00        40\n",
            "    Measurement       1.00      1.00      1.00        11\n",
            "\n",
            "       accuracy                           1.00        51\n",
            "      macro avg       1.00      1.00      1.00        51\n",
            "   weighted avg       1.00      1.00      1.00        51\n",
            "\n"
          ]
        },
        {
          "output_type": "stream",
          "name": "stderr",
          "text": [
            "<ipython-input-81-c3ceede7e8d3>:90: UserWarning: Implicit dimension choice for softmax has been deprecated. Change the call to include dim=X as an argument.\n",
            "  val_preds[i * batch_size:(i+1) * batch_size] =F.softmax(y_pred).cpu().numpy()\n",
            "/usr/local/lib/python3.8/dist-packages/IPython/core/interactiveshell.py:3326: FutureWarning: arrays to stack must be passed as a \"sequence\" type such as list or tuple. Support for non-sequence iterables such as generators is deprecated as of NumPy 1.16 and will raise an error in the future.\n",
            "  exec(code_obj, self.user_global_ns, self.user_ns)\n",
            "<ipython-input-81-c3ceede7e8d3>:77: UserWarning: Implicit dimension choice for softmax has been deprecated. Change the call to include dim=X as an argument.\n",
            "  val_preds[i * batch_size:(i+1) * batch_size] =F.softmax(y_pred).cpu().numpy()\n"
          ]
        },
        {
          "output_type": "stream",
          "name": "stdout",
          "text": [
            "Epoch 1/5 \t loss=8.3457 \t val_loss=5.8447  \t val_acc=0.8235  \t time=0.33s\n",
            "Epoch 2/5 \t loss=7.3537 \t val_loss=4.2357  \t val_acc=0.8235  \t time=0.24s\n",
            "Epoch 3/5 \t loss=4.3791 \t val_loss=2.4990  \t val_acc=0.9412  \t time=0.23s\n",
            "Epoch 4/5 \t loss=2.7404 \t val_loss=2.8691  \t val_acc=0.9020  \t time=0.23s\n",
            "Epoch 5/5 \t loss=2.1162 \t val_loss=2.9645  \t val_acc=0.9216  \t time=0.23s\n",
            "Report for fold  2\n",
            "                 precision    recall  f1-score   support\n",
            "\n",
            "not_Measurement       1.00      0.90      0.95        42\n",
            "    Measurement       0.69      1.00      0.82         9\n",
            "\n",
            "       accuracy                           0.92        51\n",
            "      macro avg       0.85      0.95      0.88        51\n",
            "   weighted avg       0.95      0.92      0.93        51\n",
            "\n"
          ]
        },
        {
          "output_type": "stream",
          "name": "stderr",
          "text": [
            "<ipython-input-81-c3ceede7e8d3>:90: UserWarning: Implicit dimension choice for softmax has been deprecated. Change the call to include dim=X as an argument.\n",
            "  val_preds[i * batch_size:(i+1) * batch_size] =F.softmax(y_pred).cpu().numpy()\n",
            "/usr/local/lib/python3.8/dist-packages/IPython/core/interactiveshell.py:3326: FutureWarning: arrays to stack must be passed as a \"sequence\" type such as list or tuple. Support for non-sequence iterables such as generators is deprecated as of NumPy 1.16 and will raise an error in the future.\n",
            "  exec(code_obj, self.user_global_ns, self.user_ns)\n",
            "<ipython-input-81-c3ceede7e8d3>:77: UserWarning: Implicit dimension choice for softmax has been deprecated. Change the call to include dim=X as an argument.\n",
            "  val_preds[i * batch_size:(i+1) * batch_size] =F.softmax(y_pred).cpu().numpy()\n"
          ]
        },
        {
          "output_type": "stream",
          "name": "stdout",
          "text": [
            "Epoch 1/5 \t loss=8.0738 \t val_loss=7.0667  \t val_acc=0.7255  \t time=0.34s\n",
            "Epoch 2/5 \t loss=7.0566 \t val_loss=5.5424  \t val_acc=0.7255  \t time=0.23s\n",
            "Epoch 3/5 \t loss=4.6583 \t val_loss=2.7092  \t val_acc=0.9608  \t time=0.23s\n",
            "Epoch 4/5 \t loss=2.9801 \t val_loss=2.0203  \t val_acc=0.9608  \t time=0.23s\n",
            "Epoch 5/5 \t loss=1.5769 \t val_loss=1.8812  \t val_acc=0.9412  \t time=0.23s\n",
            "Report for fold  3\n",
            "                 precision    recall  f1-score   support\n",
            "\n",
            "not_Measurement       0.93      1.00      0.96        37\n",
            "    Measurement       1.00      0.79      0.88        14\n",
            "\n",
            "       accuracy                           0.94        51\n",
            "      macro avg       0.96      0.89      0.92        51\n",
            "   weighted avg       0.95      0.94      0.94        51\n",
            "\n"
          ]
        },
        {
          "output_type": "stream",
          "name": "stderr",
          "text": [
            "<ipython-input-81-c3ceede7e8d3>:90: UserWarning: Implicit dimension choice for softmax has been deprecated. Change the call to include dim=X as an argument.\n",
            "  val_preds[i * batch_size:(i+1) * batch_size] =F.softmax(y_pred).cpu().numpy()\n",
            "/usr/local/lib/python3.8/dist-packages/IPython/core/interactiveshell.py:3326: FutureWarning: arrays to stack must be passed as a \"sequence\" type such as list or tuple. Support for non-sequence iterables such as generators is deprecated as of NumPy 1.16 and will raise an error in the future.\n",
            "  exec(code_obj, self.user_global_ns, self.user_ns)\n",
            "<ipython-input-81-c3ceede7e8d3>:77: UserWarning: Implicit dimension choice for softmax has been deprecated. Change the call to include dim=X as an argument.\n",
            "  val_preds[i * batch_size:(i+1) * batch_size] =F.softmax(y_pred).cpu().numpy()\n"
          ]
        },
        {
          "output_type": "stream",
          "name": "stdout",
          "text": [
            "Epoch 1/5 \t loss=8.3816 \t val_loss=6.8190  \t val_acc=0.7600  \t time=0.36s\n",
            "Epoch 2/5 \t loss=7.5494 \t val_loss=5.7233  \t val_acc=0.7600  \t time=0.23s\n",
            "Epoch 3/5 \t loss=5.7001 \t val_loss=3.2028  \t val_acc=0.9200  \t time=0.23s\n",
            "Epoch 4/5 \t loss=3.3314 \t val_loss=2.1364  \t val_acc=0.9600  \t time=0.23s\n",
            "Epoch 5/5 \t loss=2.0373 \t val_loss=2.7032  \t val_acc=0.9400  \t time=0.23s\n",
            "Report for fold  4\n",
            "                 precision    recall  f1-score   support\n",
            "\n",
            "not_Measurement       0.93      1.00      0.96        38\n",
            "    Measurement       1.00      0.75      0.86        12\n",
            "\n",
            "       accuracy                           0.94        50\n",
            "      macro avg       0.96      0.88      0.91        50\n",
            "   weighted avg       0.94      0.94      0.94        50\n",
            "\n"
          ]
        },
        {
          "output_type": "stream",
          "name": "stderr",
          "text": [
            "<ipython-input-81-c3ceede7e8d3>:90: UserWarning: Implicit dimension choice for softmax has been deprecated. Change the call to include dim=X as an argument.\n",
            "  val_preds[i * batch_size:(i+1) * batch_size] =F.softmax(y_pred).cpu().numpy()\n",
            "/usr/local/lib/python3.8/dist-packages/IPython/core/interactiveshell.py:3326: FutureWarning: arrays to stack must be passed as a \"sequence\" type such as list or tuple. Support for non-sequence iterables such as generators is deprecated as of NumPy 1.16 and will raise an error in the future.\n",
            "  exec(code_obj, self.user_global_ns, self.user_ns)\n",
            "<ipython-input-81-c3ceede7e8d3>:77: UserWarning: Implicit dimension choice for softmax has been deprecated. Change the call to include dim=X as an argument.\n",
            "  val_preds[i * batch_size:(i+1) * batch_size] =F.softmax(y_pred).cpu().numpy()\n"
          ]
        },
        {
          "output_type": "stream",
          "name": "stdout",
          "text": [
            "Epoch 1/5 \t loss=8.4947 \t val_loss=5.8712  \t val_acc=0.8200  \t time=0.36s\n",
            "Epoch 2/5 \t loss=7.3656 \t val_loss=4.9614  \t val_acc=0.8200  \t time=0.23s\n",
            "Epoch 3/5 \t loss=4.9970 \t val_loss=3.0200  \t val_acc=0.9200  \t time=0.24s\n",
            "Epoch 4/5 \t loss=3.3636 \t val_loss=2.0022  \t val_acc=0.9400  \t time=0.23s\n",
            "Epoch 5/5 \t loss=2.0139 \t val_loss=1.3779  \t val_acc=0.9600  \t time=0.23s\n",
            "Report for fold  5\n",
            "                 precision    recall  f1-score   support\n",
            "\n",
            "not_Measurement       0.98      0.98      0.98        41\n",
            "    Measurement       0.89      0.89      0.89         9\n",
            "\n",
            "       accuracy                           0.96        50\n",
            "      macro avg       0.93      0.93      0.93        50\n",
            "   weighted avg       0.96      0.96      0.96        50\n",
            "\n"
          ]
        },
        {
          "output_type": "stream",
          "name": "stderr",
          "text": [
            "<ipython-input-81-c3ceede7e8d3>:90: UserWarning: Implicit dimension choice for softmax has been deprecated. Change the call to include dim=X as an argument.\n",
            "  val_preds[i * batch_size:(i+1) * batch_size] =F.softmax(y_pred).cpu().numpy()\n",
            "/usr/local/lib/python3.8/dist-packages/IPython/core/interactiveshell.py:3326: FutureWarning: arrays to stack must be passed as a \"sequence\" type such as list or tuple. Support for non-sequence iterables such as generators is deprecated as of NumPy 1.16 and will raise an error in the future.\n",
            "  exec(code_obj, self.user_global_ns, self.user_ns)\n",
            "<ipython-input-81-c3ceede7e8d3>:77: UserWarning: Implicit dimension choice for softmax has been deprecated. Change the call to include dim=X as an argument.\n",
            "  val_preds[i * batch_size:(i+1) * batch_size] =F.softmax(y_pred).cpu().numpy()\n"
          ]
        },
        {
          "output_type": "stream",
          "name": "stdout",
          "text": [
            "Epoch 1/5 \t loss=8.2074 \t val_loss=7.1011  \t val_acc=0.7400  \t time=0.36s\n",
            "Epoch 2/5 \t loss=7.3820 \t val_loss=6.2498  \t val_acc=0.7400  \t time=0.23s\n",
            "Epoch 3/5 \t loss=5.2373 \t val_loss=4.2713  \t val_acc=0.8400  \t time=0.24s\n",
            "Epoch 4/5 \t loss=3.4121 \t val_loss=3.1072  \t val_acc=0.8800  \t time=0.23s\n",
            "Epoch 5/5 \t loss=2.2592 \t val_loss=2.5426  \t val_acc=0.9600  \t time=0.24s\n",
            "Report for fold  6\n",
            "                 precision    recall  f1-score   support\n",
            "\n",
            "not_Measurement       0.97      0.97      0.97        37\n",
            "    Measurement       0.92      0.92      0.92        13\n",
            "\n",
            "       accuracy                           0.96        50\n",
            "      macro avg       0.95      0.95      0.95        50\n",
            "   weighted avg       0.96      0.96      0.96        50\n",
            "\n"
          ]
        },
        {
          "output_type": "stream",
          "name": "stderr",
          "text": [
            "<ipython-input-81-c3ceede7e8d3>:90: UserWarning: Implicit dimension choice for softmax has been deprecated. Change the call to include dim=X as an argument.\n",
            "  val_preds[i * batch_size:(i+1) * batch_size] =F.softmax(y_pred).cpu().numpy()\n",
            "/usr/local/lib/python3.8/dist-packages/IPython/core/interactiveshell.py:3326: FutureWarning: arrays to stack must be passed as a \"sequence\" type such as list or tuple. Support for non-sequence iterables such as generators is deprecated as of NumPy 1.16 and will raise an error in the future.\n",
            "  exec(code_obj, self.user_global_ns, self.user_ns)\n",
            "<ipython-input-81-c3ceede7e8d3>:77: UserWarning: Implicit dimension choice for softmax has been deprecated. Change the call to include dim=X as an argument.\n",
            "  val_preds[i * batch_size:(i+1) * batch_size] =F.softmax(y_pred).cpu().numpy()\n"
          ]
        },
        {
          "output_type": "stream",
          "name": "stdout",
          "text": [
            "Epoch 1/5 \t loss=8.5474 \t val_loss=6.5195  \t val_acc=0.7800  \t time=0.35s\n",
            "Epoch 2/5 \t loss=7.8741 \t val_loss=6.1371  \t val_acc=0.7800  \t time=0.24s\n",
            "Epoch 3/5 \t loss=5.6253 \t val_loss=5.7415  \t val_acc=0.8400  \t time=0.23s\n",
            "Epoch 4/5 \t loss=3.4667 \t val_loss=5.8010  \t val_acc=0.8400  \t time=0.23s\n",
            "Epoch 5/5 \t loss=2.9163 \t val_loss=4.3239  \t val_acc=0.8200  \t time=0.24s\n",
            "Report for fold  7\n",
            "                 precision    recall  f1-score   support\n",
            "\n",
            "not_Measurement       0.94      0.82      0.88        39\n",
            "    Measurement       0.56      0.82      0.67        11\n",
            "\n",
            "       accuracy                           0.82        50\n",
            "      macro avg       0.75      0.82      0.77        50\n",
            "   weighted avg       0.86      0.82      0.83        50\n",
            "\n"
          ]
        },
        {
          "output_type": "stream",
          "name": "stderr",
          "text": [
            "<ipython-input-81-c3ceede7e8d3>:90: UserWarning: Implicit dimension choice for softmax has been deprecated. Change the call to include dim=X as an argument.\n",
            "  val_preds[i * batch_size:(i+1) * batch_size] =F.softmax(y_pred).cpu().numpy()\n",
            "/usr/local/lib/python3.8/dist-packages/IPython/core/interactiveshell.py:3326: FutureWarning: arrays to stack must be passed as a \"sequence\" type such as list or tuple. Support for non-sequence iterables such as generators is deprecated as of NumPy 1.16 and will raise an error in the future.\n",
            "  exec(code_obj, self.user_global_ns, self.user_ns)\n",
            "<ipython-input-81-c3ceede7e8d3>:77: UserWarning: Implicit dimension choice for softmax has been deprecated. Change the call to include dim=X as an argument.\n",
            "  val_preds[i * batch_size:(i+1) * batch_size] =F.softmax(y_pred).cpu().numpy()\n"
          ]
        },
        {
          "output_type": "stream",
          "name": "stdout",
          "text": [
            "Epoch 1/5 \t loss=8.7049 \t val_loss=6.0340  \t val_acc=0.8200  \t time=0.35s\n",
            "Epoch 2/5 \t loss=7.8398 \t val_loss=5.2830  \t val_acc=0.8200  \t time=0.24s\n",
            "Epoch 3/5 \t loss=6.1478 \t val_loss=3.5225  \t val_acc=0.8200  \t time=0.23s\n",
            "Epoch 4/5 \t loss=4.2104 \t val_loss=3.4438  \t val_acc=0.9400  \t time=0.24s\n",
            "Epoch 5/5 \t loss=2.7975 \t val_loss=2.9831  \t val_acc=0.9400  \t time=0.24s\n",
            "Report for fold  8\n",
            "                 precision    recall  f1-score   support\n",
            "\n",
            "not_Measurement       0.93      1.00      0.96        41\n",
            "    Measurement       1.00      0.67      0.80         9\n",
            "\n",
            "       accuracy                           0.94        50\n",
            "      macro avg       0.97      0.83      0.88        50\n",
            "   weighted avg       0.94      0.94      0.94        50\n",
            "\n"
          ]
        },
        {
          "output_type": "stream",
          "name": "stderr",
          "text": [
            "<ipython-input-81-c3ceede7e8d3>:90: UserWarning: Implicit dimension choice for softmax has been deprecated. Change the call to include dim=X as an argument.\n",
            "  val_preds[i * batch_size:(i+1) * batch_size] =F.softmax(y_pred).cpu().numpy()\n",
            "/usr/local/lib/python3.8/dist-packages/IPython/core/interactiveshell.py:3326: FutureWarning: arrays to stack must be passed as a \"sequence\" type such as list or tuple. Support for non-sequence iterables such as generators is deprecated as of NumPy 1.16 and will raise an error in the future.\n",
            "  exec(code_obj, self.user_global_ns, self.user_ns)\n",
            "<ipython-input-81-c3ceede7e8d3>:77: UserWarning: Implicit dimension choice for softmax has been deprecated. Change the call to include dim=X as an argument.\n",
            "  val_preds[i * batch_size:(i+1) * batch_size] =F.softmax(y_pred).cpu().numpy()\n"
          ]
        },
        {
          "output_type": "stream",
          "name": "stdout",
          "text": [
            "Epoch 1/5 \t loss=8.7489 \t val_loss=5.8599  \t val_acc=0.8200  \t time=0.36s\n",
            "Epoch 2/5 \t loss=7.7609 \t val_loss=5.3737  \t val_acc=0.8200  \t time=0.24s\n",
            "Epoch 3/5 \t loss=5.9633 \t val_loss=3.3297  \t val_acc=0.9200  \t time=0.23s\n",
            "Epoch 4/5 \t loss=4.3127 \t val_loss=2.8522  \t val_acc=0.9000  \t time=0.23s\n",
            "Epoch 5/5 \t loss=2.8677 \t val_loss=2.0089  \t val_acc=0.9400  \t time=0.24s\n",
            "Report for fold  9\n",
            "                 precision    recall  f1-score   support\n",
            "\n",
            "not_Measurement       0.97      0.95      0.96        41\n",
            "    Measurement       0.80      0.89      0.84         9\n",
            "\n",
            "       accuracy                           0.94        50\n",
            "      macro avg       0.89      0.92      0.90        50\n",
            "   weighted avg       0.94      0.94      0.94        50\n",
            "\n"
          ]
        },
        {
          "output_type": "stream",
          "name": "stderr",
          "text": [
            "<ipython-input-81-c3ceede7e8d3>:90: UserWarning: Implicit dimension choice for softmax has been deprecated. Change the call to include dim=X as an argument.\n",
            "  val_preds[i * batch_size:(i+1) * batch_size] =F.softmax(y_pred).cpu().numpy()\n",
            "/usr/local/lib/python3.8/dist-packages/IPython/core/interactiveshell.py:3326: FutureWarning: arrays to stack must be passed as a \"sequence\" type such as list or tuple. Support for non-sequence iterables such as generators is deprecated as of NumPy 1.16 and will raise an error in the future.\n",
            "  exec(code_obj, self.user_global_ns, self.user_ns)\n",
            "<ipython-input-81-c3ceede7e8d3>:77: UserWarning: Implicit dimension choice for softmax has been deprecated. Change the call to include dim=X as an argument.\n",
            "  val_preds[i * batch_size:(i+1) * batch_size] =F.softmax(y_pred).cpu().numpy()\n"
          ]
        },
        {
          "output_type": "stream",
          "name": "stdout",
          "text": [
            "Epoch 1/5 \t loss=8.4672 \t val_loss=6.7574  \t val_acc=0.7600  \t time=0.36s\n",
            "Epoch 2/5 \t loss=7.7096 \t val_loss=6.0051  \t val_acc=0.7600  \t time=0.24s\n",
            "Epoch 3/5 \t loss=5.8864 \t val_loss=3.7866  \t val_acc=0.8600  \t time=0.22s\n",
            "Epoch 4/5 \t loss=3.7631 \t val_loss=2.4538  \t val_acc=0.9400  \t time=0.24s\n",
            "Epoch 5/5 \t loss=2.3121 \t val_loss=1.7204  \t val_acc=0.9400  \t time=0.24s\n",
            "Report for fold  10\n",
            "                 precision    recall  f1-score   support\n",
            "\n",
            "not_Measurement       0.93      1.00      0.96        38\n",
            "    Measurement       1.00      0.75      0.86        12\n",
            "\n",
            "       accuracy                           0.94        50\n",
            "      macro avg       0.96      0.88      0.91        50\n",
            "   weighted avg       0.94      0.94      0.94        50\n",
            "\n"
          ]
        },
        {
          "output_type": "stream",
          "name": "stderr",
          "text": [
            "<ipython-input-81-c3ceede7e8d3>:90: UserWarning: Implicit dimension choice for softmax has been deprecated. Change the call to include dim=X as an argument.\n",
            "  val_preds[i * batch_size:(i+1) * batch_size] =F.softmax(y_pred).cpu().numpy()\n"
          ]
        }
      ],
      "source": [
        "kf = KFold(n_splits=10, shuffle=True, random_state=42069)\n",
        "fold = 1\n",
        "\n",
        "for train_idx, val_idx in kf.split(data):\n",
        "  train_X = x_data[train_idx]\n",
        "  train_Y = y_data[train_idx]\n",
        "  val_X = x_data[val_idx]\n",
        "  val_Y = y_data[val_idx]\n",
        "\n",
        "  tokenizer = Tokenizer(num_words=max_features)\n",
        "  tokenizer.fit_on_texts(list(train_X))\n",
        "  train_X = tokenizer.texts_to_sequences(train_X)\n",
        "  val_X = tokenizer.texts_to_sequences(val_X)\n",
        "  \n",
        "  train_X = pad_sequences(train_X, maxlen=maxlen)\n",
        "  val_X = pad_sequences(val_X, maxlen=maxlen)\n",
        "\n",
        "  le = LabelEncoder()\n",
        "  train_Y = le.fit_transform(train_Y.values)\n",
        "  val_Y = le.transform(val_Y.values)\n",
        "\n",
        "  if debug:\n",
        "    embedding_matrix = np.random.randn(12000,300)\n",
        "  else:\n",
        "      embedding_matrix = load_glove(tokenizer.word_index)\n",
        "\n",
        "  n_epochs = 5\n",
        "  model = BiLSTM()\n",
        "  loss_fn = nn.CrossEntropyLoss(reduction='sum')\n",
        "  model.cuda()\n",
        "  optimizer = torch.optim.Adam(filter(lambda p: p.requires_grad, model.parameters()), lr=0.001)\n",
        "\n",
        "  # Load train and test in CUDA Memory\n",
        "  x_train = torch.tensor(train_X, dtype=torch.long).cuda()\n",
        "  y_train = torch.tensor(train_Y, dtype=torch.long).cuda()\n",
        "  x_cv = torch.tensor(val_X, dtype=torch.long).cuda()\n",
        "  y_cv = torch.tensor(val_Y, dtype=torch.long).cuda()\n",
        "\n",
        "  # Create Torch datasets\n",
        "  train = torch.utils.data.TensorDataset(x_train, y_train)\n",
        "  valid = torch.utils.data.TensorDataset(x_cv, y_cv)\n",
        "\n",
        "  # train = DatasetMaper(x_train, y_train)\n",
        "  # valid = DatasetMaper(x_cv, y_cv)\n",
        "\n",
        "  # Create Data Loaders\n",
        "  train_loader = torch.utils.data.DataLoader(train, batch_size=batch_size, shuffle=True)\n",
        "  valid_loader = torch.utils.data.DataLoader(valid, batch_size=batch_size, shuffle=False)\n",
        "\n",
        "  train_loss = []\n",
        "  valid_loss = []\n",
        "\n",
        "  for epoch in range(n_epochs):\n",
        "      start_time = time.time()\n",
        "      # Set model to train configuration\n",
        "      model.train()\n",
        "      avg_loss = 0.  \n",
        "      for i, (x_batch, y_batch) in enumerate(train_loader):\n",
        "          # Predict/Forward Pass\n",
        "          y_pred = model(x_batch)\n",
        "          # Compute loss\n",
        "          loss = loss_fn(y_pred, y_batch)\n",
        "          optimizer.zero_grad()\n",
        "          loss.backward()\n",
        "          optimizer.step()\n",
        "          avg_loss += loss.item() / len(train_loader)\n",
        "      \n",
        "      # Set model to validation configuration -Doesn't get trained here\n",
        "      model.eval()        \n",
        "      avg_val_loss = 0.\n",
        "      val_preds = np.zeros((len(x_cv),len(le.classes_)))\n",
        "      \n",
        "      for i, (x_batch, y_batch) in enumerate(valid_loader):\n",
        "          y_pred = model(x_batch).detach()\n",
        "          avg_val_loss += loss_fn(y_pred, y_batch).item() / len(valid_loader)\n",
        "          # keep/store predictions\n",
        "          val_preds[i * batch_size:(i+1) * batch_size] =F.softmax(y_pred).cpu().numpy()\n",
        "      \n",
        "      # Check Accuracy\n",
        "      val_accuracy = sum(val_preds.argmax(axis=1)==val_Y)/len(val_Y)\n",
        "      train_loss.append(avg_loss)\n",
        "      valid_loss.append(avg_val_loss)\n",
        "      elapsed_time = time.time() - start_time \n",
        "      print('Epoch {}/{} \\t loss={:.4f} \\t val_loss={:.4f}  \\t val_acc={:.4f}  \\t time={:.2f}s'.format(\n",
        "                  epoch + 1, n_epochs, avg_loss, avg_val_loss, val_accuracy, elapsed_time))\n",
        "  \n",
        "  for i, (x_batch, y_batch) in enumerate(valid_loader):\n",
        "      y_pred = model(x_batch).detach()\n",
        "      avg_val_loss += loss_fn(y_pred, y_batch).item() / len(valid_loader)\n",
        "      val_preds[i * batch_size:(i+1) * batch_size] =F.softmax(y_pred).cpu().numpy()\n",
        "  val_accuracy = sum(val_preds.argmax(axis=1)==val_Y)/len(val_Y)\n",
        "  print(\"Report for fold \",fold)\n",
        "  fold = fold + 1\n",
        "  print(classification_report(val_Y, val_preds.argmax(axis=1), target_names=['not_Measurement', 'Measurement']))"
      ]
    },
    {
      "cell_type": "code",
      "execution_count": null,
      "metadata": {
        "id": "o7DT4tJaCQ_R"
      },
      "outputs": [],
      "source": [
        "test_Y"
      ]
    },
    {
      "cell_type": "code",
      "execution_count": null,
      "metadata": {
        "id": "2wShuewmA7tJ"
      },
      "outputs": [],
      "source": []
    },
    {
      "cell_type": "code",
      "execution_count": null,
      "metadata": {
        "colab": {
          "base_uri": "https://localhost:8080/"
        },
        "id": "F9YhPw5wtrhL",
        "outputId": "9dba896b-cc67-42bb-fa59-26c59feaf816"
      },
      "outputs": [
        {
          "name": "stdout",
          "output_type": "stream",
          "text": [
            "and\n",
            "\n",
            "(b) a consumer prepackaged cheese that is packaged in Canada from imported bulk cheese for which a standard is set out in Volume 1 of the Standards of Identity Document.\n"
          ]
        }
      ],
      "source": [
        "x = sep_test['Statement'].values[1]\n",
        "print(x)"
      ]
    },
    {
      "cell_type": "code",
      "execution_count": null,
      "metadata": {
        "colab": {
          "base_uri": "https://localhost:8080/"
        },
        "id": "bp8AUWj5trhL",
        "outputId": "ca54b7ef-23e1-4875-c866-36ac480d825b"
      },
      "outputs": [
        {
          "name": "stdout",
          "output_type": "stream",
          "text": [
            "not_Measurement\n"
          ]
        },
        {
          "name": "stderr",
          "output_type": "stream",
          "text": [
            "/usr/local/lib/python3.7/dist-packages/ipykernel_launcher.py:18: UserWarning: Implicit dimension choice for softmax has been deprecated. Change the call to include dim=X as an argument.\n"
          ]
        }
      ],
      "source": [
        "print(label_indices[predict_single(x)])"
      ]
    },
    {
      "cell_type": "code",
      "execution_count": null,
      "metadata": {
        "colab": {
          "base_uri": "https://localhost:8080/"
        },
        "id": "bd2vcKPXtrhL",
        "outputId": "535874ab-cfb3-42d3-bb87-ffb49d1bfbc1"
      },
      "outputs": [
        {
          "data": {
            "text/plain": [
              "0.0"
            ]
          },
          "execution_count": 57,
          "metadata": {},
          "output_type": "execute_result"
        }
      ],
      "source": [
        " sep_test['Measurement'].values[18]"
      ]
    },
    {
      "cell_type": "code",
      "execution_count": null,
      "metadata": {
        "id": "Y_biganetrhL"
      },
      "outputs": [],
      "source": []
    },
    {
      "cell_type": "code",
      "execution_count": null,
      "metadata": {
        "id": "wo4jRViitrhM"
      },
      "outputs": [],
      "source": []
    },
    {
      "cell_type": "code",
      "execution_count": null,
      "metadata": {
        "id": "kvJXDrKgtrhM"
      },
      "outputs": [],
      "source": []
    },
    {
      "cell_type": "code",
      "execution_count": null,
      "metadata": {
        "id": "JOQD88a3trhM"
      },
      "outputs": [],
      "source": []
    }
  ],
  "metadata": {
    "accelerator": "GPU",
    "colab": {
      "collapsed_sections": [
        "XhfIhhgftrhH",
        "mpngGWcitrhI"
      ],
      "provenance": []
    },
    "gpuClass": "standard",
    "kernelspec": {
      "display_name": "Python [conda env:pyt]",
      "language": "python",
      "name": "python3"
    },
    "language_info": {
      "codemirror_mode": {
        "name": "ipython",
        "version": 3
      },
      "file_extension": ".py",
      "mimetype": "text/x-python",
      "name": "python",
      "nbconvert_exporter": "python",
      "pygments_lexer": "ipython3",
      "version": "3.6.6"
    }
  },
  "nbformat": 4,
  "nbformat_minor": 0
}